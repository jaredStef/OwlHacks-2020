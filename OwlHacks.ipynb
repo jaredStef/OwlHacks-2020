{
 "cells": [
  {
   "cell_type": "code",
   "execution_count": 1,
   "metadata": {},
   "outputs": [],
   "source": [
    "import numpy as np\n",
    "import pandas as pd\n",
    "import matplotlib.pyplot as plt\n",
    "import sklearn\n",
    "import datetime\n",
    "\n",
    "# load in data from csv\n",
    "data = pd.read_csv('~/Downloads/OwlHacks 2020 Submission/OwlHacks Proj/all.csv')"
   ]
  },
  {
   "cell_type": "code",
   "execution_count": 13,
   "metadata": {
    "pycharm": {
     "name": "#%%\n"
    }
   },
   "outputs": [
    {
     "ename": "FileNotFoundError",
     "evalue": "[Errno 2] No such file or directory: '/Users/jaredstef/Downloads/OwlHacks Proj/offense_rates.csv'",
     "output_type": "error",
     "traceback": [
      "\u001B[0;31m---------------------------------------------------------------------------\u001B[0m",
      "\u001B[0;31mFileNotFoundError\u001B[0m                         Traceback (most recent call last)",
      "\u001B[0;32m<ipython-input-13-e0b0192fb696>\u001B[0m in \u001B[0;36m<module>\u001B[0;34m\u001B[0m\n\u001B[1;32m     30\u001B[0m     \u001B[0mrates\u001B[0m\u001B[0;34m.\u001B[0m\u001B[0mappend\u001B[0m\u001B[0;34m(\u001B[0m\u001B[0mrate\u001B[0m\u001B[0;34m)\u001B[0m\u001B[0;34m\u001B[0m\u001B[0;34m\u001B[0m\u001B[0m\n\u001B[1;32m     31\u001B[0m \u001B[0;34m\u001B[0m\u001B[0m\n\u001B[0;32m---> 32\u001B[0;31m \u001B[0mpd\u001B[0m\u001B[0;34m.\u001B[0m\u001B[0mDataFrame\u001B[0m\u001B[0;34m(\u001B[0m\u001B[0;34m{\u001B[0m\u001B[0;34m'Offense'\u001B[0m\u001B[0;34m:\u001B[0m \u001B[0moffenses\u001B[0m\u001B[0;34m,\u001B[0m \u001B[0;34m'Rate'\u001B[0m\u001B[0;34m:\u001B[0m \u001B[0mrates\u001B[0m\u001B[0;34m}\u001B[0m\u001B[0;34m,\u001B[0m \u001B[0mcolumns\u001B[0m \u001B[0;34m=\u001B[0m \u001B[0;34m[\u001B[0m\u001B[0;34m'Offense'\u001B[0m\u001B[0;34m,\u001B[0m \u001B[0;34m'Rate'\u001B[0m\u001B[0;34m]\u001B[0m\u001B[0;34m)\u001B[0m\u001B[0;34m.\u001B[0m\u001B[0mto_csv\u001B[0m\u001B[0;34m(\u001B[0m\u001B[0;34m'~/Downloads/OwlHacks Proj/offense_rates.csv'\u001B[0m\u001B[0;34m)\u001B[0m\u001B[0;34m\u001B[0m\u001B[0;34m\u001B[0m\u001B[0m\n\u001B[0m\u001B[1;32m     33\u001B[0m \u001B[0;34m\u001B[0m\u001B[0m\n",
      "\u001B[0;32m/usr/local/lib/python3.7/site-packages/pandas/core/generic.py\u001B[0m in \u001B[0;36mto_csv\u001B[0;34m(self, path_or_buf, sep, na_rep, float_format, columns, header, index, index_label, mode, encoding, compression, quoting, quotechar, line_terminator, chunksize, date_format, doublequote, escapechar, decimal)\u001B[0m\n\u001B[1;32m   3202\u001B[0m             \u001B[0mdecimal\u001B[0m\u001B[0;34m=\u001B[0m\u001B[0mdecimal\u001B[0m\u001B[0;34m,\u001B[0m\u001B[0;34m\u001B[0m\u001B[0;34m\u001B[0m\u001B[0m\n\u001B[1;32m   3203\u001B[0m         )\n\u001B[0;32m-> 3204\u001B[0;31m         \u001B[0mformatter\u001B[0m\u001B[0;34m.\u001B[0m\u001B[0msave\u001B[0m\u001B[0;34m(\u001B[0m\u001B[0;34m)\u001B[0m\u001B[0;34m\u001B[0m\u001B[0;34m\u001B[0m\u001B[0m\n\u001B[0m\u001B[1;32m   3205\u001B[0m \u001B[0;34m\u001B[0m\u001B[0m\n\u001B[1;32m   3206\u001B[0m         \u001B[0;32mif\u001B[0m \u001B[0mpath_or_buf\u001B[0m \u001B[0;32mis\u001B[0m \u001B[0;32mNone\u001B[0m\u001B[0;34m:\u001B[0m\u001B[0;34m\u001B[0m\u001B[0;34m\u001B[0m\u001B[0m\n",
      "\u001B[0;32m/usr/local/lib/python3.7/site-packages/pandas/io/formats/csvs.py\u001B[0m in \u001B[0;36msave\u001B[0;34m(self)\u001B[0m\n\u001B[1;32m    186\u001B[0m                 \u001B[0mself\u001B[0m\u001B[0;34m.\u001B[0m\u001B[0mmode\u001B[0m\u001B[0;34m,\u001B[0m\u001B[0;34m\u001B[0m\u001B[0;34m\u001B[0m\u001B[0m\n\u001B[1;32m    187\u001B[0m                 \u001B[0mencoding\u001B[0m\u001B[0;34m=\u001B[0m\u001B[0mself\u001B[0m\u001B[0;34m.\u001B[0m\u001B[0mencoding\u001B[0m\u001B[0;34m,\u001B[0m\u001B[0;34m\u001B[0m\u001B[0;34m\u001B[0m\u001B[0m\n\u001B[0;32m--> 188\u001B[0;31m                 \u001B[0mcompression\u001B[0m\u001B[0;34m=\u001B[0m\u001B[0mdict\u001B[0m\u001B[0;34m(\u001B[0m\u001B[0mself\u001B[0m\u001B[0;34m.\u001B[0m\u001B[0mcompression_args\u001B[0m\u001B[0;34m,\u001B[0m \u001B[0mmethod\u001B[0m\u001B[0;34m=\u001B[0m\u001B[0mself\u001B[0m\u001B[0;34m.\u001B[0m\u001B[0mcompression\u001B[0m\u001B[0;34m)\u001B[0m\u001B[0;34m,\u001B[0m\u001B[0;34m\u001B[0m\u001B[0;34m\u001B[0m\u001B[0m\n\u001B[0m\u001B[1;32m    189\u001B[0m             )\n\u001B[1;32m    190\u001B[0m             \u001B[0mclose\u001B[0m \u001B[0;34m=\u001B[0m \u001B[0;32mTrue\u001B[0m\u001B[0;34m\u001B[0m\u001B[0;34m\u001B[0m\u001B[0m\n",
      "\u001B[0;32m/usr/local/lib/python3.7/site-packages/pandas/io/common.py\u001B[0m in \u001B[0;36mget_handle\u001B[0;34m(path_or_buf, mode, encoding, compression, memory_map, is_text)\u001B[0m\n\u001B[1;32m    426\u001B[0m         \u001B[0;32mif\u001B[0m \u001B[0mencoding\u001B[0m\u001B[0;34m:\u001B[0m\u001B[0;34m\u001B[0m\u001B[0;34m\u001B[0m\u001B[0m\n\u001B[1;32m    427\u001B[0m             \u001B[0;31m# Encoding\u001B[0m\u001B[0;34m\u001B[0m\u001B[0;34m\u001B[0m\u001B[0;34m\u001B[0m\u001B[0m\n\u001B[0;32m--> 428\u001B[0;31m             \u001B[0mf\u001B[0m \u001B[0;34m=\u001B[0m \u001B[0mopen\u001B[0m\u001B[0;34m(\u001B[0m\u001B[0mpath_or_buf\u001B[0m\u001B[0;34m,\u001B[0m \u001B[0mmode\u001B[0m\u001B[0;34m,\u001B[0m \u001B[0mencoding\u001B[0m\u001B[0;34m=\u001B[0m\u001B[0mencoding\u001B[0m\u001B[0;34m,\u001B[0m \u001B[0mnewline\u001B[0m\u001B[0;34m=\u001B[0m\u001B[0;34m\"\"\u001B[0m\u001B[0;34m)\u001B[0m\u001B[0;34m\u001B[0m\u001B[0;34m\u001B[0m\u001B[0m\n\u001B[0m\u001B[1;32m    429\u001B[0m         \u001B[0;32melif\u001B[0m \u001B[0mis_text\u001B[0m\u001B[0;34m:\u001B[0m\u001B[0;34m\u001B[0m\u001B[0;34m\u001B[0m\u001B[0m\n\u001B[1;32m    430\u001B[0m             \u001B[0;31m# No explicit encoding\u001B[0m\u001B[0;34m\u001B[0m\u001B[0;34m\u001B[0m\u001B[0;34m\u001B[0m\u001B[0m\n",
      "\u001B[0;31mFileNotFoundError\u001B[0m: [Errno 2] No such file or directory: '/Users/jaredstef/Downloads/OwlHacks Proj/offense_rates.csv'"
     ]
    }
   ],
   "source": [
    "# Parse offenses into a list of strings\n",
    "parsed_offenses = []\n",
    "for offense in data['offenses']:\n",
    "    unique_offenses = list(set(str(offense).replace('[', '').replace(']', '').replace('\\'', '').split(',')))\n",
    "    offenses_stripped = []\n",
    "\n",
    "    for o in unique_offenses:\n",
    "        offenses_stripped.append(o.lstrip())\n",
    "\n",
    "    parsed_offenses.append(offenses_stripped)\n",
    "\n",
    "data['offenses'] = parsed_offenses\n",
    "\n",
    "# Find and save frequency of offense type\n",
    "flat_offenses= [item for sublist in data['offenses'] for item in sublist]\n",
    "\n",
    "items = list(set(flat_offenses))\n",
    "vals = []\n",
    "\n",
    "for type in items:\n",
    "    vals.append(flat_offenses.count(type))\n",
    "crime_occ = dict(zip(items, vals))\n",
    "sorted_offs = sorted(crime_occ.items(), key=lambda x: x[1], reverse=True)\n",
    "\n",
    "offenses = []\n",
    "rates = []\n",
    "\n",
    "for offense, rate in sorted_offs:\n",
    "    offenses.append(offense)\n",
    "    rates.append(rate)\n",
    "\n",
    "pd.DataFrame({'Offense': offenses, 'Rate': rates}, columns = ['Offense', 'Rate']).to_csv('~/Downloads/OwlHacks Proj/offense_rates.csv')"
   ]
  },
  {
   "cell_type": "code",
   "execution_count": null,
   "metadata": {
    "pycharm": {
     "name": "#%%\n"
    }
   },
   "outputs": [],
   "source": [
    "# calculate the ages of each person and remove if less than 0\n",
    "ages = []\n",
    "\n",
    "data = data.dropna(subset=['dob'])\n",
    "\n",
    "for date in data['dob']:\n",
    "    parsed_date = datetime.datetime.strptime(date, '%m/%d/%y')\n",
    "    now = datetime.datetime.now()\n",
    "    ages.append(float((now-parsed_date).days)/365)\n",
    "\n",
    "data['age'] = ages\n",
    "data = data[data['age'] > 0]\n",
    "\n",
    "\n",
    "data = data[data['bail_type'] == 'Monetary']\n",
    "\n",
    "# set fields to predict based on\n",
    "predictive_data = data[['bail_set_by', 'prelim_hearing_time', 'prelim_hearing_dt', 'age', 'zip']]"
   ]
  },
  {
   "cell_type": "code",
   "execution_count": null,
   "metadata": {
    "pycharm": {
     "name": "#%%\n"
    }
   },
   "outputs": [],
   "source": [
    "import datetime\n",
    "import calendar\n",
    "\n",
    "# parse dates into day of week\n",
    "parsed_dates = []\n",
    "\n",
    "for date in predictive_data['prelim_hearing_dt']:\n",
    "    parsed_date = datetime.datetime.strptime(date, '%m/%d/%y')\n",
    "    parsed_dates.append(calendar.day_name[parsed_date.weekday()])\n",
    "\n",
    "predictive_data['prelim_hearing_dt'] = parsed_dates\n"
   ]
  },
  {
   "cell_type": "code",
   "execution_count": 14,
   "metadata": {
    "pycharm": {
     "name": "#%%\n"
    }
   },
   "outputs": [
    {
     "ename": "AttributeError",
     "evalue": "'int' object has no attribute 'split'",
     "output_type": "error",
     "traceback": [
      "\u001B[0;31m---------------------------------------------------------------------------\u001B[0m",
      "\u001B[0;31mAttributeError\u001B[0m                            Traceback (most recent call last)",
      "\u001B[0;32m<ipython-input-14-9f688e3d3369>\u001B[0m in \u001B[0;36m<module>\u001B[0;34m\u001B[0m\n\u001B[1;32m      2\u001B[0m \u001B[0mtimes\u001B[0m \u001B[0;34m=\u001B[0m \u001B[0;34m[\u001B[0m\u001B[0;34m]\u001B[0m\u001B[0;34m\u001B[0m\u001B[0;34m\u001B[0m\u001B[0m\n\u001B[1;32m      3\u001B[0m \u001B[0;32mfor\u001B[0m \u001B[0mtime_str\u001B[0m \u001B[0;32min\u001B[0m \u001B[0mpredictive_data\u001B[0m\u001B[0;34m.\u001B[0m\u001B[0mprelim_hearing_time\u001B[0m\u001B[0;34m:\u001B[0m\u001B[0;34m\u001B[0m\u001B[0;34m\u001B[0m\u001B[0m\n\u001B[0;32m----> 4\u001B[0;31m     \u001B[0mitems\u001B[0m \u001B[0;34m=\u001B[0m \u001B[0mtime_str\u001B[0m\u001B[0;34m.\u001B[0m\u001B[0msplit\u001B[0m\u001B[0;34m(\u001B[0m\u001B[0;34m':'\u001B[0m\u001B[0;34m)\u001B[0m\u001B[0;34m\u001B[0m\u001B[0;34m\u001B[0m\u001B[0m\n\u001B[0m\u001B[1;32m      5\u001B[0m     \u001B[0mmins\u001B[0m \u001B[0;34m=\u001B[0m \u001B[0mint\u001B[0m\u001B[0;34m(\u001B[0m\u001B[0mitems\u001B[0m\u001B[0;34m[\u001B[0m\u001B[0;36m0\u001B[0m\u001B[0;34m]\u001B[0m\u001B[0;34m)\u001B[0m \u001B[0;34m*\u001B[0m \u001B[0;36m60\u001B[0m \u001B[0;34m+\u001B[0m \u001B[0mint\u001B[0m\u001B[0;34m(\u001B[0m\u001B[0mitems\u001B[0m\u001B[0;34m[\u001B[0m\u001B[0;36m1\u001B[0m\u001B[0;34m]\u001B[0m\u001B[0;34m.\u001B[0m\u001B[0msplit\u001B[0m\u001B[0;34m(\u001B[0m\u001B[0;34m' '\u001B[0m\u001B[0;34m)\u001B[0m\u001B[0;34m[\u001B[0m\u001B[0;36m0\u001B[0m\u001B[0;34m]\u001B[0m\u001B[0;34m)\u001B[0m\u001B[0;34m\u001B[0m\u001B[0;34m\u001B[0m\u001B[0m\n\u001B[1;32m      6\u001B[0m \u001B[0;34m\u001B[0m\u001B[0m\n",
      "\u001B[0;31mAttributeError\u001B[0m: 'int' object has no attribute 'split'"
     ]
    }
   ],
   "source": [
    "\n",
    "# parse times into an int of mins in day\n",
    "times = []\n",
    "for time_str in predictive_data.prelim_hearing_time:\n",
    "    items = time_str.split(':')\n",
    "    mins = int(items[0]) * 60 + int(items[1].split(' ')[0])\n",
    "\n",
    "    if items[1].split(' ')[1] == 'PM':\n",
    "        mins += (60*12)\n",
    "    times.append(mins)\n",
    "\n",
    "predictive_data['prelim_hearing_time'] = times\n",
    "# make copy for use with interactive part\n",
    "# predictive_data_copy = predictive_data.copy()"
   ]
  },
  {
   "cell_type": "code",
   "execution_count": 15,
   "metadata": {
    "pycharm": {
     "name": "#%%\n"
    }
   },
   "outputs": [
    {
     "ename": "ValueError",
     "evalue": "columns overlap but no suffix specified: Index(['offenses_\"Criml Misch-Tamper W/Property\"',\n       'offenses_\"Oper Veh W/O Reqd Financ Resp\"',\n       'offenses_\"Retail Dealer Reqd To Be Licensed\"',\n       'offenses_Abdul ATTORNEY INFORMATION ENTRIES',\n       'offenses_Abuse Of Corpse',\n       'offenses_Access Device Used To Obt Or Att Obt Prop/Service',\n       'offenses_Acci Dam To Unattended Veh Or Propert',\n       'offenses_Accident Involv Damage Attended Vehicle/Prop',\n       'offenses_Accident Involv Damage Attended Vehicle/Prop Accident Involv Damage Attended Vehicle/Prop Accident Involv Damage Attended Vehicle/Prop Accident Involv Damage Attended Vehicle/Prop',\n       'offenses_Accidents Involving Death Or Personal Injury',\n       ...\n       'offenses_Victim Under 12 Defendant 18 or older',\n       'offenses_Violation of Protective Order',\n       'offenses_Weapons of Mass Dest. - Unlawful Poss or Manu',\n       'offenses_Weapons of Mass Dest. - Unlawful Poss or Manu Causing Catastrophe Criminal Use Of Communication Facility Poss Instrument Of Crime W/Int Poss Instrument Of Crime W/Int Poss Instrument Of Crime W/Int Poss Instrument Of Crime W/Int Poss Instrument Of Crime W/Int Poss Instrument Of Crime W/Int Poss Instrument Of Crime W/Int Poss Instrument Of Crime W/Int Poss Instrument Of Crime W/Int Poss Instrument Of Crime W/Int Poss Instrument Of Crime W/Int Make Repairs/Sell/Etc Offens Weap Make Repairs/Sell/Etc Offens Weap Make Repairs/Sell/Etc Offens Weap Make Repairs/Sell/Etc Offens Weap Make Repairs/Sell/Etc Offens Weap Make Repairs/Sell/Etc Offens Weap Make Repairs/Sell/Etc Offens Weap Make Repairs/Sell/Etc Offens Weap Make Repairs/Sell/Etc Offens Weap Make Repairs/Sell/Etc Offens Weap Make Repairs/Sell/Etc Offens Weap Carrying Explosives On Conveyances Carrying Explosives On Conveyances Carrying Explosives On Conveyances Carrying Explosives On Conveyances Carrying Explosives On Conveyances Carrying Explosives On Conveyances Carrying Explosives On Conveyances Carrying Explosives On Conveyances',\n       'offenses_Weapons of Mass Dest. - Unlawful Poss or Manu Int Poss Contr Subst By Per Not Reg Use/Poss Of Drug Paraph Possession Of Firearm Prohibited Poss Instrument Of Crime W/Int Make Repairs/Sell/Etc Offens Weap Carrying Loaded Weapon Incarceration/Diversionary Period Disposition Date Offense Disposition Sentence Date 06/06/2020 Proceed to Court Proceed to Court Proceed to Court Proceed to Court Proceed to Court Proceed to Court Proceed to Court Proceed to Court Proceed to Court',\n       'offenses_Weapons of Mass Dest. - Unlawful Poss or Manu Poss Instrument Of Crime W/Int Poss Instrument Of Crime W/Int Poss Instrument Of Crime W/Int Poss Instrument Of Crime W/Int Poss Instrument Of Crime W/Int Poss Instrument Of Crime W/Int Poss Instrument Of Crime W/Int Poss Instrument Of Crime W/Int Poss Instrument Of Crime W/Int Poss Instrument Of Crime W/Int Poss Instrument Of Crime W/Int Poss Instrument Of Crime W/Int Poss Instrument Of Crime W/Int Poss Instrument Of Crime W/Int Poss Instrument Of Crime W/Int Poss Instrument Of Crime W/Int Poss Instrument Of Crime W/Int Poss Instrument Of Crime W/Int Poss Instrument Of Crime W/Int Poss Instrument Of Crime W/Int Poss Instrument Of Crime W/Int Poss Instrument Of Crime W/Int Poss Instrument Of Crime W/Int Poss Instrument Of Crime W/Int Poss Instrument Of Crime W/Int Poss Instrument Of Crime W/Int Poss Instrument Of Crime W/Int Poss Instrument Of Crime W/Int Poss Instrument Of Crime W/Int Poss Instrument Of Crime W/Int Make Repairs/Sell/Etc Offens Weap Make Repairs/Sell/Etc Offens Weap',\n       'offenses_Weapons of Mass Dest. - Unlawful Poss or Manu Weapons of Mass Dest. - Unlawful Poss or Manu Weapons of Mass Dest. - Unlawful Poss or Manu Weapons of Mass Dest. - Unlawful Poss or Manu Weapons of Mass Dest. - Unlawful Poss or Manu Weapons of Mass Dest. - Unlawful Poss or Manu Weapons of Mass Dest. - Unlawful Poss or Manu Weapons of Mass Dest. - Unlawful Poss or Manu Weapons of Mass Dest. - Unlawful Poss or Manu Weapons of Mass Dest. - Unlawful Poss or Manu',\n       'offenses_Weapons of Mass Dest. - Unlawful Poss or Manu Weapons of Mass Dest. - Unlawful Poss or Manu Weapons of Mass Dest. - Unlawful Poss or Manu Weapons of Mass Dest. - Unlawful Poss or Manu Weapons of Mass Dest. - Unlawful Poss or Manu Weapons of Mass Dest. - Unlawful Poss or Manu Weapons of Mass Dest. - Unlawful Poss or Manu Weapons of Mass Dest. - Unlawful Poss or Manu Weapons of Mass Dest. - Unlawful Poss or Manu Weapons of Mass Dest. - Unlawful Poss or Manu Weapons of Mass Dest. - Unlawful Poss or Manu Weapons of Mass Dest. - Unlawful Poss or Manu Weapons of Mass Dest. - Unlawful Poss or Manu Weapons of Mass Dest. - Unlawful Poss or Manu Weapons of Mass Dest. - Unlawful Poss or Manu Weapons of Mass Dest. - Unlawful Poss or Manu Weapons of Mass Dest. - Unlawful Poss or Manu Weapons of Mass Dest. - Unlawful Poss or Manu Weapons of Mass Dest. - Unlawful Poss or Manu',\n       'offenses_Weapons of Mass Dest. - Unlawful Poss or Manu Weapons of Mass Dest. - Unlawful Poss or Manu Weapons of Mass Dest. - Unlawful Poss or Manu Weapons of Mass Dest. - Unlawful Poss or Manu Weapons of Mass Dest. - Unlawful Poss or Manu Weapons of Mass Dest. - Unlawful Poss or Manu Weapons of Mass Dest. - Unlawful Poss or Manu Weapons of Mass Dest. - Unlawful Poss or Manu Weapons of Mass Dest. - Unlawful Poss or Manu Weapons of Mass Dest. - Unlawful Poss or Manu Weapons of Mass Dest. - Unlawful Poss or Manu Weapons of Mass Dest. - Unlawful Poss or Manu Weapons of Mass Dest. - Unlawful Poss or Manu Weapons of Mass Dest. - Unlawful Poss or Manu Weapons of Mass Dest. - Unlawful Poss or Manu Weapons of Mass Dest. - Unlawful Poss or Manu Weapons of Mass Dest. - Unlawful Poss or Manu Weapons of Mass Dest. - Unlawful Poss or Manu Weapons of Mass Dest. - Unlawful Poss or Manu Weapons of Mass Dest. - Unlawful Poss or Manu',\n       'offenses_or Possession With Intent to Manufacture or Deliver'],\n      dtype='object', length=443)",
     "output_type": "error",
     "traceback": [
      "\u001B[0;31m---------------------------------------------------------------------------\u001B[0m",
      "\u001B[0;31mValueError\u001B[0m                                Traceback (most recent call last)",
      "\u001B[0;32m<ipython-input-15-8807250b2d3a>\u001B[0m in \u001B[0;36m<module>\u001B[0;34m\u001B[0m\n\u001B[1;32m      1\u001B[0m \u001B[0;31m# Add dummy fields and dummies for offenses\u001B[0m\u001B[0;34m\u001B[0m\u001B[0;34m\u001B[0m\u001B[0;34m\u001B[0m\u001B[0m\n\u001B[1;32m      2\u001B[0m \u001B[0mpredictive_data\u001B[0m \u001B[0;34m=\u001B[0m \u001B[0mpd\u001B[0m\u001B[0;34m.\u001B[0m\u001B[0mget_dummies\u001B[0m\u001B[0;34m(\u001B[0m\u001B[0mpredictive_data\u001B[0m\u001B[0;34m)\u001B[0m\u001B[0;34m\u001B[0m\u001B[0;34m\u001B[0m\u001B[0m\n\u001B[0;32m----> 3\u001B[0;31m \u001B[0mpredictive_data\u001B[0m \u001B[0;34m=\u001B[0m \u001B[0mpredictive_data\u001B[0m\u001B[0;34m.\u001B[0m\u001B[0mjoin\u001B[0m\u001B[0;34m(\u001B[0m\u001B[0mdata\u001B[0m\u001B[0;34m.\u001B[0m\u001B[0moffenses\u001B[0m\u001B[0;34m.\u001B[0m\u001B[0mstr\u001B[0m\u001B[0;34m.\u001B[0m\u001B[0mjoin\u001B[0m\u001B[0;34m(\u001B[0m\u001B[0;34m'|'\u001B[0m\u001B[0;34m)\u001B[0m\u001B[0;34m.\u001B[0m\u001B[0mstr\u001B[0m\u001B[0;34m.\u001B[0m\u001B[0mget_dummies\u001B[0m\u001B[0;34m(\u001B[0m\u001B[0;34m)\u001B[0m\u001B[0;34m.\u001B[0m\u001B[0madd_prefix\u001B[0m\u001B[0;34m(\u001B[0m\u001B[0;34m'offenses_'\u001B[0m\u001B[0;34m)\u001B[0m\u001B[0;34m)\u001B[0m\u001B[0;34m\u001B[0m\u001B[0;34m\u001B[0m\u001B[0m\n\u001B[0m\u001B[1;32m      4\u001B[0m \u001B[0;34m\u001B[0m\u001B[0m\n",
      "\u001B[0;32m/usr/local/lib/python3.7/site-packages/pandas/core/frame.py\u001B[0m in \u001B[0;36mjoin\u001B[0;34m(self, other, on, how, lsuffix, rsuffix, sort)\u001B[0m\n\u001B[1;32m   7207\u001B[0m         \"\"\"\n\u001B[1;32m   7208\u001B[0m         return self._join_compat(\n\u001B[0;32m-> 7209\u001B[0;31m             \u001B[0mother\u001B[0m\u001B[0;34m,\u001B[0m \u001B[0mon\u001B[0m\u001B[0;34m=\u001B[0m\u001B[0mon\u001B[0m\u001B[0;34m,\u001B[0m \u001B[0mhow\u001B[0m\u001B[0;34m=\u001B[0m\u001B[0mhow\u001B[0m\u001B[0;34m,\u001B[0m \u001B[0mlsuffix\u001B[0m\u001B[0;34m=\u001B[0m\u001B[0mlsuffix\u001B[0m\u001B[0;34m,\u001B[0m \u001B[0mrsuffix\u001B[0m\u001B[0;34m=\u001B[0m\u001B[0mrsuffix\u001B[0m\u001B[0;34m,\u001B[0m \u001B[0msort\u001B[0m\u001B[0;34m=\u001B[0m\u001B[0msort\u001B[0m\u001B[0;34m\u001B[0m\u001B[0;34m\u001B[0m\u001B[0m\n\u001B[0m\u001B[1;32m   7210\u001B[0m         )\n\u001B[1;32m   7211\u001B[0m \u001B[0;34m\u001B[0m\u001B[0m\n",
      "\u001B[0;32m/usr/local/lib/python3.7/site-packages/pandas/core/frame.py\u001B[0m in \u001B[0;36m_join_compat\u001B[0;34m(self, other, on, how, lsuffix, rsuffix, sort)\u001B[0m\n\u001B[1;32m   7230\u001B[0m                 \u001B[0mright_index\u001B[0m\u001B[0;34m=\u001B[0m\u001B[0;32mTrue\u001B[0m\u001B[0;34m,\u001B[0m\u001B[0;34m\u001B[0m\u001B[0;34m\u001B[0m\u001B[0m\n\u001B[1;32m   7231\u001B[0m                 \u001B[0msuffixes\u001B[0m\u001B[0;34m=\u001B[0m\u001B[0;34m(\u001B[0m\u001B[0mlsuffix\u001B[0m\u001B[0;34m,\u001B[0m \u001B[0mrsuffix\u001B[0m\u001B[0;34m)\u001B[0m\u001B[0;34m,\u001B[0m\u001B[0;34m\u001B[0m\u001B[0;34m\u001B[0m\u001B[0m\n\u001B[0;32m-> 7232\u001B[0;31m                 \u001B[0msort\u001B[0m\u001B[0;34m=\u001B[0m\u001B[0msort\u001B[0m\u001B[0;34m,\u001B[0m\u001B[0;34m\u001B[0m\u001B[0;34m\u001B[0m\u001B[0m\n\u001B[0m\u001B[1;32m   7233\u001B[0m             )\n\u001B[1;32m   7234\u001B[0m         \u001B[0;32melse\u001B[0m\u001B[0;34m:\u001B[0m\u001B[0;34m\u001B[0m\u001B[0;34m\u001B[0m\u001B[0m\n",
      "\u001B[0;32m/usr/local/lib/python3.7/site-packages/pandas/core/reshape/merge.py\u001B[0m in \u001B[0;36mmerge\u001B[0;34m(left, right, how, on, left_on, right_on, left_index, right_index, sort, suffixes, copy, indicator, validate)\u001B[0m\n\u001B[1;32m     86\u001B[0m         \u001B[0mvalidate\u001B[0m\u001B[0;34m=\u001B[0m\u001B[0mvalidate\u001B[0m\u001B[0;34m,\u001B[0m\u001B[0;34m\u001B[0m\u001B[0;34m\u001B[0m\u001B[0m\n\u001B[1;32m     87\u001B[0m     )\n\u001B[0;32m---> 88\u001B[0;31m     \u001B[0;32mreturn\u001B[0m \u001B[0mop\u001B[0m\u001B[0;34m.\u001B[0m\u001B[0mget_result\u001B[0m\u001B[0;34m(\u001B[0m\u001B[0;34m)\u001B[0m\u001B[0;34m\u001B[0m\u001B[0;34m\u001B[0m\u001B[0m\n\u001B[0m\u001B[1;32m     89\u001B[0m \u001B[0;34m\u001B[0m\u001B[0m\n\u001B[1;32m     90\u001B[0m \u001B[0;34m\u001B[0m\u001B[0m\n",
      "\u001B[0;32m/usr/local/lib/python3.7/site-packages/pandas/core/reshape/merge.py\u001B[0m in \u001B[0;36mget_result\u001B[0;34m(self)\u001B[0m\n\u001B[1;32m    647\u001B[0m \u001B[0;34m\u001B[0m\u001B[0m\n\u001B[1;32m    648\u001B[0m         llabels, rlabels = _items_overlap_with_suffix(\n\u001B[0;32m--> 649\u001B[0;31m             \u001B[0mldata\u001B[0m\u001B[0;34m.\u001B[0m\u001B[0mitems\u001B[0m\u001B[0;34m,\u001B[0m \u001B[0mlsuf\u001B[0m\u001B[0;34m,\u001B[0m \u001B[0mrdata\u001B[0m\u001B[0;34m.\u001B[0m\u001B[0mitems\u001B[0m\u001B[0;34m,\u001B[0m \u001B[0mrsuf\u001B[0m\u001B[0;34m\u001B[0m\u001B[0;34m\u001B[0m\u001B[0m\n\u001B[0m\u001B[1;32m    650\u001B[0m         )\n\u001B[1;32m    651\u001B[0m \u001B[0;34m\u001B[0m\u001B[0m\n",
      "\u001B[0;32m/usr/local/lib/python3.7/site-packages/pandas/core/reshape/merge.py\u001B[0m in \u001B[0;36m_items_overlap_with_suffix\u001B[0;34m(left, lsuffix, right, rsuffix)\u001B[0m\n\u001B[1;32m   2024\u001B[0m         raise ValueError(\n\u001B[1;32m   2025\u001B[0m             \u001B[0;34m\"columns overlap but no suffix specified: \"\u001B[0m\u001B[0;34m\u001B[0m\u001B[0;34m\u001B[0m\u001B[0m\n\u001B[0;32m-> 2026\u001B[0;31m             \u001B[0;34m\"{rename}\"\u001B[0m\u001B[0;34m.\u001B[0m\u001B[0mformat\u001B[0m\u001B[0;34m(\u001B[0m\u001B[0mrename\u001B[0m\u001B[0;34m=\u001B[0m\u001B[0mto_rename\u001B[0m\u001B[0;34m)\u001B[0m\u001B[0;34m\u001B[0m\u001B[0;34m\u001B[0m\u001B[0m\n\u001B[0m\u001B[1;32m   2027\u001B[0m         )\n\u001B[1;32m   2028\u001B[0m \u001B[0;34m\u001B[0m\u001B[0m\n",
      "\u001B[0;31mValueError\u001B[0m: columns overlap but no suffix specified: Index(['offenses_\"Criml Misch-Tamper W/Property\"',\n       'offenses_\"Oper Veh W/O Reqd Financ Resp\"',\n       'offenses_\"Retail Dealer Reqd To Be Licensed\"',\n       'offenses_Abdul ATTORNEY INFORMATION ENTRIES',\n       'offenses_Abuse Of Corpse',\n       'offenses_Access Device Used To Obt Or Att Obt Prop/Service',\n       'offenses_Acci Dam To Unattended Veh Or Propert',\n       'offenses_Accident Involv Damage Attended Vehicle/Prop',\n       'offenses_Accident Involv Damage Attended Vehicle/Prop Accident Involv Damage Attended Vehicle/Prop Accident Involv Damage Attended Vehicle/Prop Accident Involv Damage Attended Vehicle/Prop',\n       'offenses_Accidents Involving Death Or Personal Injury',\n       ...\n       'offenses_Victim Under 12 Defendant 18 or older',\n       'offenses_Violation of Protective Order',\n       'offenses_Weapons of Mass Dest. - Unlawful Poss or Manu',\n       'offenses_Weapons of Mass Dest. - Unlawful Poss or Manu Causing Catastrophe Criminal Use Of Communication Facility Poss Instrument Of Crime W/Int Poss Instrument Of Crime W/Int Poss Instrument Of Crime W/Int Poss Instrument Of Crime W/Int Poss Instrument Of Crime W/Int Poss Instrument Of Crime W/Int Poss Instrument Of Crime W/Int Poss Instrument Of Crime W/Int Poss Instrument Of Crime W/Int Poss Instrument Of Crime W/Int Poss Instrument Of Crime W/Int Make Repairs/Sell/Etc Offens Weap Make Repairs/Sell/Etc Offens Weap Make Repairs/Sell/Etc Offens Weap Make Repairs/Sell/Etc Offens Weap Make Repairs/Sell/Etc Offens Weap Make Repairs/Sell/Etc Offens Weap Make Repairs/Sell/Etc Offens Weap Make Repairs/Sell/Etc Offens Weap Make Repairs/Sell/Etc Offens Weap Make Repairs/Sell/Etc Offens Weap Make Repairs/Sell/Etc Offens Weap Carrying Explosives On Conveyances Carrying Explosives On Conveyances Carrying Explosives On Conveyances Carrying Explosives On Conveyances Carrying Explosives On Conveyances Carrying Explosives On Conveyances Carrying Explosives On Conveyances Carrying Explosives On Conveyances',\n       'offenses_Weapons of Mass Dest. - Unlawful Poss or Manu Int Poss Contr Subst By Per Not Reg Use/Poss Of Drug Paraph Possession Of Firearm Prohibited Poss Instrument Of Crime W/Int Make Repairs/Sell/Etc Offens Weap Carrying Loaded Weapon Incarceration/Diversionary Period Disposition Date Offense Disposition Sentence Date 06/06/2020 Proceed to Court Proceed to Court Proceed to Court Proceed to Court Proceed to Court Proceed to Court Proceed to Court Proceed to Court Proceed to Court',\n       'offenses_Weapons of Mass Dest. - Unlawful Poss or Manu Poss Instrument Of Crime W/Int Poss Instrument Of Crime W/Int Poss Instrument Of Crime W/Int Poss Instrument Of Crime W/Int Poss Instrument Of Crime W/Int Poss Instrument Of Crime W/Int Poss Instrument Of Crime W/Int Poss Instrument Of Crime W/Int Poss Instrument Of Crime W/Int Poss Instrument Of Crime W/Int Poss Instrument Of Crime W/Int Poss Instrument Of Crime W/Int Poss Instrument Of Crime W/Int Poss Instrument Of Crime W/Int Poss Instrument Of Crime W/Int Poss Instrument Of Crime W/Int Poss Instrument Of Crime W/Int Poss Instrument Of Crime W/Int Poss Instrument Of Crime W/Int Poss Instrument Of Crime W/Int Poss Instrument Of Crime W/Int Poss Instrument Of Crime W/Int Poss Instrument Of Crime W/Int Poss Instrument Of Crime W/Int Poss Instrument Of Crime W/Int Poss Instrument Of Crime W/Int Poss Instrument Of Crime W/Int Poss Instrument Of Crime W/Int Poss Instrument Of Crime W/Int Poss Instrument Of Crime W/Int Make Repairs/Sell/Etc Offens Weap Make Repairs/Sell/Etc Offens Weap',\n       'offenses_Weapons of Mass Dest. - Unlawful Poss or Manu Weapons of Mass Dest. - Unlawful Poss or Manu Weapons of Mass Dest. - Unlawful Poss or Manu Weapons of Mass Dest. - Unlawful Poss or Manu Weapons of Mass Dest. - Unlawful Poss or Manu Weapons of Mass Dest. - Unlawful Poss or Manu Weapons of Mass Dest. - Unlawful Poss or Manu Weapons of Mass Dest. - Unlawful Poss or Manu Weapons of Mass Dest. - Unlawful Poss or Manu Weapons of Mass Dest. - Unlawful Poss or Manu',\n       'offenses_Weapons of Mass Dest. - Unlawful Poss or Manu Weapons of Mass Dest. - Unlawful Poss or Manu Weapons of Mass Dest. - Unlawful Poss or Manu Weapons of Mass Dest. - Unlawful Poss or Manu Weapons of Mass Dest. - Unlawful Poss or Manu Weapons of Mass Dest. - Unlawful Poss or Manu Weapons of Mass Dest. - Unlawful Poss or Manu Weapons of Mass Dest. - Unlawful Poss or Manu Weapons of Mass Dest. - Unlawful Poss or Manu Weapons of Mass Dest. - Unlawful Poss or Manu Weapons of Mass Dest. - Unlawful Poss or Manu Weapons of Mass Dest. - Unlawful Poss or Manu Weapons of Mass Dest. - Unlawful Poss or Manu Weapons of Mass Dest. - Unlawful Poss or Manu Weapons of Mass Dest. - Unlawful Poss or Manu Weapons of Mass Dest. - Unlawful Poss or Manu Weapons of Mass Dest. - Unlawful Poss or Manu Weapons of Mass Dest. - Unlawful Poss or Manu Weapons of Mass Dest. - Unlawful Poss or Manu',\n       'offenses_Weapons of Mass Dest. - Unlawful Poss or Manu Weapons of Mass Dest. - Unlawful Poss or Manu Weapons of Mass Dest. - Unlawful Poss or Manu Weapons of Mass Dest. - Unlawful Poss or Manu Weapons of Mass Dest. - Unlawful Poss or Manu Weapons of Mass Dest. - Unlawful Poss or Manu Weapons of Mass Dest. - Unlawful Poss or Manu Weapons of Mass Dest. - Unlawful Poss or Manu Weapons of Mass Dest. - Unlawful Poss or Manu Weapons of Mass Dest. - Unlawful Poss or Manu Weapons of Mass Dest. - Unlawful Poss or Manu Weapons of Mass Dest. - Unlawful Poss or Manu Weapons of Mass Dest. - Unlawful Poss or Manu Weapons of Mass Dest. - Unlawful Poss or Manu Weapons of Mass Dest. - Unlawful Poss or Manu Weapons of Mass Dest. - Unlawful Poss or Manu Weapons of Mass Dest. - Unlawful Poss or Manu Weapons of Mass Dest. - Unlawful Poss or Manu Weapons of Mass Dest. - Unlawful Poss or Manu Weapons of Mass Dest. - Unlawful Poss or Manu',\n       'offenses_or Possession With Intent to Manufacture or Deliver'],\n      dtype='object', length=443)"
     ]
    }
   ],
   "source": [
    "# Add dummy fields and dummies for offenses\n",
    "predictive_data = pd.get_dummies(predictive_data)\n",
    "predictive_data = predictive_data.join(data.offenses.str.join('|').str.get_dummies().add_prefix('offenses_'))"
   ]
  },
  {
   "cell_type": "code",
   "execution_count": null,
   "metadata": {
    "pycharm": {
     "name": "#%%\n"
    }
   },
   "outputs": [],
   "source": [
    "from sklearn.model_selection import train_test_split\n",
    "from sklearn.ensemble import RandomForestRegressor\n",
    "\n",
    "# train and score model\n",
    "X_train, X_test, Y_train, Y_test = train_test_split(predictive_data, data[['bail_amount']])\n",
    "\n",
    "forest = RandomForestRegressor(n_estimators=1_500, n_jobs=-1)\n",
    "forest.fit(X_train, Y_train)"
   ]
  },
  {
   "cell_type": "code",
   "execution_count": 8,
   "metadata": {
    "pycharm": {
     "name": "#%%\n"
    }
   },
   "outputs": [
    {
     "data": {
      "text/plain": "0.9140854089361297"
     },
     "execution_count": 8,
     "metadata": {},
     "output_type": "execute_result"
    }
   ],
   "source": [
    "forest.score(X_train, Y_train)"
   ]
  },
  {
   "cell_type": "code",
   "execution_count": 9,
   "metadata": {
    "pycharm": {
     "name": "#%%\n"
    }
   },
   "outputs": [
    {
     "data": {
      "text/plain": "0.43840893014732085"
     },
     "execution_count": 9,
     "metadata": {},
     "output_type": "execute_result"
    }
   ],
   "source": [
    "forest.score(X_test, Y_test)"
   ]
  },
  {
   "cell_type": "code",
   "execution_count": 11,
   "metadata": {
    "pycharm": {
     "name": "#%%\n"
    }
   },
   "outputs": [
    {
     "data": {
      "text/plain": "BoundedIntText(value=0, description='Age:')",
      "application/vnd.jupyter.widget-view+json": {
       "version_major": 2,
       "version_minor": 0,
       "model_id": "076dedba4d7b46d7a2c5e2d1e6f03108"
      }
     },
     "metadata": {},
     "output_type": "display_data"
    },
    {
     "data": {
      "text/plain": "BoundedIntText(value=0, description='Zip Code:')",
      "application/vnd.jupyter.widget-view+json": {
       "version_major": 2,
       "version_minor": 0,
       "model_id": "7244e203dbae4d9c893a8c7f54250acc"
      }
     },
     "metadata": {},
     "output_type": "display_data"
    },
    {
     "data": {
      "text/plain": "Dropdown(options=('Sawyer, Stephanie', 'Caudo, Michael A.', 'Stack, Patrick', 'Wright, Jaquan A.', 'Wolf, Matt…",
      "application/vnd.jupyter.widget-view+json": {
       "version_major": 2,
       "version_minor": 0,
       "model_id": "eed8a48c30a346d4977787af69633f2b"
      }
     },
     "metadata": {},
     "output_type": "display_data"
    },
    {
     "data": {
      "text/plain": "Dropdown(options=<calendar._localized_day object at 0x10baab850>, value='Monday')",
      "application/vnd.jupyter.widget-view+json": {
       "version_major": 2,
       "version_minor": 0,
       "model_id": "07cc2bd5af264b8ea786f094b0cb420a"
      }
     },
     "metadata": {},
     "output_type": "display_data"
    },
    {
     "data": {
      "text/plain": "BoundedIntText(value=0, description='Time:')",
      "application/vnd.jupyter.widget-view+json": {
       "version_major": 2,
       "version_minor": 0,
       "model_id": "898f1855365b4dd69dd26b80c09a459a"
      }
     },
     "metadata": {},
     "output_type": "display_data"
    },
    {
     "data": {
      "text/plain": "Checkbox(value=False)",
      "application/vnd.jupyter.widget-view+json": {
       "version_major": 2,
       "version_minor": 0,
       "model_id": "36971862e715459eadfda4efea918efb"
      }
     },
     "metadata": {},
     "output_type": "display_data"
    },
    {
     "data": {
      "text/plain": "Checkbox(value=False, description='Submit Claim W/False Info')",
      "application/vnd.jupyter.widget-view+json": {
       "version_major": 2,
       "version_minor": 0,
       "model_id": "da49625f544f48a6a414f132555dc0bb"
      }
     },
     "metadata": {},
     "output_type": "display_data"
    },
    {
     "data": {
      "text/plain": "Checkbox(value=False, description='Obstructed Window')",
      "application/vnd.jupyter.widget-view+json": {
       "version_major": 2,
       "version_minor": 0,
       "model_id": "4a7743a7297c4019a86e156b19a2bd55"
      }
     },
     "metadata": {},
     "output_type": "display_data"
    },
    {
     "data": {
      "text/plain": "Checkbox(value=False, description='Conspiracy - Deliver Firearm After 48 Hours Elapsed')",
      "application/vnd.jupyter.widget-view+json": {
       "version_major": 2,
       "version_minor": 0,
       "model_id": "2c3c22fe334e4444bb22c99f4ce6f28c"
      }
     },
     "metadata": {},
     "output_type": "display_data"
    },
    {
     "data": {
      "text/plain": "Checkbox(value=False, description='Make Repairs/Sell/Etc Offens Weap Carrying Loaded Weapon')",
      "application/vnd.jupyter.widget-view+json": {
       "version_major": 2,
       "version_minor": 0,
       "model_id": "6a04d759673a43c19ae2335ca560a524"
      }
     },
     "metadata": {},
     "output_type": "display_data"
    },
    {
     "data": {
      "text/plain": "Checkbox(value=False, description='Obstructing Emergency Services')",
      "application/vnd.jupyter.widget-view+json": {
       "version_major": 2,
       "version_minor": 0,
       "model_id": "dde83ec595424f6aa55a0b8bca1aea35"
      }
     },
     "metadata": {},
     "output_type": "display_data"
    },
    {
     "data": {
      "text/plain": "Checkbox(value=False, description='Theft By Unlaw Taking-Movable Prop')",
      "application/vnd.jupyter.widget-view+json": {
       "version_major": 2,
       "version_minor": 0,
       "model_id": "b207e043f22241be996061a58461ab64"
      }
     },
     "metadata": {},
     "output_type": "display_data"
    },
    {
     "data": {
      "text/plain": "Checkbox(value=False, description='Rape Forcible Compulsion')",
      "application/vnd.jupyter.widget-view+json": {
       "version_major": 2,
       "version_minor": 0,
       "model_id": "16518c942b6a416d944c1e6312d481b5"
      }
     },
     "metadata": {},
     "output_type": "display_data"
    },
    {
     "data": {
      "text/plain": "Checkbox(value=False, description='Theft By Unlaw Taking-Movable Prop Corruption Of Minors Incarceration/Diver…",
      "application/vnd.jupyter.widget-view+json": {
       "version_major": 2,
       "version_minor": 0,
       "model_id": "b155b31fc8b0429bb5ec05188a123501"
      }
     },
     "metadata": {},
     "output_type": "display_data"
    },
    {
     "data": {
      "text/plain": "Checkbox(value=False, description='Int Poss Contr Subst By Per Not Reg Unknown Statute Unknown Statute Unknown…",
      "application/vnd.jupyter.widget-view+json": {
       "version_major": 2,
       "version_minor": 0,
       "model_id": "2b9ec84a4a3e4f2bbd9d39b3c1b23c6a"
      }
     },
     "metadata": {},
     "output_type": "display_data"
    },
    {
     "data": {
      "text/plain": "Checkbox(value=False, description='Retail Recorded Device')",
      "application/vnd.jupyter.widget-view+json": {
       "version_major": 2,
       "version_minor": 0,
       "model_id": "15ff3278d6b84236b943b104ac1c532f"
      }
     },
     "metadata": {},
     "output_type": "display_data"
    },
    {
     "data": {
      "text/plain": "Checkbox(value=False, description='Simple Assault Recklessly Endangering Another Person Disposition Date Offen…",
      "application/vnd.jupyter.widget-view+json": {
       "version_major": 2,
       "version_minor": 0,
       "model_id": "edee26a5048b4ccea1a955aa510c1de5"
      }
     },
     "metadata": {},
     "output_type": "display_data"
    },
    {
     "data": {
      "text/plain": "Checkbox(value=False, description='Simple Assault Recklessly Endangering Another Person Disposition Date Offen…",
      "application/vnd.jupyter.widget-view+json": {
       "version_major": 2,
       "version_minor": 0,
       "model_id": "33b9d8121160428b9f8c38888e00476e"
      }
     },
     "metadata": {},
     "output_type": "display_data"
    },
    {
     "data": {
      "text/plain": "Checkbox(value=False, description='Aggravated Harassment By Prisoner')",
      "application/vnd.jupyter.widget-view+json": {
       "version_major": 2,
       "version_minor": 0,
       "model_id": "f108f0c2a2434f52ba7682675822ec11"
      }
     },
     "metadata": {},
     "output_type": "display_data"
    },
    {
     "data": {
      "text/plain": "Checkbox(value=False, description='Crim Tres-Break Into Structure Poss Instrument Of Crime W/Int Terroristic T…",
      "application/vnd.jupyter.widget-view+json": {
       "version_major": 2,
       "version_minor": 0,
       "model_id": "74e80a69815a4b7287825abefcdbc2eb"
      }
     },
     "metadata": {},
     "output_type": "display_data"
    },
    {
     "data": {
      "text/plain": "Checkbox(value=False, description='Not Use Low Beam')",
      "application/vnd.jupyter.widget-view+json": {
       "version_major": 2,
       "version_minor": 0,
       "model_id": "a974e6cd65f546139cda313d5ff4ec48"
      }
     },
     "metadata": {},
     "output_type": "display_data"
    },
    {
     "data": {
      "text/plain": "Checkbox(value=False, description='Demetrius Filed By ATTORNEY INFORMATION ENTRIES')",
      "application/vnd.jupyter.widget-view+json": {
       "version_major": 2,
       "version_minor": 0,
       "model_id": "7c11a2f8276c45e29fe2739999125090"
      }
     },
     "metadata": {},
     "output_type": "display_data"
    },
    {
     "data": {
      "text/plain": "Checkbox(value=False, description='Theft By Unlaw Taking-Movable Prop Receiving Stolen Property Poss Instrumen…",
      "application/vnd.jupyter.widget-view+json": {
       "version_major": 2,
       "version_minor": 0,
       "model_id": "3556f1cfe7f44954870e313e6682e71c"
      }
     },
     "metadata": {},
     "output_type": "display_data"
    },
    {
     "data": {
      "text/plain": "Checkbox(value=False, description='Firearms Not To Be Carried W/O License')",
      "application/vnd.jupyter.widget-view+json": {
       "version_major": 2,
       "version_minor": 0,
       "model_id": "7d3707a201ff4b92aac9dd42c1b8d1ee"
      }
     },
     "metadata": {},
     "output_type": "display_data"
    },
    {
     "data": {
      "text/plain": "Checkbox(value=False, description='Crim Misch/Dmg Prop Intent')",
      "application/vnd.jupyter.widget-view+json": {
       "version_major": 2,
       "version_minor": 0,
       "model_id": "013ee74e08ce460390473a1057d3be5d"
      }
     },
     "metadata": {},
     "output_type": "display_data"
    },
    {
     "data": {
      "text/plain": "Checkbox(value=False, description='Required Financial Responsibility')",
      "application/vnd.jupyter.widget-view+json": {
       "version_major": 2,
       "version_minor": 0,
       "model_id": "e786d38694b24295b3369a4695ef836b"
      }
     },
     "metadata": {},
     "output_type": "display_data"
    },
    {
     "data": {
      "text/plain": "Checkbox(value=False, description='Criminal Attempt - IDSI Forcible Compulsion')",
      "application/vnd.jupyter.widget-view+json": {
       "version_major": 2,
       "version_minor": 0,
       "model_id": "00f80c57b3ff43038ed538af26050b19"
      }
     },
     "metadata": {},
     "output_type": "display_data"
    },
    {
     "data": {
      "text/plain": "Checkbox(value=False, description='Terroristic Threats W/ Int To Terrorize Another Simple Assault Recklessly E…",
      "application/vnd.jupyter.widget-view+json": {
       "version_major": 2,
       "version_minor": 0,
       "model_id": "44ab2f22ea2d4d90b4fec59e93c66953"
      }
     },
     "metadata": {},
     "output_type": "display_data"
    },
    {
     "data": {
      "text/plain": "Checkbox(value=False, description='Receiving Stolen Property Poss Instrument Of Crime W/Int Incarceration/Dive…",
      "application/vnd.jupyter.widget-view+json": {
       "version_major": 2,
       "version_minor": 0,
       "model_id": "fc74e4fea51742369c0e3db00543eef1"
      }
     },
     "metadata": {},
     "output_type": "display_data"
    },
    {
     "data": {
      "text/plain": "Checkbox(value=False, description='Corrupt Organizations Int Poss Contr Subst By Per Not Reg Incarceration/Div…",
      "application/vnd.jupyter.widget-view+json": {
       "version_major": 2,
       "version_minor": 0,
       "model_id": "8268ada678af451f94b4dc8cfee8b3d5"
      }
     },
     "metadata": {},
     "output_type": "display_data"
    },
    {
     "data": {
      "text/plain": "Checkbox(value=False, description='Conspiracy Unauth Use Motor/Other Vehicles Incarceration/Diversionary Perio…",
      "application/vnd.jupyter.widget-view+json": {
       "version_major": 2,
       "version_minor": 0,
       "model_id": "4fa65c6748ea4f97ae0ec83ecf469af3"
      }
     },
     "metadata": {},
     "output_type": "display_data"
    },
    {
     "data": {
      "text/plain": "Checkbox(value=False, description='Failure to Comply With Registration of Sexual Offender Requirements')",
      "application/vnd.jupyter.widget-view+json": {
       "version_major": 2,
       "version_minor": 0,
       "model_id": "f51b9e6841ea49d38319cbb3265ef5fb"
      }
     },
     "metadata": {},
     "output_type": "display_data"
    },
    {
     "data": {
      "text/plain": "Checkbox(value=False, description='Criminal Attempt - Fraud Document - Insurance Rate Determ')",
      "application/vnd.jupyter.widget-view+json": {
       "version_major": 2,
       "version_minor": 0,
       "model_id": "ae37242831204201b4d53f3a387537c9"
      }
     },
     "metadata": {},
     "output_type": "display_data"
    },
    {
     "data": {
      "text/plain": "Checkbox(value=False, description='False Alarm To Agency Of Public Safety False Alarm To Agency Of Public Safe…",
      "application/vnd.jupyter.widget-view+json": {
       "version_major": 2,
       "version_minor": 0,
       "model_id": "67c45539286d4520b6eee67f48821d28"
      }
     },
     "metadata": {},
     "output_type": "display_data"
    },
    {
     "data": {
      "text/plain": "Checkbox(value=False, description='Def Tres Fenced/Enclosed')",
      "application/vnd.jupyter.widget-view+json": {
       "version_major": 2,
       "version_minor": 0,
       "model_id": "b370505021ae41adba3fce4d7873ad88"
      }
     },
     "metadata": {},
     "output_type": "display_data"
    },
    {
     "data": {
      "text/plain": "Checkbox(value=False, description='MAURICE Filed By ATTORNEY INFORMATION ENTRIES')",
      "application/vnd.jupyter.widget-view+json": {
       "version_major": 2,
       "version_minor": 0,
       "model_id": "5f1379a9cb0843fc8365612a3697e85e"
      }
     },
     "metadata": {},
     "output_type": "display_data"
    },
    {
     "data": {
      "text/plain": "Checkbox(value=False, description='Criminal Attempt - Theft By Unlaw Taking-Movable Prop Poss Instrument Of Cr…",
      "application/vnd.jupyter.widget-view+json": {
       "version_major": 2,
       "version_minor": 0,
       "model_id": "7ec64024bb1f463eb9c79aebff6eeeb5"
      }
     },
     "metadata": {},
     "output_type": "display_data"
    },
    {
     "data": {
      "text/plain": "Checkbox(value=False, description='Recklessly Endangering Another Person Disorder Conduct Hazardous/Physi Off …",
      "application/vnd.jupyter.widget-view+json": {
       "version_major": 2,
       "version_minor": 0,
       "model_id": "d52ab86ddd414ff792e8d9213eb0c39c"
      }
     },
     "metadata": {},
     "output_type": "display_data"
    },
    {
     "data": {
      "text/plain": "Checkbox(value=False, description='Simple Assault Unauth Use Motor/Other Vehicles')",
      "application/vnd.jupyter.widget-view+json": {
       "version_major": 2,
       "version_minor": 0,
       "model_id": "13013afa594f483c92bba9ec8fb7fcc4"
      }
     },
     "metadata": {},
     "output_type": "display_data"
    },
    {
     "data": {
      "text/plain": "Checkbox(value=False, description='Unlawful Restraint/ Serious Bodily Injury')",
      "application/vnd.jupyter.widget-view+json": {
       "version_major": 2,
       "version_minor": 0,
       "model_id": "0fc7abde8b5d47019a1e01968b998321"
      }
     },
     "metadata": {},
     "output_type": "display_data"
    },
    {
     "data": {
      "text/plain": "Checkbox(value=False, description='Conspiracy')",
      "application/vnd.jupyter.widget-view+json": {
       "version_major": 2,
       "version_minor": 0,
       "model_id": "60379b00e2764b20a3deba945d73d8ea"
      }
     },
     "metadata": {},
     "output_type": "display_data"
    },
    {
     "data": {
      "text/plain": "Checkbox(value=False, description='Ethnic Intimidation')",
      "application/vnd.jupyter.widget-view+json": {
       "version_major": 2,
       "version_minor": 0,
       "model_id": "ff83da60297c47bb8267738b0995a300"
      }
     },
     "metadata": {},
     "output_type": "display_data"
    },
    {
     "data": {
      "text/plain": "Checkbox(value=False, description='Theft By Fail To Make Req Disp Funds Theft By Fail To Make Req Disp Funds T…",
      "application/vnd.jupyter.widget-view+json": {
       "version_major": 2,
       "version_minor": 0,
       "model_id": "785060399f5d4f79bcc69f7210b9f251"
      }
     },
     "metadata": {},
     "output_type": "display_data"
    },
    {
     "data": {
      "text/plain": "Checkbox(value=False, description='Penalties - Sales of Firearms')",
      "application/vnd.jupyter.widget-view+json": {
       "version_major": 2,
       "version_minor": 0,
       "model_id": "560a9cf7206f4d3f987b0dc3354e18fb"
      }
     },
     "metadata": {},
     "output_type": "display_data"
    },
    {
     "data": {
      "text/plain": "Checkbox(value=False, description='Robbery-Threat Immed Ser Injury')",
      "application/vnd.jupyter.widget-view+json": {
       "version_major": 2,
       "version_minor": 0,
       "model_id": "50d71cd44c2643e3a41ccc883e375029"
      }
     },
     "metadata": {},
     "output_type": "display_data"
    },
    {
     "data": {
      "text/plain": "Checkbox(value=False, description='Steven 07/10/2020 Proceed to Court Proceed to Court Proceed to Court Procee…",
      "application/vnd.jupyter.widget-view+json": {
       "version_major": 2,
       "version_minor": 0,
       "model_id": "2bfc5a6d9ec349c8bd8aa32fc8480170"
      }
     },
     "metadata": {},
     "output_type": "display_data"
    },
    {
     "data": {
      "text/plain": "Checkbox(value=False, description='or Possession With Intent to Manufacture or Deliver')",
      "application/vnd.jupyter.widget-view+json": {
       "version_major": 2,
       "version_minor": 0,
       "model_id": "43a9bdbbcad544fa8e7126dc3377acbc"
      }
     },
     "metadata": {},
     "output_type": "display_data"
    },
    {
     "data": {
      "text/plain": "Checkbox(value=False, description='Def Tres Posted')",
      "application/vnd.jupyter.widget-view+json": {
       "version_major": 2,
       "version_minor": 0,
       "model_id": "0044cdd037e949aa8ea75002bc7ca00d"
      }
     },
     "metadata": {},
     "output_type": "display_data"
    },
    {
     "data": {
      "text/plain": "Checkbox(value=False, description='Driving W/O A License')",
      "application/vnd.jupyter.widget-view+json": {
       "version_major": 2,
       "version_minor": 0,
       "model_id": "9783537fd20b4fb7ba157143759ad61a"
      }
     },
     "metadata": {},
     "output_type": "display_data"
    },
    {
     "data": {
      "text/plain": "Checkbox(value=False, description='Threatening')",
      "application/vnd.jupyter.widget-view+json": {
       "version_major": 2,
       "version_minor": 0,
       "model_id": "d14c58e3a2cb46fa8f4c0c72ce8148d7"
      }
     },
     "metadata": {},
     "output_type": "display_data"
    },
    {
     "data": {
      "text/plain": "Checkbox(value=False, description='Recklessly Endangering Another Person Unauth Use Motor/Other Vehicles')",
      "application/vnd.jupyter.widget-view+json": {
       "version_major": 2,
       "version_minor": 0,
       "model_id": "b1b803e246d445318ea353731db8a984"
      }
     },
     "metadata": {},
     "output_type": "display_data"
    },
    {
     "data": {
      "text/plain": "Checkbox(value=False, description='DUI: Gen Imp/Inc of Driving Safely - 1st Off')",
      "application/vnd.jupyter.widget-view+json": {
       "version_major": 2,
       "version_minor": 0,
       "model_id": "d6c451f1e7e24a5f8e8df6c6481d8c27"
      }
     },
     "metadata": {},
     "output_type": "display_data"
    },
    {
     "data": {
      "text/plain": "Checkbox(value=False, description='Def Tres Actual Communication to Leave School')",
      "application/vnd.jupyter.widget-view+json": {
       "version_major": 2,
       "version_minor": 0,
       "model_id": "f29e01041f9d4fe08efc70b47ad2f4a8"
      }
     },
     "metadata": {},
     "output_type": "display_data"
    },
    {
     "data": {
      "text/plain": "Checkbox(value=False, description='Receiving Stolen Property Poss Instrument Of Crime W/Int Simple Assault Rec…",
      "application/vnd.jupyter.widget-view+json": {
       "version_major": 2,
       "version_minor": 0,
       "model_id": "edcbf86047c44d10b0826f93be9bbb8d"
      }
     },
     "metadata": {},
     "output_type": "display_data"
    },
    {
     "data": {
      "text/plain": "Checkbox(value=False, description='Sheldon ATTORNEY INFORMATION ENTRIES')",
      "application/vnd.jupyter.widget-view+json": {
       "version_major": 2,
       "version_minor": 0,
       "model_id": "132f909991d249fbb5ca62b12d7b55ad"
      }
     },
     "metadata": {},
     "output_type": "display_data"
    },
    {
     "data": {
      "text/plain": "Checkbox(value=False, description='Escape')",
      "application/vnd.jupyter.widget-view+json": {
       "version_major": 2,
       "version_minor": 0,
       "model_id": "1fdc1cb42b20401b88f391c315a040f0"
      }
     },
     "metadata": {},
     "output_type": "display_data"
    },
    {
     "data": {
      "text/plain": "Checkbox(value=False, description='Conspiracy - Recklessly Endangering Another Person')",
      "application/vnd.jupyter.widget-view+json": {
       "version_major": 2,
       "version_minor": 0,
       "model_id": "b563d654ad07432f9541da64048c6d4f"
      }
     },
     "metadata": {},
     "output_type": "display_data"
    },
    {
     "data": {
      "text/plain": "Checkbox(value=False, description='Agg. Ind. Assault - Forcible Compulsion')",
      "application/vnd.jupyter.widget-view+json": {
       "version_major": 2,
       "version_minor": 0,
       "model_id": "aa4667b0de21479e85098fdd74d86be7"
      }
     },
     "metadata": {},
     "output_type": "display_data"
    },
    {
     "data": {
      "text/plain": "Checkbox(value=False, description='Acci Dam To Unattended Veh Or Propert')",
      "application/vnd.jupyter.widget-view+json": {
       "version_major": 2,
       "version_minor": 0,
       "model_id": "327e1e8e994e498e91c17bc4dae8c7dd"
      }
     },
     "metadata": {},
     "output_type": "display_data"
    },
    {
     "data": {
      "text/plain": "Checkbox(value=False, description='Aggravated Cruelty to Animals - Torture')",
      "application/vnd.jupyter.widget-view+json": {
       "version_major": 2,
       "version_minor": 0,
       "model_id": "96cb5e87bfe7419b988811f284a94db9"
      }
     },
     "metadata": {},
     "output_type": "display_data"
    },
    {
     "data": {
      "text/plain": "Checkbox(value=False, description='Patrick Wiles')",
      "application/vnd.jupyter.widget-view+json": {
       "version_major": 2,
       "version_minor": 0,
       "model_id": "195621fa160b48c18dab6979e9fbb479"
      }
     },
     "metadata": {},
     "output_type": "display_data"
    },
    {
     "data": {
      "text/plain": "Checkbox(value=False, description='Int Poss Contr Subst By Per Not Reg Use/Poss Of Drug Paraph Incarceration/D…",
      "application/vnd.jupyter.widget-view+json": {
       "version_major": 2,
       "version_minor": 0,
       "model_id": "471ae69d19c340568b76fed33237f39c"
      }
     },
     "metadata": {},
     "output_type": "display_data"
    },
    {
     "data": {
      "text/plain": "Checkbox(value=False, description='Sexual Assault')",
      "application/vnd.jupyter.widget-view+json": {
       "version_major": 2,
       "version_minor": 0,
       "model_id": "8630e68a242e44bf94f03d5c55cb3ba3"
      }
     },
     "metadata": {},
     "output_type": "display_data"
    },
    {
     "data": {
      "text/plain": "Checkbox(value=False, description='Accidents Involving Death Or Personal Injury')",
      "application/vnd.jupyter.widget-view+json": {
       "version_major": 2,
       "version_minor": 0,
       "model_id": "df88823371d241d481f900650daabc36"
      }
     },
     "metadata": {},
     "output_type": "display_data"
    },
    {
     "data": {
      "text/plain": "Checkbox(value=False, description='Receiving Stolen Property Poss Instrument Of Crime W/Int Simple Assault Rec…",
      "application/vnd.jupyter.widget-view+json": {
       "version_major": 2,
       "version_minor": 0,
       "model_id": "f1412510c0ea43ca9022d4473e92201d"
      }
     },
     "metadata": {},
     "output_type": "display_data"
    },
    {
     "data": {
      "text/plain": "Checkbox(value=False, description='IDSI Forcible Compulsion')",
      "application/vnd.jupyter.widget-view+json": {
       "version_major": 2,
       "version_minor": 0,
       "model_id": "6c908e413a1d48b1ba91446d5eea4562"
      }
     },
     "metadata": {},
     "output_type": "display_data"
    },
    {
     "data": {
      "text/plain": "Checkbox(value=False, description='Violations Concerning Licenses - Exh. False Id.')",
      "application/vnd.jupyter.widget-view+json": {
       "version_major": 2,
       "version_minor": 0,
       "model_id": "a738d6f00fd1447688912b9399eea875"
      }
     },
     "metadata": {},
     "output_type": "display_data"
    },
    {
     "data": {
      "text/plain": "Checkbox(value=False, description='PA 19109-1023 Filed By ATTORNEY INFORMATION ENTRIES')",
      "application/vnd.jupyter.widget-view+json": {
       "version_major": 2,
       "version_minor": 0,
       "model_id": "41946c57a6314ec0b30e24a33db31c7f"
      }
     },
     "metadata": {},
     "output_type": "display_data"
    },
    {
     "data": {
      "text/plain": "Checkbox(value=False, description='Theft By Unlaw Taking-Movable Prop Receiving Stolen Property Incarceration/…",
      "application/vnd.jupyter.widget-view+json": {
       "version_major": 2,
       "version_minor": 0,
       "model_id": "e88b1754d66849d98197d604382fcf48"
      }
     },
     "metadata": {},
     "output_type": "display_data"
    },
    {
     "data": {
      "text/plain": "Checkbox(value=False, description='\"Criml Misch-Tamper W/Property\"')",
      "application/vnd.jupyter.widget-view+json": {
       "version_major": 2,
       "version_minor": 0,
       "model_id": "24739932206f4023b47dda83dfd0d1ab"
      }
     },
     "metadata": {},
     "output_type": "display_data"
    },
    {
     "data": {
      "text/plain": "Checkbox(value=False, description='Int Poss Contr Subst By Per Not Reg Use/Poss Of Drug Paraph Poss Instrument…",
      "application/vnd.jupyter.widget-view+json": {
       "version_major": 2,
       "version_minor": 0,
       "model_id": "3589acc6fa084404aa2fb63fb98e1df2"
      }
     },
     "metadata": {},
     "output_type": "display_data"
    },
    {
     "data": {
      "text/plain": "Checkbox(value=False, description='Damage RR Property')",
      "application/vnd.jupyter.widget-view+json": {
       "version_major": 2,
       "version_minor": 0,
       "model_id": "a5c22401d8a74b7f848480abb9d3f80d"
      }
     },
     "metadata": {},
     "output_type": "display_data"
    },
    {
     "data": {
      "text/plain": "Checkbox(value=False, description='Neglect of Animals - Tethering')",
      "application/vnd.jupyter.widget-view+json": {
       "version_major": 2,
       "version_minor": 0,
       "model_id": "9457b21739b84856976c7401e2ffd4be"
      }
     },
     "metadata": {},
     "output_type": "display_data"
    },
    {
     "data": {
      "text/plain": "Checkbox(value=False, description='Disregard Traffic Lane (Single) Turning Movements And Required Signals Inca…",
      "application/vnd.jupyter.widget-view+json": {
       "version_major": 2,
       "version_minor": 0,
       "model_id": "1c2f6fce165c4d2a85caabd7e86a84cc"
      }
     },
     "metadata": {},
     "output_type": "display_data"
    },
    {
     "data": {
      "text/plain": "Checkbox(value=False, description='Aggravated Assault By Vehicle While Dui')",
      "application/vnd.jupyter.widget-view+json": {
       "version_major": 2,
       "version_minor": 0,
       "model_id": "e5a407c51a1949f0866e464c72205167"
      }
     },
     "metadata": {},
     "output_type": "display_data"
    },
    {
     "data": {
      "text/plain": "Checkbox(value=False, description='Criminal Attempt - Burglary - Not Adapted for Overnight Accommodation')",
      "application/vnd.jupyter.widget-view+json": {
       "version_major": 2,
       "version_minor": 0,
       "model_id": "26ab79e59af641ca9569ee304c6e4b29"
      }
     },
     "metadata": {},
     "output_type": "display_data"
    },
    {
     "data": {
      "text/plain": "Checkbox(value=False, description='Aggravated Assault - Attempts to cause or causes BI - School')",
      "application/vnd.jupyter.widget-view+json": {
       "version_major": 2,
       "version_minor": 0,
       "model_id": "27e9db9798d6418cbbdc59cf37c5a8f8"
      }
     },
     "metadata": {},
     "output_type": "display_data"
    },
    {
     "data": {
      "text/plain": "Checkbox(value=False, description='photograph')",
      "application/vnd.jupyter.widget-view+json": {
       "version_major": 2,
       "version_minor": 0,
       "model_id": "9fff1ee09b4b4e02bcc6869ce76e16ce"
      }
     },
     "metadata": {},
     "output_type": "display_data"
    },
    {
     "data": {
      "text/plain": "Checkbox(value=False, description='Criminal Attempt - Theft By Unlaw Taking-Movable Prop')",
      "application/vnd.jupyter.widget-view+json": {
       "version_major": 2,
       "version_minor": 0,
       "model_id": "754bb45f2d6a4a2eb17652709b1973ee"
      }
     },
     "metadata": {},
     "output_type": "display_data"
    },
    {
     "data": {
      "text/plain": "Checkbox(value=False, description='Int Poss Contr Subst By Per Not Reg Possession Of Firearm Prohibited')",
      "application/vnd.jupyter.widget-view+json": {
       "version_major": 2,
       "version_minor": 0,
       "model_id": "d8faf0d9357f443eaac843a8c5c729db"
      }
     },
     "metadata": {},
     "output_type": "display_data"
    },
    {
     "data": {
      "text/plain": "Checkbox(value=False, description='Theft By Unlaw Taking-Movable Prop Receiving Stolen Property Poss Instrumen…",
      "application/vnd.jupyter.widget-view+json": {
       "version_major": 2,
       "version_minor": 0,
       "model_id": "743e9b214e27464a875cb066881f1c1c"
      }
     },
     "metadata": {},
     "output_type": "display_data"
    },
    {
     "data": {
      "text/plain": "Checkbox(value=False, description='Criminal Use Of Communication Facility Int Poss Contr Subst By Per Not Reg …",
      "application/vnd.jupyter.widget-view+json": {
       "version_major": 2,
       "version_minor": 0,
       "model_id": "58d3b62aa1584b9288b13cfc85028321"
      }
     },
     "metadata": {},
     "output_type": "display_data"
    },
    {
     "data": {
      "text/plain": "Checkbox(value=False, description='Resist Arrest/Other Law Enforce Retail Theft-Take Mdse')",
      "application/vnd.jupyter.widget-view+json": {
       "version_major": 2,
       "version_minor": 0,
       "model_id": "4b69d456218d47fe92c409a9c245e95e"
      }
     },
     "metadata": {},
     "output_type": "display_data"
    },
    {
     "data": {
      "text/plain": "Checkbox(value=False, description='Resist Arrest/Other Law Enforce')",
      "application/vnd.jupyter.widget-view+json": {
       "version_major": 2,
       "version_minor": 0,
       "model_id": "71ff3c186ca9441f902b54a4ea8b6412"
      }
     },
     "metadata": {},
     "output_type": "display_data"
    },
    {
     "data": {
      "text/plain": "Checkbox(value=False, description='Loans On')",
      "application/vnd.jupyter.widget-view+json": {
       "version_major": 2,
       "version_minor": 0,
       "model_id": "6e82659a7f494150aaaff216ba983ae8"
      }
     },
     "metadata": {},
     "output_type": "display_data"
    },
    {
     "data": {
      "text/plain": "Checkbox(value=False, description='Poss Of Unstamped Cig')",
      "application/vnd.jupyter.widget-view+json": {
       "version_major": 2,
       "version_minor": 0,
       "model_id": "98f0abe0d69740889b625f7020f1e110"
      }
     },
     "metadata": {},
     "output_type": "display_data"
    },
    {
     "data": {
      "text/plain": "Checkbox(value=False, description='Criminal Attempt - Tamper With/Fabricate Physical Evidence')",
      "application/vnd.jupyter.widget-view+json": {
       "version_major": 2,
       "version_minor": 0,
       "model_id": "c9d70cac7dcc499895b82ccf8560bb55"
      }
     },
     "metadata": {},
     "output_type": "display_data"
    },
    {
     "data": {
      "text/plain": "Checkbox(value=False, description='Sale Of Controlled Substance')",
      "application/vnd.jupyter.widget-view+json": {
       "version_major": 2,
       "version_minor": 0,
       "model_id": "45e38973dd5c4d5c947d866d623cfb19"
      }
     },
     "metadata": {},
     "output_type": "display_data"
    },
    {
     "data": {
      "text/plain": "Checkbox(value=False, description='Int Poss Contr Subst By Per Not Reg Carry Firearms Public In Phila Poss Ins…",
      "application/vnd.jupyter.widget-view+json": {
       "version_major": 2,
       "version_minor": 0,
       "model_id": "37561f80524341bebe0ab381d232adcf"
      }
     },
     "metadata": {},
     "output_type": "display_data"
    },
    {
     "data": {
      "text/plain": "Checkbox(value=False, description='Simple Assault Recklessly Endangering Another Person Disposition Date Offen…",
      "application/vnd.jupyter.widget-view+json": {
       "version_major": 2,
       "version_minor": 0,
       "model_id": "807fea418b2a49d8b75c1a2fc03ce6bd"
      }
     },
     "metadata": {},
     "output_type": "display_data"
    },
    {
     "data": {
      "text/plain": "Checkbox(value=False, description='Receiving Stolen Property Poss Instrument Of Crime W/Int Simple Assault Rec…",
      "application/vnd.jupyter.widget-view+json": {
       "version_major": 2,
       "version_minor": 0,
       "model_id": "c27aad142a584425ba2af927b3f614bb"
      }
     },
     "metadata": {},
     "output_type": "display_data"
    },
    {
     "data": {
      "text/plain": "Checkbox(value=False, description='PA 19102 Representing: Kitt')",
      "application/vnd.jupyter.widget-view+json": {
       "version_major": 2,
       "version_minor": 0,
       "model_id": "0aebf69fc0bf4a4399f044560d846358"
      }
     },
     "metadata": {},
     "output_type": "display_data"
    },
    {
     "data": {
      "text/plain": "Checkbox(value=False, description='\"Tamper With Public Record/information Tamper With Public Record/informatio…",
      "application/vnd.jupyter.widget-view+json": {
       "version_major": 2,
       "version_minor": 0,
       "model_id": "4231abd4fa154164b0edb4ac00ecdd31"
      }
     },
     "metadata": {},
     "output_type": "display_data"
    },
    {
     "data": {
      "text/plain": "Checkbox(value=False, description='Poss Instrument Of Crime W/Int Terroristic Threats W/ Int To Terrorize Anot…",
      "application/vnd.jupyter.widget-view+json": {
       "version_major": 2,
       "version_minor": 0,
       "model_id": "b229f12058e54a99b49cfc1cb0af5e46"
      }
     },
     "metadata": {},
     "output_type": "display_data"
    },
    {
     "data": {
      "text/plain": "Checkbox(value=False, description='Abuse Of Corpse Tamper With/Fabricate Physical Evidence Disposition Date Of…",
      "application/vnd.jupyter.widget-view+json": {
       "version_major": 2,
       "version_minor": 0,
       "model_id": "81993645bccb4a469b73ee34d2ebe63d"
      }
     },
     "metadata": {},
     "output_type": "display_data"
    },
    {
     "data": {
      "text/plain": "Checkbox(value=False, description='Criminal Solicitation - Tamper With/Fabricate Physical Evidence')",
      "application/vnd.jupyter.widget-view+json": {
       "version_major": 2,
       "version_minor": 0,
       "model_id": "8e187d46f2184d5db6ede9046ca05198"
      }
     },
     "metadata": {},
     "output_type": "display_data"
    },
    {
     "data": {
      "text/plain": "Checkbox(value=False, description='Carry Firearms Public In Phila Theft By Unlaw Taking-Movable Prop Receiving…",
      "application/vnd.jupyter.widget-view+json": {
       "version_major": 2,
       "version_minor": 0,
       "model_id": "512b337d5c2246e3884a21a39cd7a076"
      }
     },
     "metadata": {},
     "output_type": "display_data"
    },
    {
     "data": {
      "text/plain": "Checkbox(value=False, description='Theft By Unlaw Taking-Movable Prop Receiving Stolen Property Incarceration/…",
      "application/vnd.jupyter.widget-view+json": {
       "version_major": 2,
       "version_minor": 0,
       "model_id": "0cb0254c2b8844dcaf3a25c5f0f622d5"
      }
     },
     "metadata": {},
     "output_type": "display_data"
    },
    {
     "data": {
      "text/plain": "Checkbox(value=False, description='Riot-Intent To Commit Felony')",
      "application/vnd.jupyter.widget-view+json": {
       "version_major": 2,
       "version_minor": 0,
       "model_id": "ecf3d8801f0e466f87e7350b7eb50564"
      }
     },
     "metadata": {},
     "output_type": "display_data"
    },
    {
     "data": {
      "text/plain": "Checkbox(value=False, description='Impersonating A Public Servant')",
      "application/vnd.jupyter.widget-view+json": {
       "version_major": 2,
       "version_minor": 0,
       "model_id": "7753d24550694a1fbb0c705f545e206a"
      }
     },
     "metadata": {},
     "output_type": "display_data"
    },
    {
     "data": {
      "text/plain": "Checkbox(value=False, description='Deal In Proc Unl Act/Intent To Promote Corrupt Organizations')",
      "application/vnd.jupyter.widget-view+json": {
       "version_major": 2,
       "version_minor": 0,
       "model_id": "22c51905131b458aba1c8167b08c7f6e"
      }
     },
     "metadata": {},
     "output_type": "display_data"
    },
    {
     "data": {
      "text/plain": "Checkbox(value=False, description='PA 19102 Representing: Perez Garcia')",
      "application/vnd.jupyter.widget-view+json": {
       "version_major": 2,
       "version_minor": 0,
       "model_id": "c8690b63c9724a70bb4601033ffd03cc"
      }
     },
     "metadata": {},
     "output_type": "display_data"
    },
    {
     "data": {
      "text/plain": "Checkbox(value=False, description='Illegal Park Stand Double Careless Driving Incarceration/Diversionary Perio…",
      "application/vnd.jupyter.widget-view+json": {
       "version_major": 2,
       "version_minor": 0,
       "model_id": "071c6ed464eb43dea4e81216c74736bf"
      }
     },
     "metadata": {},
     "output_type": "display_data"
    },
    {
     "data": {
      "text/plain": "Checkbox(value=False, description='Receiving Stolen Property Unauth Use Motor/Other Vehicles')",
      "application/vnd.jupyter.widget-view+json": {
       "version_major": 2,
       "version_minor": 0,
       "model_id": "1cbe9fd721a447da9c6119150e1d8a4b"
      }
     },
     "metadata": {},
     "output_type": "display_data"
    },
    {
     "data": {
      "text/plain": "Checkbox(value=False, description='Fraud Obt Foodstamps/Assistance')",
      "application/vnd.jupyter.widget-view+json": {
       "version_major": 2,
       "version_minor": 0,
       "model_id": "755bbe247f4b40aa933257d728cecb3d"
      }
     },
     "metadata": {},
     "output_type": "display_data"
    },
    {
     "data": {
      "text/plain": "Checkbox(value=False, description='Identity Theft Identity Theft Identity Theft Identity Theft Identity Theft …",
      "application/vnd.jupyter.widget-view+json": {
       "version_major": 2,
       "version_minor": 0,
       "model_id": "8368447941f04b488bc5796dbf91d07e"
      }
     },
     "metadata": {},
     "output_type": "display_data"
    },
    {
     "data": {
      "text/plain": "Checkbox(value=False, description='Etc Causing Catastrophe Int Poss Contr Subst By Per Not Reg Recklessly Enda…",
      "application/vnd.jupyter.widget-view+json": {
       "version_major": 2,
       "version_minor": 0,
       "model_id": "9935c297d45a41128690193dfdeb4d0b"
      }
     },
     "metadata": {},
     "output_type": "display_data"
    },
    {
     "data": {
      "text/plain": "Checkbox(value=False, description='Receiving Stolen Property Poss Instrument Of Crime W/Int Simple Assault Rec…",
      "application/vnd.jupyter.widget-view+json": {
       "version_major": 2,
       "version_minor": 0,
       "model_id": "8575468b250b4fbb95aa6f2d6da3b235"
      }
     },
     "metadata": {},
     "output_type": "display_data"
    },
    {
     "data": {
      "text/plain": "Checkbox(value=False, description='Crim Tres-Break Into Structure')",
      "application/vnd.jupyter.widget-view+json": {
       "version_major": 2,
       "version_minor": 0,
       "model_id": "d82cb4f8f5c1441dbed9753335979ef5"
      }
     },
     "metadata": {},
     "output_type": "display_data"
    },
    {
     "data": {
      "text/plain": "Checkbox(value=False, description='Poss Instrument Of Crime W/Int Simple Assault Recklessly Endangering Anothe…",
      "application/vnd.jupyter.widget-view+json": {
       "version_major": 2,
       "version_minor": 0,
       "model_id": "f72c9e03c66f4d16b80b0fc48dd59f9d"
      }
     },
     "metadata": {},
     "output_type": "display_data"
    },
    {
     "data": {
      "text/plain": "Checkbox(value=False, description='Theft By Unlaw Taking-Movable Prop Receiving Stolen Property Incarceration/…",
      "application/vnd.jupyter.widget-view+json": {
       "version_major": 2,
       "version_minor": 0,
       "model_id": "d6b718fc81c149b99a35424d24bcebb0"
      }
     },
     "metadata": {},
     "output_type": "display_data"
    },
    {
     "data": {
      "text/plain": "Checkbox(value=False, description='Indecent Assault Person Less than 13 Years of Age')",
      "application/vnd.jupyter.widget-view+json": {
       "version_major": 2,
       "version_minor": 0,
       "model_id": "dabc7a69291c4fd9a969ff705d931751"
      }
     },
     "metadata": {},
     "output_type": "display_data"
    },
    {
     "data": {
      "text/plain": "Checkbox(value=False, description='Ishmeal Filed By ATTORNEY INFORMATION ENTRIES')",
      "application/vnd.jupyter.widget-view+json": {
       "version_major": 2,
       "version_minor": 0,
       "model_id": "ff9062bf7ce94d76935100b7f93579cc"
      }
     },
     "metadata": {},
     "output_type": "display_data"
    },
    {
     "data": {
      "text/plain": "Checkbox(value=False, description='Criminal Attempt - Statutory Sexual Assault: 8-11 Years Older')",
      "application/vnd.jupyter.widget-view+json": {
       "version_major": 2,
       "version_minor": 0,
       "model_id": "d098a5feae2444fb8737bfe885bf8130"
      }
     },
     "metadata": {},
     "output_type": "display_data"
    },
    {
     "data": {
      "text/plain": "Checkbox(value=False, description='Unknown Statute Careless Driving')",
      "application/vnd.jupyter.widget-view+json": {
       "version_major": 2,
       "version_minor": 0,
       "model_id": "0b74a356e3cf4e3c863693f5ba71882f"
      }
     },
     "metadata": {},
     "output_type": "display_data"
    },
    {
     "data": {
      "text/plain": "Checkbox(value=False, description='Dangerous Burning')",
      "application/vnd.jupyter.widget-view+json": {
       "version_major": 2,
       "version_minor": 0,
       "model_id": "513a404cc9714ba7b46bbe04b311dfa5"
      }
     },
     "metadata": {},
     "output_type": "display_data"
    },
    {
     "data": {
      "text/plain": "Checkbox(value=False, description='False Imprisonment Unauth Use Motor/Other Vehicles')",
      "application/vnd.jupyter.widget-view+json": {
       "version_major": 2,
       "version_minor": 0,
       "model_id": "d409a13a345347b8937b437e889c1f90"
      }
     },
     "metadata": {},
     "output_type": "display_data"
    },
    {
     "data": {
      "text/plain": "Checkbox(value=False, description='Drive On Sidewalk')",
      "application/vnd.jupyter.widget-view+json": {
       "version_major": 2,
       "version_minor": 0,
       "model_id": "3974da5bb631401abc1acfa31f844636"
      }
     },
     "metadata": {},
     "output_type": "display_data"
    },
    {
     "data": {
      "text/plain": "Checkbox(value=False, description='Person Present')",
      "application/vnd.jupyter.widget-view+json": {
       "version_major": 2,
       "version_minor": 0,
       "model_id": "e8dc3213f6354cde8b1748fe97cfda30"
      }
     },
     "metadata": {},
     "output_type": "display_data"
    },
    {
     "data": {
      "text/plain": "Checkbox(value=False, description='Simple Assault Recklessly Endangering Another Person False Imprisonment Dis…",
      "application/vnd.jupyter.widget-view+json": {
       "version_major": 2,
       "version_minor": 0,
       "model_id": "0d93d945a8044ebe88d637423e95dc18"
      }
     },
     "metadata": {},
     "output_type": "display_data"
    },
    {
     "data": {
      "text/plain": "Checkbox(value=False, description='Deposit Trash On Street')",
      "application/vnd.jupyter.widget-view+json": {
       "version_major": 2,
       "version_minor": 0,
       "model_id": "f902ec57874c4b8b82e8d2cfa380d72f"
      }
     },
     "metadata": {},
     "output_type": "display_data"
    },
    {
     "data": {
      "text/plain": "Checkbox(value=False, description='Too Slow For Conditions')",
      "application/vnd.jupyter.widget-view+json": {
       "version_major": 2,
       "version_minor": 0,
       "model_id": "ee61821c878a4b7cbe5c7d29f38398e4"
      }
     },
     "metadata": {},
     "output_type": "display_data"
    },
    {
     "data": {
      "text/plain": "Checkbox(value=False, description='IDSI Person Less Than 16 Yrs Age')",
      "application/vnd.jupyter.widget-view+json": {
       "version_major": 2,
       "version_minor": 0,
       "model_id": "0268575f382b4919954a47ed94477c34"
      }
     },
     "metadata": {},
     "output_type": "display_data"
    },
    {
     "data": {
      "text/plain": "Checkbox(value=False, description='Criminal Mischief Criminal Mischief Criminal Mischief Criminal Mischief Acc…",
      "application/vnd.jupyter.widget-view+json": {
       "version_major": 2,
       "version_minor": 0,
       "model_id": "3d6a331fed154813a3fe97eadb2251ed"
      }
     },
     "metadata": {},
     "output_type": "display_data"
    },
    {
     "data": {
      "text/plain": "Checkbox(value=False, description='Conspiracy Theft By Unlaw Taking-Movable Prop Receiving Stolen Property Unl…",
      "application/vnd.jupyter.widget-view+json": {
       "version_major": 2,
       "version_minor": 0,
       "model_id": "3d67b1e7cb91478e8846b1753eb2c881"
      }
     },
     "metadata": {},
     "output_type": "display_data"
    },
    {
     "data": {
      "text/plain": "Checkbox(value=False, description='Accidents Involving Death or Injury While Not Licensed')",
      "application/vnd.jupyter.widget-view+json": {
       "version_major": 2,
       "version_minor": 0,
       "model_id": "7d834ca29d254e818cbe0830983a61ce"
      }
     },
     "metadata": {},
     "output_type": "display_data"
    },
    {
     "data": {
      "text/plain": "Checkbox(value=False, description='Simple Assault Recklessly Endangering Another Person Disorder Conduct Hazar…",
      "application/vnd.jupyter.widget-view+json": {
       "version_major": 2,
       "version_minor": 0,
       "model_id": "8a4306ab9b6c45579a5a4dd98399e301"
      }
     },
     "metadata": {},
     "output_type": "display_data"
    },
    {
     "data": {
      "text/plain": "Checkbox(value=False, description='Recklessly Endangering Another Person')",
      "application/vnd.jupyter.widget-view+json": {
       "version_major": 2,
       "version_minor": 0,
       "model_id": "1298c8ef66444a109b5576ec1c3b6662"
      }
     },
     "metadata": {},
     "output_type": "display_data"
    },
    {
     "data": {
      "text/plain": "Checkbox(value=False, description='Criminal Use Of Communication Facility Int Poss Contr Subst By Per Not Reg'…",
      "application/vnd.jupyter.widget-view+json": {
       "version_major": 2,
       "version_minor": 0,
       "model_id": "67d7a05db2614da4b4e737ea0539886b"
      }
     },
     "metadata": {},
     "output_type": "display_data"
    },
    {
     "data": {
      "text/plain": "Checkbox(value=False, description='Criminal Attempt - Receiving Stolen Property')",
      "application/vnd.jupyter.widget-view+json": {
       "version_major": 2,
       "version_minor": 0,
       "model_id": "394a2008eb2a437eae803b6a23ca1903"
      }
     },
     "metadata": {},
     "output_type": "display_data"
    },
    {
     "data": {
      "text/plain": "Checkbox(value=False, description='Abdul ATTORNEY INFORMATION ENTRIES')",
      "application/vnd.jupyter.widget-view+json": {
       "version_major": 2,
       "version_minor": 0,
       "model_id": "3055cc3ea54d42abb1ff067881415b19"
      }
     },
     "metadata": {},
     "output_type": "display_data"
    },
    {
     "data": {
      "text/plain": "Checkbox(value=False, description='Jeffry Proceed to Court Proceed to Court Proceed to Court Proceed to Court …",
      "application/vnd.jupyter.widget-view+json": {
       "version_major": 2,
       "version_minor": 0,
       "model_id": "f3218ac65913443184d17e4cb7fe0081"
      }
     },
     "metadata": {},
     "output_type": "display_data"
    },
    {
     "data": {
      "text/plain": "Checkbox(value=False, description='Harassment - Subject Other to Physical Contact')",
      "application/vnd.jupyter.widget-view+json": {
       "version_major": 2,
       "version_minor": 0,
       "model_id": "b655c66d5e764c8196941f8166ab9bb9"
      }
     },
     "metadata": {},
     "output_type": "display_data"
    },
    {
     "data": {
      "text/plain": "Checkbox(value=False, description='Int Poss Contr Subst By Per Not Reg Use/Poss Of Drug Paraph')",
      "application/vnd.jupyter.widget-view+json": {
       "version_major": 2,
       "version_minor": 0,
       "model_id": "559f824382d9459ca98c81be51668783"
      }
     },
     "metadata": {},
     "output_type": "display_data"
    },
    {
     "data": {
      "text/plain": "Checkbox(value=False, description='Luis Filed By ATTORNEY INFORMATION ENTRIES')",
      "application/vnd.jupyter.widget-view+json": {
       "version_major": 2,
       "version_minor": 0,
       "model_id": "a94ec96ff693481fa84a376afb3426c8"
      }
     },
     "metadata": {},
     "output_type": "display_data"
    },
    {
     "data": {
      "text/plain": "Checkbox(value=False, description='Viol Use Limited Access Hwy')",
      "application/vnd.jupyter.widget-view+json": {
       "version_major": 2,
       "version_minor": 0,
       "model_id": "1c5e829f264342e1a4f7f834e7694bae"
      }
     },
     "metadata": {},
     "output_type": "display_data"
    },
    {
     "data": {
      "text/plain": "Checkbox(value=False, description='Simple Assault')",
      "application/vnd.jupyter.widget-view+json": {
       "version_major": 2,
       "version_minor": 0,
       "model_id": "57b7e22736724596b427c411aa01fcb2"
      }
     },
     "metadata": {},
     "output_type": "display_data"
    },
    {
     "data": {
      "text/plain": "Checkbox(value=False, description='Indec Asslt-W/O Cons Of Other')",
      "application/vnd.jupyter.widget-view+json": {
       "version_major": 2,
       "version_minor": 0,
       "model_id": "f1d99901133b4e54841a5ecd26999a82"
      }
     },
     "metadata": {},
     "output_type": "display_data"
    },
    {
     "data": {
      "text/plain": "Checkbox(value=False, description='Scatter Rubbish Upon Land/Stream Etc')",
      "application/vnd.jupyter.widget-view+json": {
       "version_major": 2,
       "version_minor": 0,
       "model_id": "492768534a654b53b8c8454565bfec07"
      }
     },
     "metadata": {},
     "output_type": "display_data"
    },
    {
     "data": {
      "text/plain": "Checkbox(value=False, description='Uses Incapacitation Device')",
      "application/vnd.jupyter.widget-view+json": {
       "version_major": 2,
       "version_minor": 0,
       "model_id": "1af0d3aef95f4371a4f49b95cc9b154d"
      }
     },
     "metadata": {},
     "output_type": "display_data"
    },
    {
     "data": {
      "text/plain": "Checkbox(value=False, description='Criminal Attempt - Murder of A Law Enforcement Officer of the First Degree'…",
      "application/vnd.jupyter.widget-view+json": {
       "version_major": 2,
       "version_minor": 0,
       "model_id": "da0ac4385e7e403a9538ff71ee608df0"
      }
     },
     "metadata": {},
     "output_type": "display_data"
    },
    {
     "data": {
      "text/plain": "Checkbox(value=False, description='Criminal Attempt - Penalties - Sales of Firearms')",
      "application/vnd.jupyter.widget-view+json": {
       "version_major": 2,
       "version_minor": 0,
       "model_id": "9cda2fadd0b54ab5bd7afe5fe82a35a6"
      }
     },
     "metadata": {},
     "output_type": "display_data"
    },
    {
     "data": {
      "text/plain": "Checkbox(value=False, description='Theft By Unlaw Taking-Movable Prop Receiving Stolen Property Criminal Misch…",
      "application/vnd.jupyter.widget-view+json": {
       "version_major": 2,
       "version_minor": 0,
       "model_id": "81efdc90ff12431fbcd35d43745fcefa"
      }
     },
     "metadata": {},
     "output_type": "display_data"
    },
    {
     "data": {
      "text/plain": "Checkbox(value=False, description='Criminal Use Of Communication Facility Poss Instrument Of Crime W/Int Poss …",
      "application/vnd.jupyter.widget-view+json": {
       "version_major": 2,
       "version_minor": 0,
       "model_id": "4ed5e37df2994032bef403b6b2e0e61d"
      }
     },
     "metadata": {},
     "output_type": "display_data"
    },
    {
     "data": {
      "text/plain": "Checkbox(value=False, description='Counterfeiting Tax Stamps')",
      "application/vnd.jupyter.widget-view+json": {
       "version_major": 2,
       "version_minor": 0,
       "model_id": "9c641717c502422bb259be2337e9b7bc"
      }
     },
     "metadata": {},
     "output_type": "display_data"
    },
    {
     "data": {
      "text/plain": "Checkbox(value=False, description='Fail To Carry Lic Driv While Oper Priv Susp Or Revoked Disregard Traffic La…",
      "application/vnd.jupyter.widget-view+json": {
       "version_major": 2,
       "version_minor": 0,
       "model_id": "724c2a5907a642928d3ac1d5e41a6ed7"
      }
     },
     "metadata": {},
     "output_type": "display_data"
    },
    {
     "data": {
      "text/plain": "Checkbox(value=False, description='Manufacture')",
      "application/vnd.jupyter.widget-view+json": {
       "version_major": 2,
       "version_minor": 0,
       "model_id": "ea3218ea95a0426fa1405e8e3241c3fb"
      }
     },
     "metadata": {},
     "output_type": "display_data"
    },
    {
     "data": {
      "text/plain": "Checkbox(value=False, description='IDSI Person Unconscious')",
      "application/vnd.jupyter.widget-view+json": {
       "version_major": 2,
       "version_minor": 0,
       "model_id": "888a998bdd124b6e8dd7c0c2d026723c"
      }
     },
     "metadata": {},
     "output_type": "display_data"
    },
    {
     "data": {
      "text/plain": "Checkbox(value=False, description='Kourtney ATTORNEY INFORMATION')",
      "application/vnd.jupyter.widget-view+json": {
       "version_major": 2,
       "version_minor": 0,
       "model_id": "5521fa873a064c559c3fba2b8cae89e1"
      }
     },
     "metadata": {},
     "output_type": "display_data"
    },
    {
     "data": {
      "text/plain": "Checkbox(value=False, description='Terroristic Threats W/ Int To Terrorize Another Simple Assault Recklessly E…",
      "application/vnd.jupyter.widget-view+json": {
       "version_major": 2,
       "version_minor": 0,
       "model_id": "1994d50ee4564698a8e2d897918c9d9d"
      }
     },
     "metadata": {},
     "output_type": "display_data"
    },
    {
     "data": {
      "text/plain": "Checkbox(value=False, description='Fail to Register with PSP')",
      "application/vnd.jupyter.widget-view+json": {
       "version_major": 2,
       "version_minor": 0,
       "model_id": "44a207c9d6044322a355daf25351efd7"
      }
     },
     "metadata": {},
     "output_type": "display_data"
    },
    {
     "data": {
      "text/plain": "Checkbox(value=False, description='Contact/Comm.W/Minor-Sexual Offenses')",
      "application/vnd.jupyter.widget-view+json": {
       "version_major": 2,
       "version_minor": 0,
       "model_id": "816aeb75268e45d3b5ea39b6d01937fc"
      }
     },
     "metadata": {},
     "output_type": "display_data"
    },
    {
     "data": {
      "text/plain": "Checkbox(value=False, description='Corruption Of Minors - Defendant Age 18 or Above')",
      "application/vnd.jupyter.widget-view+json": {
       "version_major": 2,
       "version_minor": 0,
       "model_id": "324abf3e10d84daca7195e4b1e150dc0"
      }
     },
     "metadata": {},
     "output_type": "display_data"
    },
    {
     "data": {
      "text/plain": "Checkbox(value=False, description='Unlawful Contact With Minor - Sexual Offenses Statutory Sexual Assault: 8-1…",
      "application/vnd.jupyter.widget-view+json": {
       "version_major": 2,
       "version_minor": 0,
       "model_id": "9ada1f5cae8b43e6b60f014651526037"
      }
     },
     "metadata": {},
     "output_type": "display_data"
    },
    {
     "data": {
      "text/plain": "Checkbox(value=False, description='Corrupt Organizations')",
      "application/vnd.jupyter.widget-view+json": {
       "version_major": 2,
       "version_minor": 0,
       "model_id": "a77a6c4de18e4de5b7083b3ee58be07d"
      }
     },
     "metadata": {},
     "output_type": "display_data"
    },
    {
     "data": {
      "text/plain": "Checkbox(value=False, description='Simple Assault Recklessly Endangering Another Person Disposition Date Offen…",
      "application/vnd.jupyter.widget-view+json": {
       "version_major": 2,
       "version_minor": 0,
       "model_id": "8dfc99d696084d7b89ce6492784c434f"
      }
     },
     "metadata": {},
     "output_type": "display_data"
    },
    {
     "data": {
      "text/plain": "Checkbox(value=False, description='Carry Firearms Public In Phila Poss Instrument Of Crime W/Int Theft By Unla…",
      "application/vnd.jupyter.widget-view+json": {
       "version_major": 2,
       "version_minor": 0,
       "model_id": "721653d58bbf42aa9e99bb22410a94c4"
      }
     },
     "metadata": {},
     "output_type": "display_data"
    },
    {
     "data": {
      "text/plain": "Checkbox(value=False, description='False Imprisonment of Minor/Not Parent')",
      "application/vnd.jupyter.widget-view+json": {
       "version_major": 2,
       "version_minor": 0,
       "model_id": "070c64fd64e14365b2b9cdda3ed51550"
      }
     },
     "metadata": {},
     "output_type": "display_data"
    },
    {
     "data": {
      "text/plain": "Checkbox(value=False, description='Simple Assault Recklessly Endangering Another Person Disposition Date Offen…",
      "application/vnd.jupyter.widget-view+json": {
       "version_major": 2,
       "version_minor": 0,
       "model_id": "769736d66ea942078202e9c61a12e579"
      }
     },
     "metadata": {},
     "output_type": "display_data"
    },
    {
     "data": {
      "text/plain": "Checkbox(value=False, description='Aiding Consummation Of Crime')",
      "application/vnd.jupyter.widget-view+json": {
       "version_major": 2,
       "version_minor": 0,
       "model_id": "e068c1f57fb04f3aaf1a491be3a41eb7"
      }
     },
     "metadata": {},
     "output_type": "display_data"
    },
    {
     "data": {
      "text/plain": "Checkbox(value=False, description='Poss Instrument Of Crime W/Int Terroristic Threats W/ Int To Terrorize Anot…",
      "application/vnd.jupyter.widget-view+json": {
       "version_major": 2,
       "version_minor": 0,
       "model_id": "5cb32d5a7e3a4160a7a6dfbdd42f6e82"
      }
     },
     "metadata": {},
     "output_type": "display_data"
    },
    {
     "data": {
      "text/plain": "Checkbox(value=False, description='Owning Operating Conducting A Chop Shop')",
      "application/vnd.jupyter.widget-view+json": {
       "version_major": 2,
       "version_minor": 0,
       "model_id": "f655b7594b174095a344f7f2708cecaf"
      }
     },
     "metadata": {},
     "output_type": "display_data"
    },
    {
     "data": {
      "text/plain": "Checkbox(value=False, description='Manuf Malt/Brewed Bev W/O License')",
      "application/vnd.jupyter.widget-view+json": {
       "version_major": 2,
       "version_minor": 0,
       "model_id": "b42adab6d2b647c091125bcae3f234ac"
      }
     },
     "metadata": {},
     "output_type": "display_data"
    },
    {
     "data": {
      "text/plain": "Checkbox(value=False, description='Bilal Filed By ATTORNEY INFORMATION ENTRIES')",
      "application/vnd.jupyter.widget-view+json": {
       "version_major": 2,
       "version_minor": 0,
       "model_id": "14b5e19fb3e2419087d537d520591693"
      }
     },
     "metadata": {},
     "output_type": "display_data"
    },
    {
     "data": {
      "text/plain": "Checkbox(value=False, description='Poss Instrument Of Crime W/Int Simple Assault Recklessly Endangering Anothe…",
      "application/vnd.jupyter.widget-view+json": {
       "version_major": 2,
       "version_minor": 0,
       "model_id": "151045bccdc84ce2a975fa736b183a3f"
      }
     },
     "metadata": {},
     "output_type": "display_data"
    },
    {
     "data": {
      "text/plain": "Checkbox(value=False, description='Recklessly Endangering Another Person Tamper With/Fabricate Physical Eviden…",
      "application/vnd.jupyter.widget-view+json": {
       "version_major": 2,
       "version_minor": 0,
       "model_id": "aa5aa0021691495ab19a371c82501460"
      }
     },
     "metadata": {},
     "output_type": "display_data"
    },
    {
     "data": {
      "text/plain": "Checkbox(value=False, description='\"Fail To Disperse Upon Offl Order\"')",
      "application/vnd.jupyter.widget-view+json": {
       "version_major": 2,
       "version_minor": 0,
       "model_id": "b3616de049664ec29416aeacfa65d9fa"
      }
     },
     "metadata": {},
     "output_type": "display_data"
    },
    {
     "data": {
      "text/plain": "Checkbox(value=False, description='Marijuana-Small Amt Personal Use')",
      "application/vnd.jupyter.widget-view+json": {
       "version_major": 2,
       "version_minor": 0,
       "model_id": "f2f706470bac4345a3ab351f0d16139d"
      }
     },
     "metadata": {},
     "output_type": "display_data"
    },
    {
     "data": {
      "text/plain": "Checkbox(value=False, description='Third Degree Murder Of Unborn Child')",
      "application/vnd.jupyter.widget-view+json": {
       "version_major": 2,
       "version_minor": 0,
       "model_id": "f6f6f535cd7c4189b56cc112330a9fa4"
      }
     },
     "metadata": {},
     "output_type": "display_data"
    },
    {
     "data": {
      "text/plain": "Checkbox(value=False, description='Corian Filed By ATTORNEY INFORMATION ENTRIES')",
      "application/vnd.jupyter.widget-view+json": {
       "version_major": 2,
       "version_minor": 0,
       "model_id": "4dd4f595369049a58a03b698a68bb19e"
      }
     },
     "metadata": {},
     "output_type": "display_data"
    },
    {
     "data": {
      "text/plain": "Checkbox(value=False, description='Weapons of Mass Dest. - Unlawful Poss or Manu Weapons of Mass Dest. - Unlaw…",
      "application/vnd.jupyter.widget-view+json": {
       "version_major": 2,
       "version_minor": 0,
       "model_id": "aece2a698d3249e6a6ce4a4fa1ba67f7"
      }
     },
     "metadata": {},
     "output_type": "display_data"
    },
    {
     "data": {
      "text/plain": "Checkbox(value=False, description='Criminal Attempt - Crim Tres-Break Into Structure')",
      "application/vnd.jupyter.widget-view+json": {
       "version_major": 2,
       "version_minor": 0,
       "model_id": "ef6138212d824f25b4188a01a1f8c2da"
      }
     },
     "metadata": {},
     "output_type": "display_data"
    },
    {
     "data": {
      "text/plain": "Checkbox(value=False, description='Simple Assault Recklessly Endangering Another Person Disposition Date Offen…",
      "application/vnd.jupyter.widget-view+json": {
       "version_major": 2,
       "version_minor": 0,
       "model_id": "a3a43ecbad5d48faa8255fe8e92df01e"
      }
     },
     "metadata": {},
     "output_type": "display_data"
    },
    {
     "data": {
      "text/plain": "Checkbox(value=False, description='Receiving Stolen Property Poss Instrument Of Crime W/Int Terroristic Threat…",
      "application/vnd.jupyter.widget-view+json": {
       "version_major": 2,
       "version_minor": 0,
       "model_id": "71436a6b5c2f4a6886a7d6604f73c24b"
      }
     },
     "metadata": {},
     "output_type": "display_data"
    },
    {
     "data": {
      "text/plain": "Checkbox(value=False, description='Fail To Signal')",
      "application/vnd.jupyter.widget-view+json": {
       "version_major": 2,
       "version_minor": 0,
       "model_id": "bd05f97ddabc4e5996f45d989ecc8709"
      }
     },
     "metadata": {},
     "output_type": "display_data"
    },
    {
     "data": {
      "text/plain": "Checkbox(value=False, description='\"Oper Veh W/O Reqd Financ Resp\"')",
      "application/vnd.jupyter.widget-view+json": {
       "version_major": 2,
       "version_minor": 0,
       "model_id": "2372271c98de4660999032cba2d08c32"
      }
     },
     "metadata": {},
     "output_type": "display_data"
    },
    {
     "data": {
      "text/plain": "Checkbox(value=False, description='Angel Filed By ATTORNEY INFORMATION ENTRIES')",
      "application/vnd.jupyter.widget-view+json": {
       "version_major": 2,
       "version_minor": 0,
       "model_id": "5e3daeb742794efdb7e2b5d8acbf8a6b"
      }
     },
     "metadata": {},
     "output_type": "display_data"
    },
    {
     "data": {
      "text/plain": "Checkbox(value=False, description='Etc. Language Incarceration/Diversionary Period Disposition Date Offense Di…",
      "application/vnd.jupyter.widget-view+json": {
       "version_major": 2,
       "version_minor": 0,
       "model_id": "b6a22081bbf945c284c2753203fc784c"
      }
     },
     "metadata": {},
     "output_type": "display_data"
    },
    {
     "data": {
      "text/plain": "Checkbox(value=False, description='Criminal Solicitation - Purc/Rec Of Cont Substby Unauth Per')",
      "application/vnd.jupyter.widget-view+json": {
       "version_major": 2,
       "version_minor": 0,
       "model_id": "1956318556884313bebc31413783d9b1"
      }
     },
     "metadata": {},
     "output_type": "display_data"
    },
    {
     "data": {
      "text/plain": "Checkbox(value=False, description='Aggravated assault by vehicle DUI: Gen Imp/Inc of Driving Safely - 1st Off …",
      "application/vnd.jupyter.widget-view+json": {
       "version_major": 2,
       "version_minor": 0,
       "model_id": "be791102868a40a5bdb3179fecaf0fff"
      }
     },
     "metadata": {},
     "output_type": "display_data"
    },
    {
     "data": {
      "text/plain": "Checkbox(value=False, description='Everton Proceed to Court Proceed to Court Proceed to Court Proceed to Court…",
      "application/vnd.jupyter.widget-view+json": {
       "version_major": 2,
       "version_minor": 0,
       "model_id": "6e6206033d0445dea422303665b1244b"
      }
     },
     "metadata": {},
     "output_type": "display_data"
    },
    {
     "data": {
      "text/plain": "Checkbox(value=False, description='Posses Firearm W/Manufacturer Number Altered')",
      "application/vnd.jupyter.widget-view+json": {
       "version_major": 2,
       "version_minor": 0,
       "model_id": "fc10e3279f01414fa7c10441a1c0806a"
      }
     },
     "metadata": {},
     "output_type": "display_data"
    },
    {
     "data": {
      "text/plain": "Checkbox(value=False, description='Criminal Attempt - Theft From A Motor Vehicle')",
      "application/vnd.jupyter.widget-view+json": {
       "version_major": 2,
       "version_minor": 0,
       "model_id": "9ce0bfe6d2744e0682a25bf32e635071"
      }
     },
     "metadata": {},
     "output_type": "display_data"
    },
    {
     "data": {
      "text/plain": "Checkbox(value=False, description='Receiving Stolen Property Criminal Mischief Incarceration/Diversionary Peri…",
      "application/vnd.jupyter.widget-view+json": {
       "version_major": 2,
       "version_minor": 0,
       "model_id": "d9925a94401d48e480553789a31033b2"
      }
     },
     "metadata": {},
     "output_type": "display_data"
    },
    {
     "data": {
      "text/plain": "Checkbox(value=False, description='Receiving Stolen Property Poss Instrument Of Crime W/Int')",
      "application/vnd.jupyter.widget-view+json": {
       "version_major": 2,
       "version_minor": 0,
       "model_id": "e04a766272624268b7b8fa8419491d9f"
      }
     },
     "metadata": {},
     "output_type": "display_data"
    },
    {
     "data": {
      "text/plain": "Checkbox(value=False, description='Wayne Filed By ATTORNEY INFORMATION ENTRIES')",
      "application/vnd.jupyter.widget-view+json": {
       "version_major": 2,
       "version_minor": 0,
       "model_id": "ac1ee5c01ff649568b505a2020eb8906"
      }
     },
     "metadata": {},
     "output_type": "display_data"
    },
    {
     "data": {
      "text/plain": "Checkbox(value=False, description='Poss Instrument Of Crime W/Int Simple Assault Recklessly Endangering Anothe…",
      "application/vnd.jupyter.widget-view+json": {
       "version_major": 2,
       "version_minor": 0,
       "model_id": "94c0e56607644cbd84d081c7e7191f6e"
      }
     },
     "metadata": {},
     "output_type": "display_data"
    },
    {
     "data": {
      "text/plain": "Checkbox(value=False, description='Disorderly Conduct / Grading')",
      "application/vnd.jupyter.widget-view+json": {
       "version_major": 2,
       "version_minor": 0,
       "model_id": "d11bbfffc4ab42a5a93ba29a669649e1"
      }
     },
     "metadata": {},
     "output_type": "display_data"
    },
    {
     "data": {
      "text/plain": "Checkbox(value=False, description='Simple Assault Recklessly Endangering Another Person Disposition Date Offen…",
      "application/vnd.jupyter.widget-view+json": {
       "version_major": 2,
       "version_minor": 0,
       "model_id": "ad62d20ba0a94dd486a38055ab1da9f0"
      }
     },
     "metadata": {},
     "output_type": "display_data"
    },
    {
     "data": {
      "text/plain": "Checkbox(value=False, description='Receiving Stolen Property Simple Assault Recklessly Endangering Another Per…",
      "application/vnd.jupyter.widget-view+json": {
       "version_major": 2,
       "version_minor": 0,
       "model_id": "72a84101a6774db4b9237ae1542d26be"
      }
     },
     "metadata": {},
     "output_type": "display_data"
    },
    {
     "data": {
      "text/plain": "Checkbox(value=False, description='Poss Instrument Of Crime W/Int Poss Instrument Of Crime W/Int Poss Instrume…",
      "application/vnd.jupyter.widget-view+json": {
       "version_major": 2,
       "version_minor": 0,
       "model_id": "f5ef92040dc647bfa2f7650e67e575e7"
      }
     },
     "metadata": {},
     "output_type": "display_data"
    },
    {
     "data": {
      "text/plain": "Checkbox(value=False, description='Criminal Attempt - Def Tres Posted')",
      "application/vnd.jupyter.widget-view+json": {
       "version_major": 2,
       "version_minor": 0,
       "model_id": "6e475ac0926342d2a8f48250d2b9b665"
      }
     },
     "metadata": {},
     "output_type": "display_data"
    },
    {
     "data": {
      "text/plain": "Checkbox(value=False, description='Secure Execution Docs By Deception')",
      "application/vnd.jupyter.widget-view+json": {
       "version_major": 2,
       "version_minor": 0,
       "model_id": "0b8a40a89e4b424bbb98a7195dd4daa3"
      }
     },
     "metadata": {},
     "output_type": "display_data"
    },
    {
     "data": {
      "text/plain": "Checkbox(value=False, description='Recklessly Endangering Another Person Conspiracy')",
      "application/vnd.jupyter.widget-view+json": {
       "version_major": 2,
       "version_minor": 0,
       "model_id": "a9c3cf968f3441b5b40ebc727c78ace9"
      }
     },
     "metadata": {},
     "output_type": "display_data"
    },
    {
     "data": {
      "text/plain": "Checkbox(value=False, description='Receiving Stolen Property')",
      "application/vnd.jupyter.widget-view+json": {
       "version_major": 2,
       "version_minor": 0,
       "model_id": "296c8405bd8f4db8b415e1d4d7c7572b"
      }
     },
     "metadata": {},
     "output_type": "display_data"
    },
    {
     "data": {
      "text/plain": "Checkbox(value=False, description='Tamper With Public Record/information')",
      "application/vnd.jupyter.widget-view+json": {
       "version_major": 2,
       "version_minor": 0,
       "model_id": "4a1525d66cd4454194aa2bb6912f47c2"
      }
     },
     "metadata": {},
     "output_type": "display_data"
    },
    {
     "data": {
      "text/plain": "Checkbox(value=False, description='Carry Firearms Public In Phila')",
      "application/vnd.jupyter.widget-view+json": {
       "version_major": 2,
       "version_minor": 0,
       "model_id": "620ee9119f3f4214b1af645485ba6d07"
      }
     },
     "metadata": {},
     "output_type": "display_data"
    },
    {
     "data": {
      "text/plain": "Checkbox(value=False, description='Conspiracy - Fraud Document - Insurance Rate Determ')",
      "application/vnd.jupyter.widget-view+json": {
       "version_major": 2,
       "version_minor": 0,
       "model_id": "0e9f8a66bdbb4e1e84c37f75dbc3ea0a"
      }
     },
     "metadata": {},
     "output_type": "display_data"
    },
    {
     "data": {
      "text/plain": "Checkbox(value=False, description='Theft Property Lost Etc By Mistake')",
      "application/vnd.jupyter.widget-view+json": {
       "version_major": 2,
       "version_minor": 0,
       "model_id": "4de227ee388947e58b554a6e26bbeadc"
      }
     },
     "metadata": {},
     "output_type": "display_data"
    },
    {
     "data": {
      "text/plain": "Checkbox(value=False, description='PA 19114-5337 Representing: Bernard')",
      "application/vnd.jupyter.widget-view+json": {
       "version_major": 2,
       "version_minor": 0,
       "model_id": "1ff0b8cdc4b74061ad4db5ee3a642cf3"
      }
     },
     "metadata": {},
     "output_type": "display_data"
    },
    {
     "data": {
      "text/plain": "Checkbox(value=False, description='\"Retail Dealer Reqd To Be Licensed\"')",
      "application/vnd.jupyter.widget-view+json": {
       "version_major": 2,
       "version_minor": 0,
       "model_id": "356b24aabba04b998fa98cab06ac08e4"
      }
     },
     "metadata": {},
     "output_type": "display_data"
    },
    {
     "data": {
      "text/plain": "Checkbox(value=False, description='Forgery - Alter Writing Forgery - Alter Writing Forgery - Alter Writing For…",
      "application/vnd.jupyter.widget-view+json": {
       "version_major": 2,
       "version_minor": 0,
       "model_id": "a1753aff994d44df971ad59371c9235b"
      }
     },
     "metadata": {},
     "output_type": "display_data"
    },
    {
     "data": {
      "text/plain": "Checkbox(value=False, description='Obstruct Admin Law/Other Govt Func Recklessly Endangering Another Person In…",
      "application/vnd.jupyter.widget-view+json": {
       "version_major": 2,
       "version_minor": 0,
       "model_id": "4e61d5d209f34436a578456cb91320ef"
      }
     },
     "metadata": {},
     "output_type": "display_data"
    },
    {
     "data": {
      "text/plain": "Checkbox(value=False, description='PA 19150-3608 Representing: Elliott')",
      "application/vnd.jupyter.widget-view+json": {
       "version_major": 2,
       "version_minor": 0,
       "model_id": "c768d6346e14441daabbf970da6f9b91"
      }
     },
     "metadata": {},
     "output_type": "display_data"
    },
    {
     "data": {
      "text/plain": "Checkbox(value=False, description='LAWRENCE Filed By ATTORNEY INFORMATION ENTRIES')",
      "application/vnd.jupyter.widget-view+json": {
       "version_major": 2,
       "version_minor": 0,
       "model_id": "19bf4aafb7ea4b249d29eab1adfef5e9"
      }
     },
     "metadata": {},
     "output_type": "display_data"
    },
    {
     "data": {
      "text/plain": "Checkbox(value=False, description='Theft By Unlaw Taking-Movable Prop Receiving Stolen Property Poss Instrumen…",
      "application/vnd.jupyter.widget-view+json": {
       "version_major": 2,
       "version_minor": 0,
       "model_id": "12e6e1be022443419053041567903f27"
      }
     },
     "metadata": {},
     "output_type": "display_data"
    },
    {
     "data": {
      "text/plain": "Checkbox(value=False, description='Simple Assault Recklessly Endangering Another Person Disposition Date Offen…",
      "application/vnd.jupyter.widget-view+json": {
       "version_major": 2,
       "version_minor": 0,
       "model_id": "0a0c0071cb474f1593da9a6286a499d9"
      }
     },
     "metadata": {},
     "output_type": "display_data"
    },
    {
     "data": {
      "text/plain": "Checkbox(value=False, description='Identity Theft Identity Theft Identity Theft Identity Theft Identity Theft …",
      "application/vnd.jupyter.widget-view+json": {
       "version_major": 2,
       "version_minor": 0,
       "model_id": "ac747c07a82b4e64a4b6b6d91bb98063"
      }
     },
     "metadata": {},
     "output_type": "display_data"
    },
    {
     "data": {
      "text/plain": "Checkbox(value=False, description='DUI: Controlled Substance - Impaired Ability - 1st Offense')",
      "application/vnd.jupyter.widget-view+json": {
       "version_major": 2,
       "version_minor": 0,
       "model_id": "282d5dc12ec14c3693e2b89411058e54"
      }
     },
     "metadata": {},
     "output_type": "display_data"
    },
    {
     "data": {
      "text/plain": "Checkbox(value=False, description='Theft By Unlaw Taking-Movable Prop Receiving Stolen Property Simple Assault…",
      "application/vnd.jupyter.widget-view+json": {
       "version_major": 2,
       "version_minor": 0,
       "model_id": "02c20e6bb95f4122979ee4111cdcf73c"
      }
     },
     "metadata": {},
     "output_type": "display_data"
    },
    {
     "data": {
      "text/plain": "Checkbox(value=False, description='Driving at Safe Speed')",
      "application/vnd.jupyter.widget-view+json": {
       "version_major": 2,
       "version_minor": 0,
       "model_id": "d904288253714c2d9f9941f789003ac4"
      }
     },
     "metadata": {},
     "output_type": "display_data"
    },
    {
     "data": {
      "text/plain": "Checkbox(value=False, description='Obstruct Admin Law/Other Govt Func')",
      "application/vnd.jupyter.widget-view+json": {
       "version_major": 2,
       "version_minor": 0,
       "model_id": "d777a7df2cc947579aeda1e61a36005d"
      }
     },
     "metadata": {},
     "output_type": "display_data"
    },
    {
     "data": {
      "text/plain": "Checkbox(value=False, description='State of Emergency')",
      "application/vnd.jupyter.widget-view+json": {
       "version_major": 2,
       "version_minor": 0,
       "model_id": "88a48a51badd4eff8a74273c700b5d8d"
      }
     },
     "metadata": {},
     "output_type": "display_data"
    },
    {
     "data": {
      "text/plain": "Checkbox(value=False, description='Rape Forcible Compulsion Rape of Child Sexual Assault Agg. Ind. Assault - C…",
      "application/vnd.jupyter.widget-view+json": {
       "version_major": 2,
       "version_minor": 0,
       "model_id": "24150e5f94534e389159e56f410bac07"
      }
     },
     "metadata": {},
     "output_type": "display_data"
    },
    {
     "data": {
      "text/plain": "Checkbox(value=False, description='Make Repairs/Sell/Etc Offens Weap')",
      "application/vnd.jupyter.widget-view+json": {
       "version_major": 2,
       "version_minor": 0,
       "model_id": "885b74e31a1e4b0eb7f0ab0fcb1cf3b0"
      }
     },
     "metadata": {},
     "output_type": "display_data"
    },
    {
     "data": {
      "text/plain": "Checkbox(value=False, description='Criminal Attempt - Robbery-Inflict Serious Bodily Injury')",
      "application/vnd.jupyter.widget-view+json": {
       "version_major": 2,
       "version_minor": 0,
       "model_id": "a3a7228ac14f4dfd849ec41192aea910"
      }
     },
     "metadata": {},
     "output_type": "display_data"
    },
    {
     "data": {
      "text/plain": "Checkbox(value=False, description='Theft Of Leased Property')",
      "application/vnd.jupyter.widget-view+json": {
       "version_major": 2,
       "version_minor": 0,
       "model_id": "1d2c0f8da5fa4bc89bf0607ac9d94029"
      }
     },
     "metadata": {},
     "output_type": "display_data"
    },
    {
     "data": {
      "text/plain": "Checkbox(value=False, description='Nino V. Filed By ATTORNEY INFORMATION ENTRIES')",
      "application/vnd.jupyter.widget-view+json": {
       "version_major": 2,
       "version_minor": 0,
       "model_id": "9436e9b9614440ce8735138aecc6e064"
      }
     },
     "metadata": {},
     "output_type": "display_data"
    },
    {
     "data": {
      "text/plain": "Checkbox(value=False, description='Agg. Ind. Assault of Child')",
      "application/vnd.jupyter.widget-view+json": {
       "version_major": 2,
       "version_minor": 0,
       "model_id": "f9f31d5a96c34e7b80748d422e3bda02"
      }
     },
     "metadata": {},
     "output_type": "display_data"
    },
    {
     "data": {
      "text/plain": "Checkbox(value=False, description='Eugene Filed By ATTORNEY INFORMATION ENTRIES')",
      "application/vnd.jupyter.widget-view+json": {
       "version_major": 2,
       "version_minor": 0,
       "model_id": "4f9d9839f7384f62b87d3209a7af541d"
      }
     },
     "metadata": {},
     "output_type": "display_data"
    },
    {
     "data": {
      "text/plain": "Checkbox(value=False, description='Robbery Of Motor Vehicle')",
      "application/vnd.jupyter.widget-view+json": {
       "version_major": 2,
       "version_minor": 0,
       "model_id": "90e27478e0de46259a2712fdd80ced32"
      }
     },
     "metadata": {},
     "output_type": "display_data"
    },
    {
     "data": {
      "text/plain": "Checkbox(value=False, description='Limitations on Driving on Left Side of Road')",
      "application/vnd.jupyter.widget-view+json": {
       "version_major": 2,
       "version_minor": 0,
       "model_id": "4d197bf07f864008b867b1fa42005b7e"
      }
     },
     "metadata": {},
     "output_type": "display_data"
    },
    {
     "data": {
      "text/plain": "Checkbox(value=False, description='Simple Assault Recklessly Endangering Another Person Disposition Date Offen…",
      "application/vnd.jupyter.widget-view+json": {
       "version_major": 2,
       "version_minor": 0,
       "model_id": "b2791ddfd4d44601a7d298b631658d12"
      }
     },
     "metadata": {},
     "output_type": "display_data"
    },
    {
     "data": {
      "text/plain": "Checkbox(value=False, description='Provide Accurate Information')",
      "application/vnd.jupyter.widget-view+json": {
       "version_major": 2,
       "version_minor": 0,
       "model_id": "741ba8df02b6495eb0226c81d2c9ddb4"
      }
     },
     "metadata": {},
     "output_type": "display_data"
    },
    {
     "data": {
      "text/plain": "Checkbox(value=False, description='Weapons of Mass Dest. - Unlawful Poss or Manu Poss Instrument Of Crime W/In…",
      "application/vnd.jupyter.widget-view+json": {
       "version_major": 2,
       "version_minor": 0,
       "model_id": "7eb400461d3947a1b356a4f8cde53815"
      }
     },
     "metadata": {},
     "output_type": "display_data"
    },
    {
     "data": {
      "text/plain": "Checkbox(value=False, description='Dissem Photo/Film of Child Sex Acts')",
      "application/vnd.jupyter.widget-view+json": {
       "version_major": 2,
       "version_minor": 0,
       "model_id": "f29f6c3fb0ad43e3aa745242d8d760ee"
      }
     },
     "metadata": {},
     "output_type": "display_data"
    },
    {
     "data": {
      "text/plain": "Checkbox(value=False, description='Burglary - Overnight Accommodations; Person Present')",
      "application/vnd.jupyter.widget-view+json": {
       "version_major": 2,
       "version_minor": 0,
       "model_id": "ff935d38a42b4540ac4836e330886041"
      }
     },
     "metadata": {},
     "output_type": "display_data"
    },
    {
     "data": {
      "text/plain": "Checkbox(value=False, description='Rape Threat Of Forcible Compulsion')",
      "application/vnd.jupyter.widget-view+json": {
       "version_major": 2,
       "version_minor": 0,
       "model_id": "a90b089c60ea4e2992979b14d1c02fc7"
      }
     },
     "metadata": {},
     "output_type": "display_data"
    },
    {
     "data": {
      "text/plain": "Checkbox(value=False, description='Theft By Unlaw Taking-Movable Prop Receiving Stolen Property Poss Instrumen…",
      "application/vnd.jupyter.widget-view+json": {
       "version_major": 2,
       "version_minor": 0,
       "model_id": "3ea3925011774689b92659bb9a591890"
      }
     },
     "metadata": {},
     "output_type": "display_data"
    },
    {
     "data": {
      "text/plain": "Checkbox(value=False, description='Lavette Filed By ATTORNEY INFORMATION ENTRIES')",
      "application/vnd.jupyter.widget-view+json": {
       "version_major": 2,
       "version_minor": 0,
       "model_id": "2127821c32454ffaad7e2ca8f3b50ddf"
      }
     },
     "metadata": {},
     "output_type": "display_data"
    },
    {
     "data": {
      "text/plain": "Checkbox(value=False, description='Incest')",
      "application/vnd.jupyter.widget-view+json": {
       "version_major": 2,
       "version_minor": 0,
       "model_id": "e7e854dfd2b149eaa354d90c30790767"
      }
     },
     "metadata": {},
     "output_type": "display_data"
    },
    {
     "data": {
      "text/plain": "Checkbox(value=False, description='Weapons of Mass Dest. - Unlawful Poss or Manu Causing Catastrophe Criminal …",
      "application/vnd.jupyter.widget-view+json": {
       "version_major": 2,
       "version_minor": 0,
       "model_id": "7a6ac87c78ae4cc8b273a7aeb2324014"
      }
     },
     "metadata": {},
     "output_type": "display_data"
    },
    {
     "data": {
      "text/plain": "Checkbox(value=False, description='PA 19110 Representing: Richardson')",
      "application/vnd.jupyter.widget-view+json": {
       "version_major": 2,
       "version_minor": 0,
       "model_id": "3943f633156a4efea94780dedd3b5350"
      }
     },
     "metadata": {},
     "output_type": "display_data"
    },
    {
     "data": {
      "text/plain": "Checkbox(value=False, description='Unlawful Duplication')",
      "application/vnd.jupyter.widget-view+json": {
       "version_major": 2,
       "version_minor": 0,
       "model_id": "bb4444adccc34bfb9f2ee845742c5050"
      }
     },
     "metadata": {},
     "output_type": "display_data"
    },
    {
     "data": {
      "text/plain": "Checkbox(value=False, description='Criminal Homicide')",
      "application/vnd.jupyter.widget-view+json": {
       "version_major": 2,
       "version_minor": 0,
       "model_id": "bd113ba1f9ed43f9868f52c3cec58823"
      }
     },
     "metadata": {},
     "output_type": "display_data"
    },
    {
     "data": {
      "text/plain": "Checkbox(value=False, description='Recklessly Endangering Another Person Conspiracy Incarceration/Diversionary…",
      "application/vnd.jupyter.widget-view+json": {
       "version_major": 2,
       "version_minor": 0,
       "model_id": "9d2f9c42566649479cc6aef6edfa1728"
      }
     },
     "metadata": {},
     "output_type": "display_data"
    },
    {
     "data": {
      "text/plain": "Checkbox(value=False, description='etc. person w/out consent')",
      "application/vnd.jupyter.widget-view+json": {
       "version_major": 2,
       "version_minor": 0,
       "model_id": "6226fd6ec8a54508b2f7da2b426878d4"
      }
     },
     "metadata": {},
     "output_type": "display_data"
    },
    {
     "data": {
      "text/plain": "Checkbox(value=False, description='Carrying Explosives On Conveyances Carrying Explosives On Conveyances Carry…",
      "application/vnd.jupyter.widget-view+json": {
       "version_major": 2,
       "version_minor": 0,
       "model_id": "92e6fe20e2de4009865d93dfc25d5cd0"
      }
     },
     "metadata": {},
     "output_type": "display_data"
    },
    {
     "data": {
      "text/plain": "Checkbox(value=False, description='Institutional Vandalism/Illegal Possession')",
      "application/vnd.jupyter.widget-view+json": {
       "version_major": 2,
       "version_minor": 0,
       "model_id": "860bfff3221a48b9ac00c27371189eba"
      }
     },
     "metadata": {},
     "output_type": "display_data"
    },
    {
     "data": {
      "text/plain": "Checkbox(value=False, description='Firearms Not To Be Carried W/O License Carry Firearms Public In Phila Terro…",
      "application/vnd.jupyter.widget-view+json": {
       "version_major": 2,
       "version_minor": 0,
       "model_id": "5cc2272a74114e6fb2b8e3490b3c221c"
      }
     },
     "metadata": {},
     "output_type": "display_data"
    },
    {
     "data": {
      "text/plain": "Checkbox(value=False, description='Poss Instrument Of Crime W/Int Simple Assault Recklessly Endangering Anothe…",
      "application/vnd.jupyter.widget-view+json": {
       "version_major": 2,
       "version_minor": 0,
       "model_id": "3d179cd6d824416bb52bdc5e1cb415c0"
      }
     },
     "metadata": {},
     "output_type": "display_data"
    },
    {
     "data": {
      "text/plain": "Checkbox(value=False, description='Tamper Records Or Id-Writing')",
      "application/vnd.jupyter.widget-view+json": {
       "version_major": 2,
       "version_minor": 0,
       "model_id": "a3117281879b46b6953d59c36fe82dad"
      }
     },
     "metadata": {},
     "output_type": "display_data"
    },
    {
     "data": {
      "text/plain": "Checkbox(value=False, description='Theft By Unlaw Taking-Movable Prop Receiving Stolen Property Simple Assault…",
      "application/vnd.jupyter.widget-view+json": {
       "version_major": 2,
       "version_minor": 0,
       "model_id": "bbf296266e7a479ea00c29b8b627dd22"
      }
     },
     "metadata": {},
     "output_type": "display_data"
    },
    {
     "data": {
      "text/plain": "Checkbox(value=False, description='Patrick ATTORNEY INFORMATION ENTRIES')",
      "application/vnd.jupyter.widget-view+json": {
       "version_major": 2,
       "version_minor": 0,
       "model_id": "0c41825a8a824dc9abae6d230e97c65f"
      }
     },
     "metadata": {},
     "output_type": "display_data"
    },
    {
     "data": {
      "text/plain": "Checkbox(value=False, description='Criminal Attempt - Criminal Mischief')",
      "application/vnd.jupyter.widget-view+json": {
       "version_major": 2,
       "version_minor": 0,
       "model_id": "78e669f73d1a4fe59040f1e92f09953a"
      }
     },
     "metadata": {},
     "output_type": "display_data"
    },
    {
     "data": {
      "text/plain": "Checkbox(value=False, description='First Degree Murder Of Unborn Child')",
      "application/vnd.jupyter.widget-view+json": {
       "version_major": 2,
       "version_minor": 0,
       "model_id": "00a5c39f4b4d48b5abfd4417db884ffd"
      }
     },
     "metadata": {},
     "output_type": "display_data"
    },
    {
     "data": {
      "text/plain": "Checkbox(value=False, description='Computer Trespass - Remove Data')",
      "application/vnd.jupyter.widget-view+json": {
       "version_major": 2,
       "version_minor": 0,
       "model_id": "bfc62faae3ec4f43bc740694cb833dae"
      }
     },
     "metadata": {},
     "output_type": "display_data"
    },
    {
     "data": {
      "text/plain": "Checkbox(value=False, description='Retail Theft-Take Mdse')",
      "application/vnd.jupyter.widget-view+json": {
       "version_major": 2,
       "version_minor": 0,
       "model_id": "e6c2a35d610c4ef189f5526b903811ca"
      }
     },
     "metadata": {},
     "output_type": "display_data"
    },
    {
     "data": {
      "text/plain": "Checkbox(value=False, description='Poss Instrument Of Crime W/Int Obstruct Admin Law/Other Govt Func Recklessl…",
      "application/vnd.jupyter.widget-view+json": {
       "version_major": 2,
       "version_minor": 0,
       "model_id": "714b8a5139d247a8af2d56ab25a4d29c"
      }
     },
     "metadata": {},
     "output_type": "display_data"
    },
    {
     "data": {
      "text/plain": "Checkbox(value=False, description='Identity Theft Identity Theft Identity Theft Identity Theft Identity Theft …",
      "application/vnd.jupyter.widget-view+json": {
       "version_major": 2,
       "version_minor": 0,
       "model_id": "3a3f5db26c064d1dabf2504e6263aa1e"
      }
     },
     "metadata": {},
     "output_type": "display_data"
    },
    {
     "data": {
      "text/plain": "Checkbox(value=False, description='Unknown Statute Unknown Statute')",
      "application/vnd.jupyter.widget-view+json": {
       "version_major": 2,
       "version_minor": 0,
       "model_id": "a27c489dda624bdb82857bd876cd316c"
      }
     },
     "metadata": {},
     "output_type": "display_data"
    },
    {
     "data": {
      "text/plain": "Checkbox(value=False, description='PA 19102-4009 Representing: Ortiz')",
      "application/vnd.jupyter.widget-view+json": {
       "version_major": 2,
       "version_minor": 0,
       "model_id": "61805ee6b04c461f89c0620f8a78971f"
      }
     },
     "metadata": {},
     "output_type": "display_data"
    },
    {
     "data": {
      "text/plain": "Checkbox(value=False, description='Forgery-Alter Writing')",
      "application/vnd.jupyter.widget-view+json": {
       "version_major": 2,
       "version_minor": 0,
       "model_id": "ed2b162552b14036988db5a6aa28a57f"
      }
     },
     "metadata": {},
     "output_type": "display_data"
    },
    {
     "data": {
      "text/plain": "Checkbox(value=False, description='Admin Etc Of Cont Subst By Pract')",
      "application/vnd.jupyter.widget-view+json": {
       "version_major": 2,
       "version_minor": 0,
       "model_id": "d0d4ec1ca6cc429aa857f9b8714d51ae"
      }
     },
     "metadata": {},
     "output_type": "display_data"
    },
    {
     "data": {
      "text/plain": "Checkbox(value=False, description='Driving at Safe Speed Restrictions on Alcoholic Beverages')",
      "application/vnd.jupyter.widget-view+json": {
       "version_major": 2,
       "version_minor": 0,
       "model_id": "b8c434dad94b438aa78a24c526268d0b"
      }
     },
     "metadata": {},
     "output_type": "display_data"
    },
    {
     "data": {
      "text/plain": "Checkbox(value=False, description='Criminal Attempt - Escape')",
      "application/vnd.jupyter.widget-view+json": {
       "version_major": 2,
       "version_minor": 0,
       "model_id": "7734ec5e965549e68f7482fe9b5dd699"
      }
     },
     "metadata": {},
     "output_type": "display_data"
    },
    {
     "data": {
      "text/plain": "Checkbox(value=False, description='Poss Instrument Of Crime W/Int Poss Instrument Of Crime W/Int Incarceration…",
      "application/vnd.jupyter.widget-view+json": {
       "version_major": 2,
       "version_minor": 0,
       "model_id": "4c5b2013a3ac4740824952d9fa09427a"
      }
     },
     "metadata": {},
     "output_type": "display_data"
    },
    {
     "data": {
      "text/plain": "Checkbox(value=False, description='Contraband/Controlled Substance')",
      "application/vnd.jupyter.widget-view+json": {
       "version_major": 2,
       "version_minor": 0,
       "model_id": "7fff7d793bc7447b8acd41c85f2fedc8"
      }
     },
     "metadata": {},
     "output_type": "display_data"
    },
    {
     "data": {
      "text/plain": "Checkbox(value=False, description='Agg. Ind. Assault - Complainant is Unconscious or Unaware that Penetration …",
      "application/vnd.jupyter.widget-view+json": {
       "version_major": 2,
       "version_minor": 0,
       "model_id": "f2628043b95a4f9ba3216564360527b1"
      }
     },
     "metadata": {},
     "output_type": "display_data"
    },
    {
     "data": {
      "text/plain": "Checkbox(value=False, description='Criminal Attempt - Theft By Unlaw Taking-Movable Prop Criminal Attempt - Re…",
      "application/vnd.jupyter.widget-view+json": {
       "version_major": 2,
       "version_minor": 0,
       "model_id": "26590cafceee4dd4a7103a0c8ec15ec1"
      }
     },
     "metadata": {},
     "output_type": "display_data"
    },
    {
     "data": {
      "text/plain": "Checkbox(value=False, description='Rape Unconscious Victim')",
      "application/vnd.jupyter.widget-view+json": {
       "version_major": 2,
       "version_minor": 0,
       "model_id": "9cb6542c58a74c4493343a08b89e5e38"
      }
     },
     "metadata": {},
     "output_type": "display_data"
    },
    {
     "data": {
      "text/plain": "Checkbox(value=False, description='PA 18966 Representing: Khamidov')",
      "application/vnd.jupyter.widget-view+json": {
       "version_major": 2,
       "version_minor": 0,
       "model_id": "5d726d60bcdd4895b16ab538026c3f4c"
      }
     },
     "metadata": {},
     "output_type": "display_data"
    },
    {
     "data": {
      "text/plain": "Checkbox(value=False, description='PA 19107-1808 Representing: Hatchett')",
      "application/vnd.jupyter.widget-view+json": {
       "version_major": 2,
       "version_minor": 0,
       "model_id": "6b2c8959101c484196ad4c5d8f014363"
      }
     },
     "metadata": {},
     "output_type": "display_data"
    },
    {
     "data": {
      "text/plain": "Checkbox(value=False, description='Weapons of Mass Dest. - Unlawful Poss or Manu Int Poss Contr Subst By Per N…",
      "application/vnd.jupyter.widget-view+json": {
       "version_major": 2,
       "version_minor": 0,
       "model_id": "2691f075b4074a358a23e991784f57cc"
      }
     },
     "metadata": {},
     "output_type": "display_data"
    },
    {
     "data": {
      "text/plain": "Checkbox(value=False, description='Int Poss Contr Subst By Per Not Reg Corruption Of Minors')",
      "application/vnd.jupyter.widget-view+json": {
       "version_major": 2,
       "version_minor": 0,
       "model_id": "ad04e68bf313431dad8e6fe6678a8282"
      }
     },
     "metadata": {},
     "output_type": "display_data"
    },
    {
     "data": {
      "text/plain": "Checkbox(value=False, description='George Filed By ATTORNEY INFORMATION ENTRIES')",
      "application/vnd.jupyter.widget-view+json": {
       "version_major": 2,
       "version_minor": 0,
       "model_id": "606b95e209fb4bd58d051157bc2e1163"
      }
     },
     "metadata": {},
     "output_type": "display_data"
    },
    {
     "data": {
      "text/plain": "Checkbox(value=False, description='Causing Catastrophe')",
      "application/vnd.jupyter.widget-view+json": {
       "version_major": 2,
       "version_minor": 0,
       "model_id": "00cc80d7e10a4c289112239b07149cbe"
      }
     },
     "metadata": {},
     "output_type": "display_data"
    },
    {
     "data": {
      "text/plain": "Checkbox(value=False, description='Etc')",
      "application/vnd.jupyter.widget-view+json": {
       "version_major": 2,
       "version_minor": 0,
       "model_id": "86e4dd02e92a4f749f266103c1ede8ef"
      }
     },
     "metadata": {},
     "output_type": "display_data"
    },
    {
     "data": {
      "text/plain": "Checkbox(value=False, description='Recklessly Endangering Another Person Disorder Conduct Hazardous/Physi Off'…",
      "application/vnd.jupyter.widget-view+json": {
       "version_major": 2,
       "version_minor": 0,
       "model_id": "91b371a5aa914c4ca43a1eec8897f442"
      }
     },
     "metadata": {},
     "output_type": "display_data"
    },
    {
     "data": {
      "text/plain": "Checkbox(value=False, description='Weapons of Mass Dest. - Unlawful Poss or Manu')",
      "application/vnd.jupyter.widget-view+json": {
       "version_major": 2,
       "version_minor": 0,
       "model_id": "251e2b6e14114bf3a0d027e408b3b16a"
      }
     },
     "metadata": {},
     "output_type": "display_data"
    },
    {
     "data": {
      "text/plain": "Checkbox(value=False, description='False/Fraud Med Assist Claim')",
      "application/vnd.jupyter.widget-view+json": {
       "version_major": 2,
       "version_minor": 0,
       "model_id": "3b32666c67f34219a87460da8118b9b7"
      }
     },
     "metadata": {},
     "output_type": "display_data"
    },
    {
     "data": {
      "text/plain": "Checkbox(value=False, description='Retaliation Against Witness or Victim')",
      "application/vnd.jupyter.widget-view+json": {
       "version_major": 2,
       "version_minor": 0,
       "model_id": "085b4cd071b94f9cb895a2f8dcd04e84"
      }
     },
     "metadata": {},
     "output_type": "display_data"
    },
    {
     "data": {
      "text/plain": "Checkbox(value=False, description='Poss Instrument Of Crime W/Int Unauth Use Motor/Other Vehicles Incarceratio…",
      "application/vnd.jupyter.widget-view+json": {
       "version_major": 2,
       "version_minor": 0,
       "model_id": "f5dee943c2824cd883c4e2f345019bcb"
      }
     },
     "metadata": {},
     "output_type": "display_data"
    },
    {
     "data": {
      "text/plain": "Checkbox(value=False, description='Criminal Mischief - Damage Property')",
      "application/vnd.jupyter.widget-view+json": {
       "version_major": 2,
       "version_minor": 0,
       "model_id": "5d7cd08ec14a44e08c63655961a95241"
      }
     },
     "metadata": {},
     "output_type": "display_data"
    },
    {
     "data": {
      "text/plain": "Checkbox(value=False, description='Disposition of Vehicle or Vehicle Part With Altered Vehicle Identification …",
      "application/vnd.jupyter.widget-view+json": {
       "version_major": 2,
       "version_minor": 0,
       "model_id": "6d9bfbda38d440fe965635efe9992d9d"
      }
     },
     "metadata": {},
     "output_type": "display_data"
    },
    {
     "data": {
      "text/plain": "Checkbox(value=False, description='PA 19401 Representing: Grabowski')",
      "application/vnd.jupyter.widget-view+json": {
       "version_major": 2,
       "version_minor": 0,
       "model_id": "f38d2777eb2e416ba0595b5713d7f192"
      }
     },
     "metadata": {},
     "output_type": "display_data"
    },
    {
     "data": {
      "text/plain": "Checkbox(value=False, description='Poss Of Marijuana')",
      "application/vnd.jupyter.widget-view+json": {
       "version_major": 2,
       "version_minor": 0,
       "model_id": "58d93110b38249ddb6372ec72b621789"
      }
     },
     "metadata": {},
     "output_type": "display_data"
    },
    {
     "data": {
      "text/plain": "Checkbox(value=False, description='Violation of Protective Order')",
      "application/vnd.jupyter.widget-view+json": {
       "version_major": 2,
       "version_minor": 0,
       "model_id": "83ae4729a9e84219a46c45a760e80c91"
      }
     },
     "metadata": {},
     "output_type": "display_data"
    },
    {
     "data": {
      "text/plain": "Checkbox(value=False, description='Conspiracy Unauth Use Motor/Other Vehicles')",
      "application/vnd.jupyter.widget-view+json": {
       "version_major": 2,
       "version_minor": 0,
       "model_id": "58a5476d188048dab9f7b379c487639e"
      }
     },
     "metadata": {},
     "output_type": "display_data"
    },
    {
     "data": {
      "text/plain": "Checkbox(value=False, description='infrastructure')",
      "application/vnd.jupyter.widget-view+json": {
       "version_major": 2,
       "version_minor": 0,
       "model_id": "a65f96dfd45d441690eea0b55a87c429"
      }
     },
     "metadata": {},
     "output_type": "display_data"
    },
    {
     "data": {
      "text/plain": "Checkbox(value=False, description='Possession Of Firearm Prohibited')",
      "application/vnd.jupyter.widget-view+json": {
       "version_major": 2,
       "version_minor": 0,
       "model_id": "6d8874a53afe47958fa833a465d5941d"
      }
     },
     "metadata": {},
     "output_type": "display_data"
    },
    {
     "data": {
      "text/plain": "Checkbox(value=False, description='Etc. Language Incarceration/Diversionary Period Disposition Date Offense Di…",
      "application/vnd.jupyter.widget-view+json": {
       "version_major": 2,
       "version_minor": 0,
       "model_id": "759529d881ae409793550458b490ba90"
      }
     },
     "metadata": {},
     "output_type": "display_data"
    },
    {
     "data": {
      "text/plain": "Checkbox(value=False, description='Forgery - Alter Writing')",
      "application/vnd.jupyter.widget-view+json": {
       "version_major": 2,
       "version_minor": 0,
       "model_id": "006d73f2715c40e297a47df6e5e9f7de"
      }
     },
     "metadata": {},
     "output_type": "display_data"
    },
    {
     "data": {
      "text/plain": "Checkbox(value=False, description='Minor Prohibited/Operating W/Alcohol')",
      "application/vnd.jupyter.widget-view+json": {
       "version_major": 2,
       "version_minor": 0,
       "model_id": "dc5f2121ebb141a2a54c9009126180e3"
      }
     },
     "metadata": {},
     "output_type": "display_data"
    },
    {
     "data": {
      "text/plain": "Checkbox(value=False, description='Fail To Keep Right')",
      "application/vnd.jupyter.widget-view+json": {
       "version_major": 2,
       "version_minor": 0,
       "model_id": "ff1cff043476432585d9b8c02b7356d2"
      }
     },
     "metadata": {},
     "output_type": "display_data"
    },
    {
     "data": {
      "text/plain": "Checkbox(value=False, description='Careless Driving Reckless Driving Incarceration/Diversionary Period Disposi…",
      "application/vnd.jupyter.widget-view+json": {
       "version_major": 2,
       "version_minor": 0,
       "model_id": "aea51d91651b44c8bf3267520aa1fee1"
      }
     },
     "metadata": {},
     "output_type": "display_data"
    },
    {
     "data": {
      "text/plain": "Checkbox(value=False, description='Statutory Sexual Assault: 4-8 Years Older')",
      "application/vnd.jupyter.widget-view+json": {
       "version_major": 2,
       "version_minor": 0,
       "model_id": "45bf18af79d64c968ebd25310f67c5bb"
      }
     },
     "metadata": {},
     "output_type": "display_data"
    },
    {
     "data": {
      "text/plain": "Checkbox(value=False, description='Int Poss Contr Subst By Per Not Reg Carry Firearms Public In Phila False Id…",
      "application/vnd.jupyter.widget-view+json": {
       "version_major": 2,
       "version_minor": 0,
       "model_id": "5ce954259af9450790c1d6545a42dcbe"
      }
     },
     "metadata": {},
     "output_type": "display_data"
    },
    {
     "data": {
      "text/plain": "Checkbox(value=False, description='Make Repairs/Sell/Etc Offens Weap Make Repairs/Sell/Etc Offens Weap Carryin…",
      "application/vnd.jupyter.widget-view+json": {
       "version_major": 2,
       "version_minor": 0,
       "model_id": "3a7fb5b978ee4b4388c3a4420c6c6491"
      }
     },
     "metadata": {},
     "output_type": "display_data"
    },
    {
     "data": {
      "text/plain": "Checkbox(value=False, description='Recklessly Endangering Another Person Harassment - Comm. Lewd')",
      "application/vnd.jupyter.widget-view+json": {
       "version_major": 2,
       "version_minor": 0,
       "model_id": "898b962bfc1d48daae724bcaad7ee576"
      }
     },
     "metadata": {},
     "output_type": "display_data"
    },
    {
     "data": {
      "text/plain": "Checkbox(value=False, description='Poss Instrument Of Crime W/Int Simple Assault Recklessly Endangering Anothe…",
      "application/vnd.jupyter.widget-view+json": {
       "version_major": 2,
       "version_minor": 0,
       "model_id": "1531c912cf9d49bca1498937f7f0ad75"
      }
     },
     "metadata": {},
     "output_type": "display_data"
    },
    {
     "data": {
      "text/plain": "Checkbox(value=False, description='Receiving Stolen Property Simple Assault')",
      "application/vnd.jupyter.widget-view+json": {
       "version_major": 2,
       "version_minor": 0,
       "model_id": "614ba85b7eea455b83cbdc4268f47bc9"
      }
     },
     "metadata": {},
     "output_type": "display_data"
    },
    {
     "data": {
      "text/plain": "Checkbox(value=False, description='Sales Of Unstamped Cig')",
      "application/vnd.jupyter.widget-view+json": {
       "version_major": 2,
       "version_minor": 0,
       "model_id": "ba5540d1d1e84b4c8b3f939101dfe73c"
      }
     },
     "metadata": {},
     "output_type": "display_data"
    },
    {
     "data": {
      "text/plain": "Checkbox(value=False, description='Int Poss Contr Subst By Per Not Reg Carry Firearms Public In Phila')",
      "application/vnd.jupyter.widget-view+json": {
       "version_major": 2,
       "version_minor": 0,
       "model_id": "fa0cfaeeeb8b4f269dc10912bd439259"
      }
     },
     "metadata": {},
     "output_type": "display_data"
    },
    {
     "data": {
      "text/plain": "Checkbox(value=False, description='False Report - Falsely Incriminate Another False Report - Falsely Incrimina…",
      "application/vnd.jupyter.widget-view+json": {
       "version_major": 2,
       "version_minor": 0,
       "model_id": "234a190189a14e0a98d9df31069709b5"
      }
     },
     "metadata": {},
     "output_type": "display_data"
    },
    {
     "data": {
      "text/plain": "Checkbox(value=False, description='Restrictions on Alcoholic Beverages')",
      "application/vnd.jupyter.widget-view+json": {
       "version_major": 2,
       "version_minor": 0,
       "model_id": "8d3c9828370b43468162bce44d5b8a44"
      }
     },
     "metadata": {},
     "output_type": "display_data"
    },
    {
     "data": {
      "text/plain": "Checkbox(value=False, description='Driv While Oper Priv Susp Or Revoked')",
      "application/vnd.jupyter.widget-view+json": {
       "version_major": 2,
       "version_minor": 0,
       "model_id": "e7461e55e79b47329c26c9b0af5606c9"
      }
     },
     "metadata": {},
     "output_type": "display_data"
    },
    {
     "data": {
      "text/plain": "Checkbox(value=False, description='Simple Assault Recklessly Endangering Another Person Disposition Date Offen…",
      "application/vnd.jupyter.widget-view+json": {
       "version_major": 2,
       "version_minor": 0,
       "model_id": "86e27b4afc4245059da1962619e31fbd"
      }
     },
     "metadata": {},
     "output_type": "display_data"
    },
    {
     "data": {
      "text/plain": "Checkbox(value=False, description='Kevin Proceed to Court Proceed to Court Proceed to Court Proceed to Court P…",
      "application/vnd.jupyter.widget-view+json": {
       "version_major": 2,
       "version_minor": 0,
       "model_id": "bb1874b48cf2453ea5bc9aa867ea2bb6"
      }
     },
     "metadata": {},
     "output_type": "display_data"
    },
    {
     "data": {
      "text/plain": "Checkbox(value=False, description='Corruption Of Minors Simple Assault Incarceration/Diversionary Period Dispo…",
      "application/vnd.jupyter.widget-view+json": {
       "version_major": 2,
       "version_minor": 0,
       "model_id": "9f265055a8354d94acd14e2ea20bf793"
      }
     },
     "metadata": {},
     "output_type": "display_data"
    },
    {
     "data": {
      "text/plain": "Checkbox(value=False, description='Conspiracy Firearms Not To Be Carried W/O License Carry Firearms Public In …",
      "application/vnd.jupyter.widget-view+json": {
       "version_major": 2,
       "version_minor": 0,
       "model_id": "f45c86d8876b4e96b88d798cf5516c90"
      }
     },
     "metadata": {},
     "output_type": "display_data"
    },
    {
     "data": {
      "text/plain": "Checkbox(value=False, description='Use/Poss Of Drug Paraph')",
      "application/vnd.jupyter.widget-view+json": {
       "version_major": 2,
       "version_minor": 0,
       "model_id": "674e6b5d6d7a482785db8f976481976e"
      }
     },
     "metadata": {},
     "output_type": "display_data"
    },
    {
     "data": {
      "text/plain": "Checkbox(value=False, description='Drug Delivery Resulting In Death')",
      "application/vnd.jupyter.widget-view+json": {
       "version_major": 2,
       "version_minor": 0,
       "model_id": "b511124d114b4905a36cfdd3bf140935"
      }
     },
     "metadata": {},
     "output_type": "display_data"
    },
    {
     "data": {
      "text/plain": "Checkbox(value=False, description='Criminal Trespass/Simple Trespasser')",
      "application/vnd.jupyter.widget-view+json": {
       "version_major": 2,
       "version_minor": 0,
       "model_id": "ea24bb7af05d439e967eed5d97e1c861"
      }
     },
     "metadata": {},
     "output_type": "display_data"
    },
    {
     "data": {
      "text/plain": "Checkbox(value=False, description='Turning Movements And Required Signals')",
      "application/vnd.jupyter.widget-view+json": {
       "version_major": 2,
       "version_minor": 0,
       "model_id": "32cec52fadad4593a4252b037bfbcd2a"
      }
     },
     "metadata": {},
     "output_type": "display_data"
    },
    {
     "data": {
      "text/plain": "Checkbox(value=False, description='PA 19102 Representing: Tieku')",
      "application/vnd.jupyter.widget-view+json": {
       "version_major": 2,
       "version_minor": 0,
       "model_id": "8c76818ba8de497bb6a1603b4790c81c"
      }
     },
     "metadata": {},
     "output_type": "display_data"
    },
    {
     "data": {
      "text/plain": "Checkbox(value=False, description='Improp Display Plate')",
      "application/vnd.jupyter.widget-view+json": {
       "version_major": 2,
       "version_minor": 0,
       "model_id": "58895b05f20e449e95684822adbc0f9c"
      }
     },
     "metadata": {},
     "output_type": "display_data"
    },
    {
     "data": {
      "text/plain": "Checkbox(value=False, description='Acq Or Obt Poss Of Contr Subs Misre')",
      "application/vnd.jupyter.widget-view+json": {
       "version_major": 2,
       "version_minor": 0,
       "model_id": "606827b6dfe749a3b0c1bfaf2e1bf7bc"
      }
     },
     "metadata": {},
     "output_type": "display_data"
    },
    {
     "data": {
      "text/plain": "Checkbox(value=False, description='Kidnapping For Ransom')",
      "application/vnd.jupyter.widget-view+json": {
       "version_major": 2,
       "version_minor": 0,
       "model_id": "ce42fce7244a49fc82c2af550721c1bc"
      }
     },
     "metadata": {},
     "output_type": "display_data"
    },
    {
     "data": {
      "text/plain": "Checkbox(value=False, description='Ind Asslt Person Less 16 Yrs Age')",
      "application/vnd.jupyter.widget-view+json": {
       "version_major": 2,
       "version_minor": 0,
       "model_id": "c1d29d2a05b047b7ad4a0126ef4d8dcf"
      }
     },
     "metadata": {},
     "output_type": "display_data"
    },
    {
     "data": {
      "text/plain": "Checkbox(value=False, description='Receiving Stolen Property Poss Instrument Of Crime W/Int Incarceration/Dive…",
      "application/vnd.jupyter.widget-view+json": {
       "version_major": 2,
       "version_minor": 0,
       "model_id": "8e7a5f5c18d4451fab5738147a68a163"
      }
     },
     "metadata": {},
     "output_type": "display_data"
    },
    {
     "data": {
      "text/plain": "Checkbox(value=False, description='Bodily Injury Crime')",
      "application/vnd.jupyter.widget-view+json": {
       "version_major": 2,
       "version_minor": 0,
       "model_id": "f2bcf15b7bc7496f8262787221fe3746"
      }
     },
     "metadata": {},
     "output_type": "display_data"
    },
    {
     "data": {
      "text/plain": "Checkbox(value=False, description='Simple Assault Recklessly Endangering Another Person Disposition Date Offen…",
      "application/vnd.jupyter.widget-view+json": {
       "version_major": 2,
       "version_minor": 0,
       "model_id": "14754597ef534e3db395f0b8388612ce"
      }
     },
     "metadata": {},
     "output_type": "display_data"
    },
    {
     "data": {
      "text/plain": "Checkbox(value=False, description='Theft From A Motor Vehicle')",
      "application/vnd.jupyter.widget-view+json": {
       "version_major": 2,
       "version_minor": 0,
       "model_id": "54e3f6db87834ec68e5e73e75568e38b"
      }
     },
     "metadata": {},
     "output_type": "display_data"
    },
    {
     "data": {
      "text/plain": "Checkbox(value=False, description='Turning Movements And Required Signals Too Slow For Conditions Careless Dri…",
      "application/vnd.jupyter.widget-view+json": {
       "version_major": 2,
       "version_minor": 0,
       "model_id": "9950aa8e3b924f2aaecef44598377e6f"
      }
     },
     "metadata": {},
     "output_type": "display_data"
    },
    {
     "data": {
      "text/plain": "Checkbox(value=False, description='Daniel ATTORNEY INFORMATION')",
      "application/vnd.jupyter.widget-view+json": {
       "version_major": 2,
       "version_minor": 0,
       "model_id": "fa6cb849f2b14d5d930b2d0d6634f7aa"
      }
     },
     "metadata": {},
     "output_type": "display_data"
    },
    {
     "data": {
      "text/plain": "Checkbox(value=False, description='PA 19134-5109 Representing: Karpovich')",
      "application/vnd.jupyter.widget-view+json": {
       "version_major": 2,
       "version_minor": 0,
       "model_id": "5321352e50694a388cb4d47f0f7b7dde"
      }
     },
     "metadata": {},
     "output_type": "display_data"
    },
    {
     "data": {
      "text/plain": "Checkbox(value=False, description='Simple Assault Recklessly Endangering Another Person Disposition Date Offen…",
      "application/vnd.jupyter.widget-view+json": {
       "version_major": 2,
       "version_minor": 0,
       "model_id": "add1e594fbb548d5bf12a3b01dc659cf"
      }
     },
     "metadata": {},
     "output_type": "display_data"
    },
    {
     "data": {
      "text/plain": "Checkbox(value=False, description='Improp Sunscreening')",
      "application/vnd.jupyter.widget-view+json": {
       "version_major": 2,
       "version_minor": 0,
       "model_id": "1ec5a5514f5848c4b78059b3e02900fc"
      }
     },
     "metadata": {},
     "output_type": "display_data"
    },
    {
     "data": {
      "text/plain": "Checkbox(value=False, description='or equipment')",
      "application/vnd.jupyter.widget-view+json": {
       "version_major": 2,
       "version_minor": 0,
       "model_id": "01ce2fcd29f94884a757060a5f568bb8"
      }
     },
     "metadata": {},
     "output_type": "display_data"
    },
    {
     "data": {
      "text/plain": "Checkbox(value=False, description='Burglary - Not Adapted for Overnight Accommodation')",
      "application/vnd.jupyter.widget-view+json": {
       "version_major": 2,
       "version_minor": 0,
       "model_id": "de20836cf1114236b2d513e31f3a9413"
      }
     },
     "metadata": {},
     "output_type": "display_data"
    },
    {
     "data": {
      "text/plain": "Checkbox(value=False, description='Property')",
      "application/vnd.jupyter.widget-view+json": {
       "version_major": 2,
       "version_minor": 0,
       "model_id": "e58765249bf3429da5f0fb651e8746fe"
      }
     },
     "metadata": {},
     "output_type": "display_data"
    },
    {
     "data": {
      "text/plain": "Checkbox(value=False, description='Agg. Ind. Assault - Comp. Less Than 16')",
      "application/vnd.jupyter.widget-view+json": {
       "version_major": 2,
       "version_minor": 0,
       "model_id": "4de5cb8e4cd848dfa2ebfe6ab40ad10b"
      }
     },
     "metadata": {},
     "output_type": "display_data"
    },
    {
     "data": {
      "text/plain": "Checkbox(value=False, description='Identity Theft Identity Theft Identity Theft Identity Theft Identity Theft …",
      "application/vnd.jupyter.widget-view+json": {
       "version_major": 2,
       "version_minor": 0,
       "model_id": "bf643990b69c443a9152848a10b4d603"
      }
     },
     "metadata": {},
     "output_type": "display_data"
    },
    {
     "data": {
      "text/plain": "Checkbox(value=False, description='Fraud Document - Insurance Rate Determ Fraud Document - Insurance Rate Dete…",
      "application/vnd.jupyter.widget-view+json": {
       "version_major": 2,
       "version_minor": 0,
       "model_id": "d805d0c2fd084b0cbaae6e16d64e1c8a"
      }
     },
     "metadata": {},
     "output_type": "display_data"
    },
    {
     "data": {
      "text/plain": "Checkbox(value=False, description='Tinted Windows - Compliance W/ Fed. Regulations')",
      "application/vnd.jupyter.widget-view+json": {
       "version_major": 2,
       "version_minor": 0,
       "model_id": "fa8692e961554e9fb827ef13c8c680e7"
      }
     },
     "metadata": {},
     "output_type": "display_data"
    },
    {
     "data": {
      "text/plain": "Checkbox(value=False, description='Patrick Filed By ATTORNEY INFORMATION ENTRIES')",
      "application/vnd.jupyter.widget-view+json": {
       "version_major": 2,
       "version_minor": 0,
       "model_id": "88f8afcf45ae473b8771284c0a0d3e06"
      }
     },
     "metadata": {},
     "output_type": "display_data"
    },
    {
     "data": {
      "text/plain": "Checkbox(value=False, description='Flight To Avoid Appreh/Trial/Punish')",
      "application/vnd.jupyter.widget-view+json": {
       "version_major": 2,
       "version_minor": 0,
       "model_id": "092505a62f1042fbafa1ec816e005ca8"
      }
     },
     "metadata": {},
     "output_type": "display_data"
    },
    {
     "data": {
      "text/plain": "Checkbox(value=False, description='Def Tres Actual Communication To')",
      "application/vnd.jupyter.widget-view+json": {
       "version_major": 2,
       "version_minor": 0,
       "model_id": "94fa8711536044809794604de41707ba"
      }
     },
     "metadata": {},
     "output_type": "display_data"
    },
    {
     "data": {
      "text/plain": "Checkbox(value=False, description='Careless Driving Reckless Driving Incarceration/Diversionary Period Disposi…",
      "application/vnd.jupyter.widget-view+json": {
       "version_major": 2,
       "version_minor": 0,
       "model_id": "29ad4a844d074bb1b5f952011f87a37f"
      }
     },
     "metadata": {},
     "output_type": "display_data"
    },
    {
     "data": {
      "text/plain": "Checkbox(value=False, description='Perjury')",
      "application/vnd.jupyter.widget-view+json": {
       "version_major": 2,
       "version_minor": 0,
       "model_id": "bb83ad02a951493d9c702230de6df34c"
      }
     },
     "metadata": {},
     "output_type": "display_data"
    },
    {
     "data": {
      "text/plain": "Checkbox(value=False, description='Weapons of Mass Dest. - Unlawful Poss or Manu Weapons of Mass Dest. - Unlaw…",
      "application/vnd.jupyter.widget-view+json": {
       "version_major": 2,
       "version_minor": 0,
       "model_id": "831ffdfa5e28464590af3b8ab0d2b069"
      }
     },
     "metadata": {},
     "output_type": "display_data"
    },
    {
     "data": {
      "text/plain": "Checkbox(value=False, description='Poss Instrument Of Crime W/Int Recklessly Endangering Another Person Incarc…",
      "application/vnd.jupyter.widget-view+json": {
       "version_major": 2,
       "version_minor": 0,
       "model_id": "849c3fa54a32419db1cbf21d1d182f03"
      }
     },
     "metadata": {},
     "output_type": "display_data"
    },
    {
     "data": {
      "text/plain": "Checkbox(value=False, description='Access Device Used To Obt Or Att Obt Prop/Service')",
      "application/vnd.jupyter.widget-view+json": {
       "version_major": 2,
       "version_minor": 0,
       "model_id": "d3e1dfe7b5714834a5caef975e117143"
      }
     },
     "metadata": {},
     "output_type": "display_data"
    },
    {
     "data": {
      "text/plain": "Checkbox(value=False, description='Recklessly Endangering Another Person Unauth Use Motor/Other Vehicles Reckl…",
      "application/vnd.jupyter.widget-view+json": {
       "version_major": 2,
       "version_minor": 0,
       "model_id": "f89ac35c14274d358be595541dd114a8"
      }
     },
     "metadata": {},
     "output_type": "display_data"
    },
    {
     "data": {
      "text/plain": "Checkbox(value=False, description='Carrying Firearm During Emergency Recklessly Endangering Another Person Inc…",
      "application/vnd.jupyter.widget-view+json": {
       "version_major": 2,
       "version_minor": 0,
       "model_id": "a7ee49700fa64d5ba641e9298b4ce46c"
      }
     },
     "metadata": {},
     "output_type": "display_data"
    },
    {
     "data": {
      "text/plain": "Checkbox(value=False, description='Fail To Carry Lic')",
      "application/vnd.jupyter.widget-view+json": {
       "version_major": 2,
       "version_minor": 0,
       "model_id": "7eae1c80302644b28e4f7479ef67e9e2"
      }
     },
     "metadata": {},
     "output_type": "display_data"
    },
    {
     "data": {
      "text/plain": "Checkbox(value=False, description='Alex Filed By ATTORNEY INFORMATION ENTRIES')",
      "application/vnd.jupyter.widget-view+json": {
       "version_major": 2,
       "version_minor": 0,
       "model_id": "7fb2f4e909954aeba9d543a5483b2cc3"
      }
     },
     "metadata": {},
     "output_type": "display_data"
    },
    {
     "data": {
      "text/plain": "Checkbox(value=False, description='Police Animals - Illegal to Taunt')",
      "application/vnd.jupyter.widget-view+json": {
       "version_major": 2,
       "version_minor": 0,
       "model_id": "3f688aef2c1d439c85a6b5f00088ed6d"
      }
     },
     "metadata": {},
     "output_type": "display_data"
    },
    {
     "data": {
      "text/plain": "Checkbox(value=False, description='False Report - Falsely Incriminate Another')",
      "application/vnd.jupyter.widget-view+json": {
       "version_major": 2,
       "version_minor": 0,
       "model_id": "cfa98abf87794bd2a8ec1c5e0d49f142"
      }
     },
     "metadata": {},
     "output_type": "display_data"
    },
    {
     "data": {
      "text/plain": "Checkbox(value=False, description='Theft By Unlaw Taking-Movable Prop Receiving Stolen Property')",
      "application/vnd.jupyter.widget-view+json": {
       "version_major": 2,
       "version_minor": 0,
       "model_id": "8c3e496eb37b4278919e47d56d5b8bdc"
      }
     },
     "metadata": {},
     "output_type": "display_data"
    },
    {
     "data": {
      "text/plain": "Checkbox(value=False, description='Criminal Solicitation - Obstruct Admin Law/Other Govt Func')",
      "application/vnd.jupyter.widget-view+json": {
       "version_major": 2,
       "version_minor": 0,
       "model_id": "e5f9c14ccc9a4ac7bf7121f4e04b8912"
      }
     },
     "metadata": {},
     "output_type": "display_data"
    },
    {
     "data": {
      "text/plain": "Checkbox(value=False, description='\"Submit Claim W/False Info Submit Claim Serv Not Rendd By Prov\"')",
      "application/vnd.jupyter.widget-view+json": {
       "version_major": 2,
       "version_minor": 0,
       "model_id": "d95f9979e2484ebf8b20cbf158814ebe"
      }
     },
     "metadata": {},
     "output_type": "display_data"
    },
    {
     "data": {
      "text/plain": "Checkbox(value=False, description='Abuse Of Corpse')",
      "application/vnd.jupyter.widget-view+json": {
       "version_major": 2,
       "version_minor": 0,
       "model_id": "3f9123a65f3c4fd2b07cd38a399acca4"
      }
     },
     "metadata": {},
     "output_type": "display_data"
    },
    {
     "data": {
      "text/plain": "Checkbox(value=False, description='Arson-Danger Of Death Or Bodily Inj')",
      "application/vnd.jupyter.widget-view+json": {
       "version_major": 2,
       "version_minor": 0,
       "model_id": "922d4cad22234684874ab568249cda6c"
      }
     },
     "metadata": {},
     "output_type": "display_data"
    },
    {
     "data": {
      "text/plain": "Checkbox(value=False, description='Corruption Of Minors')",
      "application/vnd.jupyter.widget-view+json": {
       "version_major": 2,
       "version_minor": 0,
       "model_id": "fc407cf5b8004bbb8cb513687a597955"
      }
     },
     "metadata": {},
     "output_type": "display_data"
    },
    {
     "data": {
      "text/plain": "Checkbox(value=False, description='Improper Pass on Right')",
      "application/vnd.jupyter.widget-view+json": {
       "version_major": 2,
       "version_minor": 0,
       "model_id": "e0c8a10d391e46a3a8a86b4a0e7ec82b"
      }
     },
     "metadata": {},
     "output_type": "display_data"
    },
    {
     "data": {
      "text/plain": "Checkbox(value=False, description='Smell/Inhale Toxic Releasing Substances')",
      "application/vnd.jupyter.widget-view+json": {
       "version_major": 2,
       "version_minor": 0,
       "model_id": "b687a641cebd428ba714636d4829591e"
      }
     },
     "metadata": {},
     "output_type": "display_data"
    },
    {
     "data": {
      "text/plain": "Checkbox(value=False, description='Terroristic Threats W/ Int To Terrorize Another Simple Assault Recklessly E…",
      "application/vnd.jupyter.widget-view+json": {
       "version_major": 2,
       "version_minor": 0,
       "model_id": "a8ccc0193aa8494abb78f25f371bf031"
      }
     },
     "metadata": {},
     "output_type": "display_data"
    },
    {
     "data": {
      "text/plain": "Checkbox(value=False, description='Strangulation - Applying Pressure to Throat or Neck')",
      "application/vnd.jupyter.widget-view+json": {
       "version_major": 2,
       "version_minor": 0,
       "model_id": "b6cd301c25df40dd965d00ab42cbfdd8"
      }
     },
     "metadata": {},
     "output_type": "display_data"
    },
    {
     "data": {
      "text/plain": "Checkbox(value=False, description='Theft Of Services-Acquis Of Service')",
      "application/vnd.jupyter.widget-view+json": {
       "version_major": 2,
       "version_minor": 0,
       "model_id": "f55770c6f7c0422295646ee1ba6708e3"
      }
     },
     "metadata": {},
     "output_type": "display_data"
    },
    {
     "data": {
      "text/plain": "Checkbox(value=False, description='Etc. Language Incarceration/Diversionary Period Disposition Date Offense Di…",
      "application/vnd.jupyter.widget-view+json": {
       "version_major": 2,
       "version_minor": 0,
       "model_id": "ed6d2c4269cd4253974d2a9296cbfdec"
      }
     },
     "metadata": {},
     "output_type": "display_data"
    },
    {
     "data": {
      "text/plain": "Checkbox(value=False, description='Int Poss Contr Subst By Per Not Reg Corruption Of Minors Incarceration/Dive…",
      "application/vnd.jupyter.widget-view+json": {
       "version_major": 2,
       "version_minor": 0,
       "model_id": "94a034b39bf44d05862d8ba6bbd90f0f"
      }
     },
     "metadata": {},
     "output_type": "display_data"
    },
    {
     "data": {
      "text/plain": "Checkbox(value=False, description='Criminal Solicitation - Abuse Of Corpse')",
      "application/vnd.jupyter.widget-view+json": {
       "version_major": 2,
       "version_minor": 0,
       "model_id": "250c3f0854ef4240aa63ddef31119fb3"
      }
     },
     "metadata": {},
     "output_type": "display_data"
    },
    {
     "data": {
      "text/plain": "Checkbox(value=False, description='Etc. Language')",
      "application/vnd.jupyter.widget-view+json": {
       "version_major": 2,
       "version_minor": 0,
       "model_id": "b6633d6f2a484c0bbed632e24f286050"
      }
     },
     "metadata": {},
     "output_type": "display_data"
    },
    {
     "data": {
      "text/plain": "Checkbox(value=False, description='Driv While Oper Priv Susp Or Revoked Unknown Statute Unknown Statute Incarc…",
      "application/vnd.jupyter.widget-view+json": {
       "version_major": 2,
       "version_minor": 0,
       "model_id": "7449c6eca0124817b116f9b7d6aa66fe"
      }
     },
     "metadata": {},
     "output_type": "display_data"
    },
    {
     "data": {
      "text/plain": "Checkbox(value=False, description='Patrick Stack')",
      "application/vnd.jupyter.widget-view+json": {
       "version_major": 2,
       "version_minor": 0,
       "model_id": "fa08f86cddc74dffa631048299f6735c"
      }
     },
     "metadata": {},
     "output_type": "display_data"
    },
    {
     "data": {
      "text/plain": "Checkbox(value=False, description='Jan Filed By ATTORNEY INFORMATION ENTRIES')",
      "application/vnd.jupyter.widget-view+json": {
       "version_major": 2,
       "version_minor": 0,
       "model_id": "1ba7fb4295924e0d89f7da9649d21f1b"
      }
     },
     "metadata": {},
     "output_type": "display_data"
    },
    {
     "data": {
      "text/plain": "Checkbox(value=False, description='Verify Address or Photographed as Required')",
      "application/vnd.jupyter.widget-view+json": {
       "version_major": 2,
       "version_minor": 0,
       "model_id": "4370b1adadc848d987cd0a47200a5e1f"
      }
     },
     "metadata": {},
     "output_type": "display_data"
    },
    {
     "data": {
      "text/plain": "Checkbox(value=False, description='Everton Proceed to Court Proceed to Court Proceed to Court Proceed to Court…",
      "application/vnd.jupyter.widget-view+json": {
       "version_major": 2,
       "version_minor": 0,
       "model_id": "c92408e89757449dbc1c9f0fea91a81d"
      }
     },
     "metadata": {},
     "output_type": "display_data"
    },
    {
     "data": {
      "text/plain": "Checkbox(value=False, description='Unauth Use Motor/Other Vehicles')",
      "application/vnd.jupyter.widget-view+json": {
       "version_major": 2,
       "version_minor": 0,
       "model_id": "5cdc749b321241898994e0785bf9bc97"
      }
     },
     "metadata": {},
     "output_type": "display_data"
    },
    {
     "data": {
      "text/plain": "Checkbox(value=False, description='Exceed Max Speed Lim Estb By 27 MPH')",
      "application/vnd.jupyter.widget-view+json": {
       "version_major": 2,
       "version_minor": 0,
       "model_id": "3b2b4372966b4e3689f8cdda2209f6bf"
      }
     },
     "metadata": {},
     "output_type": "display_data"
    },
    {
     "data": {
      "text/plain": "Checkbox(value=False, description='Simple Assault Recklessly Endangering Another Person Disposition Date Offen…",
      "application/vnd.jupyter.widget-view+json": {
       "version_major": 2,
       "version_minor": 0,
       "model_id": "72f5a441e5f7477788ae0f12ebb94620"
      }
     },
     "metadata": {},
     "output_type": "display_data"
    },
    {
     "data": {
      "text/plain": "Checkbox(value=False, description='Disp Cont Subst By Pract W/O Aff')",
      "application/vnd.jupyter.widget-view+json": {
       "version_major": 2,
       "version_minor": 0,
       "model_id": "6614e893e5264f62aa874f2c00ab4e3b"
      }
     },
     "metadata": {},
     "output_type": "display_data"
    },
    {
     "data": {
      "text/plain": "Checkbox(value=False, description='Deliver/Intent To Del Drug Para')",
      "application/vnd.jupyter.widget-view+json": {
       "version_major": 2,
       "version_minor": 0,
       "model_id": "21ce8493127347258f61111210d64e72"
      }
     },
     "metadata": {},
     "output_type": "display_data"
    },
    {
     "data": {
      "text/plain": "Checkbox(value=False, description='Criminal Attempt - Sexual Assault')",
      "application/vnd.jupyter.widget-view+json": {
       "version_major": 2,
       "version_minor": 0,
       "model_id": "5bf0d1d377a54355ad759d021debd9e3"
      }
     },
     "metadata": {},
     "output_type": "display_data"
    },
    {
     "data": {
      "text/plain": "Checkbox(value=False, description='Robbery-Inflict Threat Imm Bod Inj')",
      "application/vnd.jupyter.widget-view+json": {
       "version_major": 2,
       "version_minor": 0,
       "model_id": "589e4cb1abef481dbcb83c4652f2d7cb"
      }
     },
     "metadata": {},
     "output_type": "display_data"
    },
    {
     "data": {
      "text/plain": "Checkbox(value=False, description='Possession Of Firearm By Minor')",
      "application/vnd.jupyter.widget-view+json": {
       "version_major": 2,
       "version_minor": 0,
       "model_id": "d0dbbba845f743aaa86afed4f82907e1"
      }
     },
     "metadata": {},
     "output_type": "display_data"
    },
    {
     "data": {
      "text/plain": "Checkbox(value=False, description='Aggravated Assault - Victim Less Than 6 and Defendant 18 or older')",
      "application/vnd.jupyter.widget-view+json": {
       "version_major": 2,
       "version_minor": 0,
       "model_id": "bf7c2c3aff244762a375f677f0370fd8"
      }
     },
     "metadata": {},
     "output_type": "display_data"
    },
    {
     "data": {
      "text/plain": "Checkbox(value=False, description='Crystal Filed By ATTORNEY INFORMATION ENTRIES')",
      "application/vnd.jupyter.widget-view+json": {
       "version_major": 2,
       "version_minor": 0,
       "model_id": "3498f4e6d3ea42c0a48d278896c14f64"
      }
     },
     "metadata": {},
     "output_type": "display_data"
    },
    {
     "data": {
      "text/plain": "Checkbox(value=False, description='Fraud Document - Insurance Rate Determ')",
      "application/vnd.jupyter.widget-view+json": {
       "version_major": 2,
       "version_minor": 0,
       "model_id": "1424d678415343268f576c77f14e79ea"
      }
     },
     "metadata": {},
     "output_type": "display_data"
    },
    {
     "data": {
      "text/plain": "Checkbox(value=False, description='Identity Theft Identity Theft Identity Theft Identity Theft Identity Theft …",
      "application/vnd.jupyter.widget-view+json": {
       "version_major": 2,
       "version_minor": 0,
       "model_id": "233637fec6c6476597841d9a1bc17ca0"
      }
     },
     "metadata": {},
     "output_type": "display_data"
    },
    {
     "data": {
      "text/plain": "Checkbox(value=False, description='Veh Reg Suspended')",
      "application/vnd.jupyter.widget-view+json": {
       "version_major": 2,
       "version_minor": 0,
       "model_id": "6a6b24fbe7d74dfaa7b04d6cf5570f5c"
      }
     },
     "metadata": {},
     "output_type": "display_data"
    },
    {
     "data": {
      "text/plain": "Checkbox(value=False, description='Criminal Attempt - Murder Of The First Degree')",
      "application/vnd.jupyter.widget-view+json": {
       "version_major": 2,
       "version_minor": 0,
       "model_id": "5d2841a14b8145f69f75e532d577b704"
      }
     },
     "metadata": {},
     "output_type": "display_data"
    },
    {
     "data": {
      "text/plain": "Checkbox(value=False, description='Theft By Unlaw Taking-Movable Prop Receiving Stolen Property Criminal Misch…",
      "application/vnd.jupyter.widget-view+json": {
       "version_major": 2,
       "version_minor": 0,
       "model_id": "a4f54c5927e245abae0ab684b91999c0"
      }
     },
     "metadata": {},
     "output_type": "display_data"
    },
    {
     "data": {
      "text/plain": "Checkbox(value=False, description='Simple Assault Recklessly Endangering Another Person Disposition Date Offen…",
      "application/vnd.jupyter.widget-view+json": {
       "version_major": 2,
       "version_minor": 0,
       "model_id": "85ed6b9e4ed34fb6a375e4352c0e0560"
      }
     },
     "metadata": {},
     "output_type": "display_data"
    },
    {
     "data": {
      "text/plain": "Checkbox(value=False, description='Fleeing or Attempting to Elude Officer')",
      "application/vnd.jupyter.widget-view+json": {
       "version_major": 2,
       "version_minor": 0,
       "model_id": "119e430f8ecb4058ba660f4269ace4ba"
      }
     },
     "metadata": {},
     "output_type": "display_data"
    },
    {
     "data": {
      "text/plain": "Checkbox(value=False, description='False Alarm To Agency Of Public Safety')",
      "application/vnd.jupyter.widget-view+json": {
       "version_major": 2,
       "version_minor": 0,
       "model_id": "94af9253a3bf42f78679448a32ee951a"
      }
     },
     "metadata": {},
     "output_type": "display_data"
    },
    {
     "data": {
      "text/plain": "Checkbox(value=False, description='Recklessly Endangering Another Person Criminal Mischief Harassment - Subjec…",
      "application/vnd.jupyter.widget-view+json": {
       "version_major": 2,
       "version_minor": 0,
       "model_id": "6b0bd120b4934bea94576082c957be63"
      }
     },
     "metadata": {},
     "output_type": "display_data"
    },
    {
     "data": {
      "text/plain": "Checkbox(value=False, description='Disorderly Conduct Engage In Fighting')",
      "application/vnd.jupyter.widget-view+json": {
       "version_major": 2,
       "version_minor": 0,
       "model_id": "abf7826953c44ab6b7211d72ce8cb596"
      }
     },
     "metadata": {},
     "output_type": "display_data"
    },
    {
     "data": {
      "text/plain": "Checkbox(value=False, description='Recklessly Endangering Another Person Criminal Mischief Harassment - Subjec…",
      "application/vnd.jupyter.widget-view+json": {
       "version_major": 2,
       "version_minor": 0,
       "model_id": "9d35c667fddf4dcaa713d2ae4a6f4717"
      }
     },
     "metadata": {},
     "output_type": "display_data"
    },
    {
     "data": {
      "text/plain": "Checkbox(value=False, description='Involuntary Manslaughter')",
      "application/vnd.jupyter.widget-view+json": {
       "version_major": 2,
       "version_minor": 0,
       "model_id": "368404603367475f980e14dd14518a59"
      }
     },
     "metadata": {},
     "output_type": "display_data"
    },
    {
     "data": {
      "text/plain": "Checkbox(value=False, description='Accident Involv Damage Attended Vehicle/Prop')",
      "application/vnd.jupyter.widget-view+json": {
       "version_major": 2,
       "version_minor": 0,
       "model_id": "4176b894c4cb48009b7a7646c8e6593d"
      }
     },
     "metadata": {},
     "output_type": "display_data"
    },
    {
     "data": {
      "text/plain": "Checkbox(value=False, description='Prohib. On Expenditures for Emission Inspection')",
      "application/vnd.jupyter.widget-view+json": {
       "version_major": 2,
       "version_minor": 0,
       "model_id": "fcde8fcd5eb445babf68e3f1cb2741b7"
      }
     },
     "metadata": {},
     "output_type": "display_data"
    },
    {
     "data": {
      "text/plain": "Checkbox(value=False, description='Terroristic Threats W/ Int To Terrorize Another Stalking - Repeatedly Commi…",
      "application/vnd.jupyter.widget-view+json": {
       "version_major": 2,
       "version_minor": 0,
       "model_id": "112957c59fe948ba80e94640a50782be"
      }
     },
     "metadata": {},
     "output_type": "display_data"
    },
    {
     "data": {
      "text/plain": "Checkbox(value=False, description='Everton Proceed to Court Proceed to Court Proceed to Court Proceed to Court…",
      "application/vnd.jupyter.widget-view+json": {
       "version_major": 2,
       "version_minor": 0,
       "model_id": "165a84ba25604119b7b0eaa73bc224f5"
      }
     },
     "metadata": {},
     "output_type": "display_data"
    },
    {
     "data": {
      "text/plain": "Checkbox(value=False, description='Unknown Statute')",
      "application/vnd.jupyter.widget-view+json": {
       "version_major": 2,
       "version_minor": 0,
       "model_id": "88866fc133d647b288f1558fe6d2d3c7"
      }
     },
     "metadata": {},
     "output_type": "display_data"
    },
    {
     "data": {
      "text/plain": "Checkbox(value=False, description='Transient - Fail to Register with PSP')",
      "application/vnd.jupyter.widget-view+json": {
       "version_major": 2,
       "version_minor": 0,
       "model_id": "cdacc4e8a96742e593849a20653a6c91"
      }
     },
     "metadata": {},
     "output_type": "display_data"
    },
    {
     "data": {
      "text/plain": "Checkbox(value=False, description='Submit Claim Or Refer Improp Serv')",
      "application/vnd.jupyter.widget-view+json": {
       "version_major": 2,
       "version_minor": 0,
       "model_id": "594591902a1b4bafa5cb9cbd7ab72944"
      }
     },
     "metadata": {},
     "output_type": "display_data"
    },
    {
     "data": {
      "text/plain": "Checkbox(value=False, description='Criminal Attempt - Unauth Use Motor/Other Vehicles')",
      "application/vnd.jupyter.widget-view+json": {
       "version_major": 2,
       "version_minor": 0,
       "model_id": "2d10291718974dbbaf80ead879e57e62"
      }
     },
     "metadata": {},
     "output_type": "display_data"
    },
    {
     "data": {
      "text/plain": "Checkbox(value=False, description='Tamper With/Fabricate Physical Evidence')",
      "application/vnd.jupyter.widget-view+json": {
       "version_major": 2,
       "version_minor": 0,
       "model_id": "eb9a22b71b5548df95ccf8d1dda8c781"
      }
     },
     "metadata": {},
     "output_type": "display_data"
    },
    {
     "data": {
      "text/plain": "Checkbox(value=False, description='Harassment - Subject Other to Physical Contact Disorderly Conduct Engage In…",
      "application/vnd.jupyter.widget-view+json": {
       "version_major": 2,
       "version_minor": 0,
       "model_id": "ec06dd003d96412b84602312cf69f201"
      }
     },
     "metadata": {},
     "output_type": "display_data"
    },
    {
     "data": {
      "text/plain": "Checkbox(value=False, description='Assault On Sports Official')",
      "application/vnd.jupyter.widget-view+json": {
       "version_major": 2,
       "version_minor": 0,
       "model_id": "5eb716c35be84ff089e4e46e1441874f"
      }
     },
     "metadata": {},
     "output_type": "display_data"
    },
    {
     "data": {
      "text/plain": "Checkbox(value=False, description='Pass Left Unsafe')",
      "application/vnd.jupyter.widget-view+json": {
       "version_major": 2,
       "version_minor": 0,
       "model_id": "26965a09acd34125ac8c94dcc0cf317c"
      }
     },
     "metadata": {},
     "output_type": "display_data"
    },
    {
     "data": {
      "text/plain": "Checkbox(value=False, description='Hassan Filed By ATTORNEY INFORMATION ENTRIES')",
      "application/vnd.jupyter.widget-view+json": {
       "version_major": 2,
       "version_minor": 0,
       "model_id": "0805a25ff2a146799a24d23a75e2d8a7"
      }
     },
     "metadata": {},
     "output_type": "display_data"
    },
    {
     "data": {
      "text/plain": "Checkbox(value=False, description='Duties At Stop Sign Period For Requiring Lighted Lamps Disposition Date Off…",
      "application/vnd.jupyter.widget-view+json": {
       "version_major": 2,
       "version_minor": 0,
       "model_id": "e591aad2ef584392b466e9b45655d190"
      }
     },
     "metadata": {},
     "output_type": "display_data"
    },
    {
     "data": {
      "text/plain": "Checkbox(value=False, description='False Alarm To Agency Of Public Safety False Report - Falsely Incriminate A…",
      "application/vnd.jupyter.widget-view+json": {
       "version_major": 2,
       "version_minor": 0,
       "model_id": "abc125558d5047918c976d033e7cbf39"
      }
     },
     "metadata": {},
     "output_type": "display_data"
    },
    {
     "data": {
      "text/plain": "Checkbox(value=False, description='Improper Stop')",
      "application/vnd.jupyter.widget-view+json": {
       "version_major": 2,
       "version_minor": 0,
       "model_id": "470260b59ae9461abc95617f3e9f97f6"
      }
     },
     "metadata": {},
     "output_type": "display_data"
    },
    {
     "data": {
      "text/plain": "Checkbox(value=False, description='Toure Filed By ATTORNEY INFORMATION ENTRIES')",
      "application/vnd.jupyter.widget-view+json": {
       "version_major": 2,
       "version_minor": 0,
       "model_id": "0211ab8a3e2f4d389dde48eb54cd3b59"
      }
     },
     "metadata": {},
     "output_type": "display_data"
    },
    {
     "data": {
      "text/plain": "Checkbox(value=False, description='Cutting Weapons')",
      "application/vnd.jupyter.widget-view+json": {
       "version_major": 2,
       "version_minor": 0,
       "model_id": "de21741dc0124b0cbb6d305f51646c77"
      }
     },
     "metadata": {},
     "output_type": "display_data"
    },
    {
     "data": {
      "text/plain": "Checkbox(value=False, description='Agg. Assault Of Unborn Child')",
      "application/vnd.jupyter.widget-view+json": {
       "version_major": 2,
       "version_minor": 0,
       "model_id": "7e1dcb4f9bbc4f908547f55efecaef10"
      }
     },
     "metadata": {},
     "output_type": "display_data"
    },
    {
     "data": {
      "text/plain": "Checkbox(value=False, description='Agg. Ind. Assault - Comp. Less Than 13 Years Old')",
      "application/vnd.jupyter.widget-view+json": {
       "version_major": 2,
       "version_minor": 0,
       "model_id": "f5c62c8aa49b4d08ba147c34bea1000b"
      }
     },
     "metadata": {},
     "output_type": "display_data"
    },
    {
     "data": {
      "text/plain": "Checkbox(value=False, description='Endangering Welfare Of Children')",
      "application/vnd.jupyter.widget-view+json": {
       "version_major": 2,
       "version_minor": 0,
       "model_id": "d45ec39c12b24a0cb4d9885707a397a5"
      }
     },
     "metadata": {},
     "output_type": "display_data"
    },
    {
     "data": {
      "text/plain": "Checkbox(value=False, description='Careless Driving No Headlights')",
      "application/vnd.jupyter.widget-view+json": {
       "version_major": 2,
       "version_minor": 0,
       "model_id": "2b68020a1f4f4d26ade692cff67f4017"
      }
     },
     "metadata": {},
     "output_type": "display_data"
    },
    {
     "data": {
      "text/plain": "Checkbox(value=False, description='Patronizing Prostitutes')",
      "application/vnd.jupyter.widget-view+json": {
       "version_major": 2,
       "version_minor": 0,
       "model_id": "e96cad73cff341d2b229df36c900c091"
      }
     },
     "metadata": {},
     "output_type": "display_data"
    },
    {
     "data": {
      "text/plain": "Checkbox(value=False, description='Indecent Assault Person Unconscious')",
      "application/vnd.jupyter.widget-view+json": {
       "version_major": 2,
       "version_minor": 0,
       "model_id": "1ce9c2eb369c4318990c89f1544004bb"
      }
     },
     "metadata": {},
     "output_type": "display_data"
    },
    {
     "data": {
      "text/plain": "Checkbox(value=False, description='Poss Instrument Of Crime W/Int Simple Assault Recklessly Endangering Anothe…",
      "application/vnd.jupyter.widget-view+json": {
       "version_major": 2,
       "version_minor": 0,
       "model_id": "a0a3cfe9d0b6491ea6d0fd63a556afec"
      }
     },
     "metadata": {},
     "output_type": "display_data"
    },
    {
     "data": {
      "text/plain": "Checkbox(value=False, description='Corruption Of Minors Simple Assault')",
      "application/vnd.jupyter.widget-view+json": {
       "version_major": 2,
       "version_minor": 0,
       "model_id": "4acdf6e7846f4342a22c2628283b1235"
      }
     },
     "metadata": {},
     "output_type": "display_data"
    },
    {
     "data": {
      "text/plain": "Checkbox(value=False, description='Statutory Sexual Assault')",
      "application/vnd.jupyter.widget-view+json": {
       "version_major": 2,
       "version_minor": 0,
       "model_id": "1628d07d564145f79935811d3fed6a5a"
      }
     },
     "metadata": {},
     "output_type": "display_data"
    },
    {
     "data": {
      "text/plain": "Checkbox(value=False, description='Aggravated Assault - Attempts to cause or causes BI to designated individua…",
      "application/vnd.jupyter.widget-view+json": {
       "version_major": 2,
       "version_minor": 0,
       "model_id": "3e56148b3a764974ad3d0b3ff3a2d625"
      }
     },
     "metadata": {},
     "output_type": "display_data"
    },
    {
     "data": {
      "text/plain": "Checkbox(value=False, description='Sale Give Contr Subs To Dep Person')",
      "application/vnd.jupyter.widget-view+json": {
       "version_major": 2,
       "version_minor": 0,
       "model_id": "564520b4680a423a96b72697e3be9ad3"
      }
     },
     "metadata": {},
     "output_type": "display_data"
    },
    {
     "data": {
      "text/plain": "Checkbox(value=False, description='Computer Theft')",
      "application/vnd.jupyter.widget-view+json": {
       "version_major": 2,
       "version_minor": 0,
       "model_id": "7d8edab71515476d99d82b97e71e1bd0"
      }
     },
     "metadata": {},
     "output_type": "display_data"
    },
    {
     "data": {
      "text/plain": "Checkbox(value=False, description='False Report - Falsely Incriminate Another False Report - Falsely Incrimina…",
      "application/vnd.jupyter.widget-view+json": {
       "version_major": 2,
       "version_minor": 0,
       "model_id": "eb1475dda27747a99165e46d722172f5"
      }
     },
     "metadata": {},
     "output_type": "display_data"
    },
    {
     "data": {
      "text/plain": "Checkbox(value=False, description='Or Neglig')",
      "application/vnd.jupyter.widget-view+json": {
       "version_major": 2,
       "version_minor": 0,
       "model_id": "c4c7ebdb3ca04865bd10082c62be7414"
      }
     },
     "metadata": {},
     "output_type": "display_data"
    },
    {
     "data": {
      "text/plain": "Checkbox(value=False, description='Theft By Unlaw Taking-Movable Prop Corruption Of Minors')",
      "application/vnd.jupyter.widget-view+json": {
       "version_major": 2,
       "version_minor": 0,
       "model_id": "79cfca71a57e42d38905cb2cb8775928"
      }
     },
     "metadata": {},
     "output_type": "display_data"
    },
    {
     "data": {
      "text/plain": "Checkbox(value=False, description='False/Fraud/Etc Sales Of Unstamp Cig')",
      "application/vnd.jupyter.widget-view+json": {
       "version_major": 2,
       "version_minor": 0,
       "model_id": "a62d8f96b1084d4daee1f57404ba2c56"
      }
     },
     "metadata": {},
     "output_type": "display_data"
    },
    {
     "data": {
      "text/plain": "Checkbox(value=False, description='PA 19103 Representing: Drayton')",
      "application/vnd.jupyter.widget-view+json": {
       "version_major": 2,
       "version_minor": 0,
       "model_id": "af92aebebdd945aba655595e45be894a"
      }
     },
     "metadata": {},
     "output_type": "display_data"
    },
    {
     "data": {
      "text/plain": "Checkbox(value=False, description='Identity Theft')",
      "application/vnd.jupyter.widget-view+json": {
       "version_major": 2,
       "version_minor": 0,
       "model_id": "c029eb9a4095428cb0499438411dc956"
      }
     },
     "metadata": {},
     "output_type": "display_data"
    },
    {
     "data": {
      "text/plain": "Checkbox(value=False, description='Intim Witness/Victim False/Misleading Testimony')",
      "application/vnd.jupyter.widget-view+json": {
       "version_major": 2,
       "version_minor": 0,
       "model_id": "e4385b3bb41c4a0a9f837cbf7b080c04"
      }
     },
     "metadata": {},
     "output_type": "display_data"
    },
    {
     "data": {
      "text/plain": "Checkbox(value=False, description='Intimidate Witness/Victim - Withhold Testimony')",
      "application/vnd.jupyter.widget-view+json": {
       "version_major": 2,
       "version_minor": 0,
       "model_id": "cdd0c9194c714db0bb32efba7f40b7b6"
      }
     },
     "metadata": {},
     "output_type": "display_data"
    },
    {
     "data": {
      "text/plain": "Checkbox(value=False, description='Disregard Traffic Lane (Single) Turning Movements And Required Signals')",
      "application/vnd.jupyter.widget-view+json": {
       "version_major": 2,
       "version_minor": 0,
       "model_id": "b6388788db3e4c218e1a95a53113c576"
      }
     },
     "metadata": {},
     "output_type": "display_data"
    },
    {
     "data": {
      "text/plain": "Checkbox(value=False, description='Simple Assault Recklessly Endangering Another Person Disposition Date Offen…",
      "application/vnd.jupyter.widget-view+json": {
       "version_major": 2,
       "version_minor": 0,
       "model_id": "6f9561b177504473961ac58ffb90dc73"
      }
     },
     "metadata": {},
     "output_type": "display_data"
    },
    {
     "data": {
      "text/plain": "Checkbox(value=False, description='Follow Too Closely')",
      "application/vnd.jupyter.widget-view+json": {
       "version_major": 2,
       "version_minor": 0,
       "model_id": "d36d7a10e0fb49dc9e3bbcfbb3bdd812"
      }
     },
     "metadata": {},
     "output_type": "display_data"
    },
    {
     "data": {
      "text/plain": "Checkbox(value=False, description='Photograph/Film/Depict on Computer Sex Act - Knowingly or Permitting Child'…",
      "application/vnd.jupyter.widget-view+json": {
       "version_major": 2,
       "version_minor": 0,
       "model_id": "669f4e8620c04f91864a0e6ed04e2e59"
      }
     },
     "metadata": {},
     "output_type": "display_data"
    },
    {
     "data": {
      "text/plain": "Checkbox(value=False, description='Poss Instrument Of Crime W/Int Simple Assault Recklessly Endangering Anothe…",
      "application/vnd.jupyter.widget-view+json": {
       "version_major": 2,
       "version_minor": 0,
       "model_id": "dcc600c1364d49c2ba58ae3835c0623b"
      }
     },
     "metadata": {},
     "output_type": "display_data"
    },
    {
     "data": {
      "text/plain": "Checkbox(value=False, description='Shawn Filed By ATTORNEY INFORMATION ENTRIES')",
      "application/vnd.jupyter.widget-view+json": {
       "version_major": 2,
       "version_minor": 0,
       "model_id": "1039ba79d5bb46679e8ef0c2981cfb7d"
      }
     },
     "metadata": {},
     "output_type": "display_data"
    },
    {
     "data": {
      "text/plain": "Checkbox(value=False, description='Firearms Not To Be Carried W/O License Theft By Unlaw Taking-Movable Prop R…",
      "application/vnd.jupyter.widget-view+json": {
       "version_major": 2,
       "version_minor": 0,
       "model_id": "aa5d6f8d0b634b6f90febc6f5c8fa1f5"
      }
     },
     "metadata": {},
     "output_type": "display_data"
    },
    {
     "data": {
      "text/plain": "Checkbox(value=False, description='One Way Roadways/Rotary Traffic Island')",
      "application/vnd.jupyter.widget-view+json": {
       "version_major": 2,
       "version_minor": 0,
       "model_id": "9a9e6b1b0b924b6ebbb21515a45347b7"
      }
     },
     "metadata": {},
     "output_type": "display_data"
    },
    {
     "data": {
      "text/plain": "Checkbox(value=False, description='Theft By Unlaw Taking-Movable Prop Criminal Mischief')",
      "application/vnd.jupyter.widget-view+json": {
       "version_major": 2,
       "version_minor": 0,
       "model_id": "4119fb3d15aa455ba84ead6cf75c1b9a"
      }
     },
     "metadata": {},
     "output_type": "display_data"
    },
    {
     "data": {
      "text/plain": "Checkbox(value=False, description='Conspiracy - Criminal Use Of Communication Facility')",
      "application/vnd.jupyter.widget-view+json": {
       "version_major": 2,
       "version_minor": 0,
       "model_id": "90a5cc829bdb4aedb31d0b18665f5677"
      }
     },
     "metadata": {},
     "output_type": "display_data"
    },
    {
     "data": {
      "text/plain": "Checkbox(value=False, description='Illegal Park Stand Double')",
      "application/vnd.jupyter.widget-view+json": {
       "version_major": 2,
       "version_minor": 0,
       "model_id": "ea4e5a7513ff43a58a6d63d713c467a8"
      }
     },
     "metadata": {},
     "output_type": "display_data"
    },
    {
     "data": {
      "text/plain": "Checkbox(value=False, description='Make Repairs/Sell/Etc Offens Weap Make Repairs/Sell/Etc Offens Weap Make Re…",
      "application/vnd.jupyter.widget-view+json": {
       "version_major": 2,
       "version_minor": 0,
       "model_id": "6056162fb6f645718df11a225364d617"
      }
     },
     "metadata": {},
     "output_type": "display_data"
    },
    {
     "data": {
      "text/plain": "Checkbox(value=False, description='Simple Assault Recklessly Endangering Another Person False Imprisonment Dis…",
      "application/vnd.jupyter.widget-view+json": {
       "version_major": 2,
       "version_minor": 0,
       "model_id": "d457958261bb40a9ab0ffdc36f7c49a1"
      }
     },
     "metadata": {},
     "output_type": "display_data"
    },
    {
     "data": {
      "text/plain": "Checkbox(value=False, description='Int Poss Contr Subst By Per Not Reg Conspiracy')",
      "application/vnd.jupyter.widget-view+json": {
       "version_major": 2,
       "version_minor": 0,
       "model_id": "c1c31d4b42a1435da1eadcb3915421fc"
      }
     },
     "metadata": {},
     "output_type": "display_data"
    },
    {
     "data": {
      "text/plain": "Checkbox(value=False, description='Poss Instrument Of Crime W/Int')",
      "application/vnd.jupyter.widget-view+json": {
       "version_major": 2,
       "version_minor": 0,
       "model_id": "4b3ab2fc87fe4f47abb367953b673e92"
      }
     },
     "metadata": {},
     "output_type": "display_data"
    },
    {
     "data": {
      "text/plain": "Checkbox(value=False, description='Poss Instrument Of Crime W/Int Simple Assault Recklessly Endangering Anothe…",
      "application/vnd.jupyter.widget-view+json": {
       "version_major": 2,
       "version_minor": 0,
       "model_id": "5e112f205e7e47ffb7673e258e313e64"
      }
     },
     "metadata": {},
     "output_type": "display_data"
    },
    {
     "data": {
      "text/plain": "Checkbox(value=False, description='Theft By Decep-False Impression')",
      "application/vnd.jupyter.widget-view+json": {
       "version_major": 2,
       "version_minor": 0,
       "model_id": "c5e9cfcd356b47dd870bc27d6bffe0d2"
      }
     },
     "metadata": {},
     "output_type": "display_data"
    },
    {
     "data": {
      "text/plain": "Checkbox(value=False, description='Int Poss Contr Subst By Per Not Reg Carry Firearms Public In Phila False Id…",
      "application/vnd.jupyter.widget-view+json": {
       "version_major": 2,
       "version_minor": 0,
       "model_id": "a9277d49507b45dc8034306d3efc5c1c"
      }
     },
     "metadata": {},
     "output_type": "display_data"
    },
    {
     "data": {
      "text/plain": "Checkbox(value=False, description='Bad Checks')",
      "application/vnd.jupyter.widget-view+json": {
       "version_major": 2,
       "version_minor": 0,
       "model_id": "8ac92081e51848a59381c51436ccc5f0"
      }
     },
     "metadata": {},
     "output_type": "display_data"
    },
    {
     "data": {
      "text/plain": "Checkbox(value=False, description='Victim Under 12 Defendant 18 or older')",
      "application/vnd.jupyter.widget-view+json": {
       "version_major": 2,
       "version_minor": 0,
       "model_id": "aff3380c5f8c4f8e826a03a3d7c37fca"
      }
     },
     "metadata": {},
     "output_type": "display_data"
    },
    {
     "data": {
      "text/plain": "Checkbox(value=False, description='Misapply Entrusted/Govt/Fin Inst Prop')",
      "application/vnd.jupyter.widget-view+json": {
       "version_major": 2,
       "version_minor": 0,
       "model_id": "84a9aa6056ac4333a0c3d499ee60f072"
      }
     },
     "metadata": {},
     "output_type": "display_data"
    },
    {
     "data": {
      "text/plain": "Checkbox(value=False, description='Use/Poss Of Drug Paraph No Headlights')",
      "application/vnd.jupyter.widget-view+json": {
       "version_major": 2,
       "version_minor": 0,
       "model_id": "68707490fc9440e6a0f3f86a6597e781"
      }
     },
     "metadata": {},
     "output_type": "display_data"
    },
    {
     "data": {
      "text/plain": "Checkbox(value=False, description='Simple Assault Recklessly Endangering Another Person Disposition Date Offen…",
      "application/vnd.jupyter.widget-view+json": {
       "version_major": 2,
       "version_minor": 0,
       "model_id": "8baf6b7fcc7d4db691dee2121c403b7f"
      }
     },
     "metadata": {},
     "output_type": "display_data"
    },
    {
     "data": {
      "text/plain": "Checkbox(value=False, description='Causing Catastrophe Criminal Use Of Communication Facility Poss Instrument …",
      "application/vnd.jupyter.widget-view+json": {
       "version_major": 2,
       "version_minor": 0,
       "model_id": "47585b6efe5240fd847c6ab8154ccdb2"
      }
     },
     "metadata": {},
     "output_type": "display_data"
    },
    {
     "data": {
      "text/plain": "Checkbox(value=False, description='Or Lending')",
      "application/vnd.jupyter.widget-view+json": {
       "version_major": 2,
       "version_minor": 0,
       "model_id": "b92dd816a02342a694c8e9068ca73418"
      }
     },
     "metadata": {},
     "output_type": "display_data"
    },
    {
     "data": {
      "text/plain": "Checkbox(value=False, description='Dec Bus Pract - False/Mis Stat Pub')",
      "application/vnd.jupyter.widget-view+json": {
       "version_major": 2,
       "version_minor": 0,
       "model_id": "fe94a2fb93434b57b23395fc050d97da"
      }
     },
     "metadata": {},
     "output_type": "display_data"
    },
    {
     "data": {
      "text/plain": "Checkbox(value=False, description='\"Tamper With Public Record/information Tamper With Public Record/informatio…",
      "application/vnd.jupyter.widget-view+json": {
       "version_major": 2,
       "version_minor": 0,
       "model_id": "4e1956481ea043f8856b662ee887d985"
      }
     },
     "metadata": {},
     "output_type": "display_data"
    },
    {
     "data": {
      "text/plain": "Checkbox(value=False, description='Interference W/Custody Of Children')",
      "application/vnd.jupyter.widget-view+json": {
       "version_major": 2,
       "version_minor": 0,
       "model_id": "2ec9a2b05c144deda559def370e3a810"
      }
     },
     "metadata": {},
     "output_type": "display_data"
    },
    {
     "data": {
      "text/plain": "Checkbox(value=False, description='Murder Of The Third Degree')",
      "application/vnd.jupyter.widget-view+json": {
       "version_major": 2,
       "version_minor": 0,
       "model_id": "c840432c835d488aabcd988ae32188d3"
      }
     },
     "metadata": {},
     "output_type": "display_data"
    },
    {
     "data": {
      "text/plain": "Checkbox(value=False, description='Criminal Attempt - Causing Catastrophe')",
      "application/vnd.jupyter.widget-view+json": {
       "version_major": 2,
       "version_minor": 0,
       "model_id": "69e8aa42fcf44819a18a8819a0e2f33e"
      }
     },
     "metadata": {},
     "output_type": "display_data"
    },
    {
     "data": {
      "text/plain": "Checkbox(value=False, description='Display Obscene/Sexual Materials')",
      "application/vnd.jupyter.widget-view+json": {
       "version_major": 2,
       "version_minor": 0,
       "model_id": "86403d3891ba4aea9829567181d7df81"
      }
     },
     "metadata": {},
     "output_type": "display_data"
    },
    {
     "data": {
      "text/plain": "Checkbox(value=False, description='Duties At Stop Sign Period For Requiring Lighted Lamps')",
      "application/vnd.jupyter.widget-view+json": {
       "version_major": 2,
       "version_minor": 0,
       "model_id": "2bd4b5e82c2a4e3086dcadfcb58039e3"
      }
     },
     "metadata": {},
     "output_type": "display_data"
    },
    {
     "data": {
      "text/plain": "Checkbox(value=False, description='Timur Filed By Magistrate ATTORNEY INFORMATION ENTRIES')",
      "application/vnd.jupyter.widget-view+json": {
       "version_major": 2,
       "version_minor": 0,
       "model_id": "b34102fd2b2746b0afd7c7979f54c8c7"
      }
     },
     "metadata": {},
     "output_type": "display_data"
    },
    {
     "data": {
      "text/plain": "Checkbox(value=False, description='Unentitled Reimbursement')",
      "application/vnd.jupyter.widget-view+json": {
       "version_major": 2,
       "version_minor": 0,
       "model_id": "344a33d6b557407c8cfc9fc6c9c9bd63"
      }
     },
     "metadata": {},
     "output_type": "display_data"
    },
    {
     "data": {
      "text/plain": "Checkbox(value=False, description='PA 19107 Representing: THORNE')",
      "application/vnd.jupyter.widget-view+json": {
       "version_major": 2,
       "version_minor": 0,
       "model_id": "32966fb9ec9146b484ed62bf193a29ba"
      }
     },
     "metadata": {},
     "output_type": "display_data"
    },
    {
     "data": {
      "text/plain": "Checkbox(value=False, description='Giving Firearms Prohibited')",
      "application/vnd.jupyter.widget-view+json": {
       "version_major": 2,
       "version_minor": 0,
       "model_id": "4e767b717e8d4560968edfb9d550c0a8"
      }
     },
     "metadata": {},
     "output_type": "display_data"
    },
    {
     "data": {
      "text/plain": "Checkbox(value=False, description='Endangering Welfare of Children - Parent/Guardian/Other Commits Offense')",
      "application/vnd.jupyter.widget-view+json": {
       "version_major": 2,
       "version_minor": 0,
       "model_id": "701a5a7bf0fb44f8bf857664ea0d7d90"
      }
     },
     "metadata": {},
     "output_type": "display_data"
    },
    {
     "data": {
      "text/plain": "Checkbox(value=False, description='Unlawful Contact With Minor - Sexual Offenses')",
      "application/vnd.jupyter.widget-view+json": {
       "version_major": 2,
       "version_minor": 0,
       "model_id": "e25e0a43c1b1419f8b6d19536b6fd723"
      }
     },
     "metadata": {},
     "output_type": "display_data"
    },
    {
     "data": {
      "text/plain": "Checkbox(value=False, description='Driving at Safe Speed Restrictions on Alcoholic Beverages Disposition Date …",
      "application/vnd.jupyter.widget-view+json": {
       "version_major": 2,
       "version_minor": 0,
       "model_id": "5e93ed6c69a0447cb3e945efa87ce677"
      }
     },
     "metadata": {},
     "output_type": "display_data"
    },
    {
     "data": {
      "text/plain": "Checkbox(value=False, description='Criminal Solicitation - Patronizing Prostitutes')",
      "application/vnd.jupyter.widget-view+json": {
       "version_major": 2,
       "version_minor": 0,
       "model_id": "9d884be8c86d464f9412a61270630ee7"
      }
     },
     "metadata": {},
     "output_type": "display_data"
    },
    {
     "data": {
      "text/plain": "Checkbox(value=False, description='Conspiracy - Manufacture')",
      "application/vnd.jupyter.widget-view+json": {
       "version_major": 2,
       "version_minor": 0,
       "model_id": "39060036a41f400a9208732246c2f6f7"
      }
     },
     "metadata": {},
     "output_type": "display_data"
    },
    {
     "data": {
      "text/plain": "Checkbox(value=False, description='Recklessly Endangering Another Person Disorderly Conduct Engage In Fighting…",
      "application/vnd.jupyter.widget-view+json": {
       "version_major": 2,
       "version_minor": 0,
       "model_id": "c2a224e1c10a4908b4e2d34b760d9566"
      }
     },
     "metadata": {},
     "output_type": "display_data"
    },
    {
     "data": {
      "text/plain": "Checkbox(value=False, description='Poss Instrument Of Crime W/Int Obstruct Admin Law/Other Govt Func Recklessl…",
      "application/vnd.jupyter.widget-view+json": {
       "version_major": 2,
       "version_minor": 0,
       "model_id": "d258faa8f99047bf80312bb63d3cd363"
      }
     },
     "metadata": {},
     "output_type": "display_data"
    },
    {
     "data": {
      "text/plain": "Checkbox(value=False, description='Int Poss Contr Subst By Per Not Reg Carry Firearms Public In Phila Poss Ins…",
      "application/vnd.jupyter.widget-view+json": {
       "version_major": 2,
       "version_minor": 0,
       "model_id": "86e17f07a3874d499ef930bca21eed7e"
      }
     },
     "metadata": {},
     "output_type": "display_data"
    },
    {
     "data": {
      "text/plain": "Checkbox(value=False, description='Alcoholic Beverages')",
      "application/vnd.jupyter.widget-view+json": {
       "version_major": 2,
       "version_minor": 0,
       "model_id": "8028a1922f6546b18636b2f4448bc73e"
      }
     },
     "metadata": {},
     "output_type": "display_data"
    },
    {
     "data": {
      "text/plain": "Checkbox(value=False, description='Aggravated Assault - Attempts to cause or causes SBI to designated individu…",
      "application/vnd.jupyter.widget-view+json": {
       "version_major": 2,
       "version_minor": 0,
       "model_id": "435bceb4021749b6bd3173c1f2032ca7"
      }
     },
     "metadata": {},
     "output_type": "display_data"
    },
    {
     "data": {
      "text/plain": "Checkbox(value=False, description='Follow Too Closely Unknown Statute Careless Driving No Headlights Turning M…",
      "application/vnd.jupyter.widget-view+json": {
       "version_major": 2,
       "version_minor": 0,
       "model_id": "2497a7920dee436eb7407a8b84db76e6"
      }
     },
     "metadata": {},
     "output_type": "display_data"
    },
    {
     "data": {
      "text/plain": "Checkbox(value=False, description='Purch Etc Alcoh Bev By A Minor')",
      "application/vnd.jupyter.widget-view+json": {
       "version_major": 2,
       "version_minor": 0,
       "model_id": "3c5757d69a8b45908a3683c749503db9"
      }
     },
     "metadata": {},
     "output_type": "display_data"
    },
    {
     "data": {
      "text/plain": "Checkbox(value=False, description='Obstruct Admin Law/Other Govt Func Tamper With/Fabricate Physical Evidence …",
      "application/vnd.jupyter.widget-view+json": {
       "version_major": 2,
       "version_minor": 0,
       "model_id": "b4a3c58bda0845829bf1ad53307413bc"
      }
     },
     "metadata": {},
     "output_type": "display_data"
    },
    {
     "data": {
      "text/plain": "Checkbox(value=False, description='Zahmir Filed By Magistrate ATTORNEY INFORMATION ENTRIES')",
      "application/vnd.jupyter.widget-view+json": {
       "version_major": 2,
       "version_minor": 0,
       "model_id": "5c907ef8de2448cba010f0f0e5a53281"
      }
     },
     "metadata": {},
     "output_type": "display_data"
    },
    {
     "data": {
      "text/plain": "Checkbox(value=False, description='Neglect Of Care-Dependent Person')",
      "application/vnd.jupyter.widget-view+json": {
       "version_major": 2,
       "version_minor": 0,
       "model_id": "9347dbd185b94809abf373c90db53aa8"
      }
     },
     "metadata": {},
     "output_type": "display_data"
    },
    {
     "data": {
      "text/plain": "Checkbox(value=False, description='Invasion of Privacy - view')",
      "application/vnd.jupyter.widget-view+json": {
       "version_major": 2,
       "version_minor": 0,
       "model_id": "86b05aca11524041b872b4f94a3e9a6c"
      }
     },
     "metadata": {},
     "output_type": "display_data"
    },
    {
     "data": {
      "text/plain": "Checkbox(value=False, description='Purc/Rec Of Cont Substby Unauth Per')",
      "application/vnd.jupyter.widget-view+json": {
       "version_major": 2,
       "version_minor": 0,
       "model_id": "74cbc3c9e2974c069d81d0277883ee98"
      }
     },
     "metadata": {},
     "output_type": "display_data"
    },
    {
     "data": {
      "text/plain": "Checkbox(value=False, description='Fail To Yield Right Of Way')",
      "application/vnd.jupyter.widget-view+json": {
       "version_major": 2,
       "version_minor": 0,
       "model_id": "5d391bd8ff02415ea98a863362883b2c"
      }
     },
     "metadata": {},
     "output_type": "display_data"
    },
    {
     "data": {
      "text/plain": "Checkbox(value=False, description='Michael ATTORNEY INFORMATION ENTRIES')",
      "application/vnd.jupyter.widget-view+json": {
       "version_major": 2,
       "version_minor": 0,
       "model_id": "600c441f75214950b965d459ad1bf987"
      }
     },
     "metadata": {},
     "output_type": "display_data"
    },
    {
     "data": {
      "text/plain": "Checkbox(value=False, description='Criminal Mischief')",
      "application/vnd.jupyter.widget-view+json": {
       "version_major": 2,
       "version_minor": 0,
       "model_id": "6732e1a8792d48c78a624385b504439a"
      }
     },
     "metadata": {},
     "output_type": "display_data"
    },
    {
     "data": {
      "text/plain": "Checkbox(value=False, description='Alter/Obliterate Mark Of Identification')",
      "application/vnd.jupyter.widget-view+json": {
       "version_major": 2,
       "version_minor": 0,
       "model_id": "c766de6922ce48f89a83e2bef9828568"
      }
     },
     "metadata": {},
     "output_type": "display_data"
    },
    {
     "data": {
      "text/plain": "Checkbox(value=False, description='Identity Theft Identity Theft Identity Theft Identity Theft Identity Theft …",
      "application/vnd.jupyter.widget-view+json": {
       "version_major": 2,
       "version_minor": 0,
       "model_id": "f1a67a00c89c40a3be9eba1b6edf1167"
      }
     },
     "metadata": {},
     "output_type": "display_data"
    },
    {
     "data": {
      "text/plain": "Checkbox(value=False, description='Make Sell Etc W/Int To Defraud')",
      "application/vnd.jupyter.widget-view+json": {
       "version_major": 2,
       "version_minor": 0,
       "model_id": "7a1f3edd4ede40738091cbae4bfeba16"
      }
     },
     "metadata": {},
     "output_type": "display_data"
    },
    {
     "data": {
      "text/plain": "Checkbox(value=False, description='Simple Assault Recklessly Endangering Another Person Disposition Date Offen…",
      "application/vnd.jupyter.widget-view+json": {
       "version_major": 2,
       "version_minor": 0,
       "model_id": "787a6948937149129b723ed9b0c1c20f"
      }
     },
     "metadata": {},
     "output_type": "display_data"
    },
    {
     "data": {
      "text/plain": "Checkbox(value=False, description='Simple Assault Recklessly Endangering Another Person Disposition Date Offen…",
      "application/vnd.jupyter.widget-view+json": {
       "version_major": 2,
       "version_minor": 0,
       "model_id": "1da545a2cc6d421bbce3db4ed63c907b"
      }
     },
     "metadata": {},
     "output_type": "display_data"
    },
    {
     "data": {
      "text/plain": "Checkbox(value=False, description='Harassment - Comm. Lewd')",
      "application/vnd.jupyter.widget-view+json": {
       "version_major": 2,
       "version_minor": 0,
       "model_id": "0890153ac8004ec3aa6edcd14c649e08"
      }
     },
     "metadata": {},
     "output_type": "display_data"
    },
    {
     "data": {
      "text/plain": "Checkbox(value=False, description='Robbery - demand money from financial institution')",
      "application/vnd.jupyter.widget-view+json": {
       "version_major": 2,
       "version_minor": 0,
       "model_id": "277c73d5a06d4eaaa655f85a9d0a0639"
      }
     },
     "metadata": {},
     "output_type": "display_data"
    },
    {
     "data": {
      "text/plain": "Checkbox(value=False, description='Criminal Attempt - DUI: Gen Imp/Inc of Driving Safely - 1st Off')",
      "application/vnd.jupyter.widget-view+json": {
       "version_major": 2,
       "version_minor": 0,
       "model_id": "e6d2bb4b1092400093fcae545612a94e"
      }
     },
     "metadata": {},
     "output_type": "display_data"
    },
    {
     "data": {
      "text/plain": "Checkbox(value=False, description='Criminal Attempt - Burglary - Overnight Accommodations; Person Present')",
      "application/vnd.jupyter.widget-view+json": {
       "version_major": 2,
       "version_minor": 0,
       "model_id": "0d9a6f9ceb8142bf82ce508b92aa579d"
      }
     },
     "metadata": {},
     "output_type": "display_data"
    },
    {
     "data": {
      "text/plain": "Checkbox(value=False, description='Simple Assault - Grading')",
      "application/vnd.jupyter.widget-view+json": {
       "version_major": 2,
       "version_minor": 0,
       "model_id": "0bba1e6253aa4dd1a1326d4ce880c5cd"
      }
     },
     "metadata": {},
     "output_type": "display_data"
    },
    {
     "data": {
      "text/plain": "Checkbox(value=False, description='Aggravated Assault - Attempts to cause SBI or causes injury with extreme in…",
      "application/vnd.jupyter.widget-view+json": {
       "version_major": 2,
       "version_minor": 0,
       "model_id": "5c89409472224989a8ca75f013bf1fb9"
      }
     },
     "metadata": {},
     "output_type": "display_data"
    },
    {
     "data": {
      "text/plain": "Checkbox(value=False, description='PA 19102 Filed By Stack')",
      "application/vnd.jupyter.widget-view+json": {
       "version_major": 2,
       "version_minor": 0,
       "model_id": "4f3df1394ef84baaba8102d5b46d6aa7"
      }
     },
     "metadata": {},
     "output_type": "display_data"
    },
    {
     "data": {
      "text/plain": "Checkbox(value=False, description='Criminal Mischief Harassment - Subject Other to Physical Contact Dispositio…",
      "application/vnd.jupyter.widget-view+json": {
       "version_major": 2,
       "version_minor": 0,
       "model_id": "afcc9ef5f1384059b128dc87cf28cb58"
      }
     },
     "metadata": {},
     "output_type": "display_data"
    },
    {
     "data": {
      "text/plain": "Checkbox(value=False, description='Criminal Mischief Simple Assault Recklessly Endangering Another Person Disp…",
      "application/vnd.jupyter.widget-view+json": {
       "version_major": 2,
       "version_minor": 0,
       "model_id": "eabd5261370e41c4921e78c34432ede5"
      }
     },
     "metadata": {},
     "output_type": "display_data"
    },
    {
     "data": {
      "text/plain": "Checkbox(value=False, description='Receiving Stolen Property Simple Assault Recklessly Endangering Another Per…",
      "application/vnd.jupyter.widget-view+json": {
       "version_major": 2,
       "version_minor": 0,
       "model_id": "620379594d374feda50da26987af5321"
      }
     },
     "metadata": {},
     "output_type": "display_data"
    },
    {
     "data": {
      "text/plain": "Checkbox(value=False, description='Terroristic Threats W/ Int To Terrorize Another Harassment - Comm. Lewd')",
      "application/vnd.jupyter.widget-view+json": {
       "version_major": 2,
       "version_minor": 0,
       "model_id": "8e7dd5def9044e819d206702db4cc5c4"
      }
     },
     "metadata": {},
     "output_type": "display_data"
    },
    {
     "data": {
      "text/plain": "Checkbox(value=False, description='Disregard Traffic Lane (Single)')",
      "application/vnd.jupyter.widget-view+json": {
       "version_major": 2,
       "version_minor": 0,
       "model_id": "518b9aac6893450da655aa481c56b81b"
      }
     },
     "metadata": {},
     "output_type": "display_data"
    },
    {
     "data": {
      "text/plain": "Checkbox(value=False, description='Theft By Unlaw Taking-Movable Prop Receiving Stolen Property Simple Assault…",
      "application/vnd.jupyter.widget-view+json": {
       "version_major": 2,
       "version_minor": 0,
       "model_id": "7120906e66b44ba985462692aa5e3dc3"
      }
     },
     "metadata": {},
     "output_type": "display_data"
    },
    {
     "data": {
      "text/plain": "Checkbox(value=False, description='No Person Present')",
      "application/vnd.jupyter.widget-view+json": {
       "version_major": 2,
       "version_minor": 0,
       "model_id": "d14c31b206d842bb8f287e96cf608b36"
      }
     },
     "metadata": {},
     "output_type": "display_data"
    },
    {
     "data": {
      "text/plain": "Checkbox(value=False, description='Dr Unregist Veh')",
      "application/vnd.jupyter.widget-view+json": {
       "version_major": 2,
       "version_minor": 0,
       "model_id": "b52e902eb7f6498594d5626f8bf0725f"
      }
     },
     "metadata": {},
     "output_type": "display_data"
    },
    {
     "data": {
      "text/plain": "Checkbox(value=False, description='Simple Assault Recklessly Endangering Another Person Disposition Date Offen…",
      "application/vnd.jupyter.widget-view+json": {
       "version_major": 2,
       "version_minor": 0,
       "model_id": "58050c7a6ac54b10a40313a868182b50"
      }
     },
     "metadata": {},
     "output_type": "display_data"
    },
    {
     "data": {
      "text/plain": "Checkbox(value=False, description='Theft By Fail To Make Req Disp Funds')",
      "application/vnd.jupyter.widget-view+json": {
       "version_major": 2,
       "version_minor": 0,
       "model_id": "6f366886fbb2473083901630ee93bc80"
      }
     },
     "metadata": {},
     "output_type": "display_data"
    },
    {
     "data": {
      "text/plain": "Checkbox(value=False, description='Unlawful Dissemination of Intimate Image')",
      "application/vnd.jupyter.widget-view+json": {
       "version_major": 2,
       "version_minor": 0,
       "model_id": "074c51029e0e418b88bf4b57b5d67334"
      }
     },
     "metadata": {},
     "output_type": "display_data"
    },
    {
     "data": {
      "text/plain": "Checkbox(value=False, description='Illegal Racing')",
      "application/vnd.jupyter.widget-view+json": {
       "version_major": 2,
       "version_minor": 0,
       "model_id": "3c21f7b45b854ff19650d5592e30f458"
      }
     },
     "metadata": {},
     "output_type": "display_data"
    },
    {
     "data": {
      "text/plain": "Checkbox(value=False, description='Criminal Attempt - Kidnapping For Ransom')",
      "application/vnd.jupyter.widget-view+json": {
       "version_major": 2,
       "version_minor": 0,
       "model_id": "716c48cf24aa4307875014eafd48cb70"
      }
     },
     "metadata": {},
     "output_type": "display_data"
    },
    {
     "data": {
      "text/plain": "Checkbox(value=False, description='Deliver Firearm After 48 Hours Elapsed')",
      "application/vnd.jupyter.widget-view+json": {
       "version_major": 2,
       "version_minor": 0,
       "model_id": "f63141ec96224b1c91695ef20cd2ff74"
      }
     },
     "metadata": {},
     "output_type": "display_data"
    },
    {
     "data": {
      "text/plain": "Checkbox(value=False, description='Simple Assault Recklessly Endangering Another Person Criminal Mischief Inca…",
      "application/vnd.jupyter.widget-view+json": {
       "version_major": 2,
       "version_minor": 0,
       "model_id": "b5246bcebb1f44aba02a1d3f778af64c"
      }
     },
     "metadata": {},
     "output_type": "display_data"
    },
    {
     "data": {
      "text/plain": "Checkbox(value=False, description='False Imprisonment')",
      "application/vnd.jupyter.widget-view+json": {
       "version_major": 2,
       "version_minor": 0,
       "model_id": "4d96bb07821644b580a3c0063c7bae4a"
      }
     },
     "metadata": {},
     "output_type": "display_data"
    },
    {
     "data": {
      "text/plain": "Checkbox(value=False, description='Terroristic Threats W/ Int To Terrorize Another Simple Assault Recklessly E…",
      "application/vnd.jupyter.widget-view+json": {
       "version_major": 2,
       "version_minor": 0,
       "model_id": "bec6203322304498b0a9384483e0082b"
      }
     },
     "metadata": {},
     "output_type": "display_data"
    },
    {
     "data": {
      "text/plain": "Checkbox(value=False, description='Int Poss Contr Subst By Per Not Reg')",
      "application/vnd.jupyter.widget-view+json": {
       "version_major": 2,
       "version_minor": 0,
       "model_id": "75ea5c7696584988a314342676c1da18"
      }
     },
     "metadata": {},
     "output_type": "display_data"
    },
    {
     "data": {
      "text/plain": "Checkbox(value=False, description='Poss Instrument Of Crime W/Int Unauth Use Motor/Other Vehicles')",
      "application/vnd.jupyter.widget-view+json": {
       "version_major": 2,
       "version_minor": 0,
       "model_id": "0066017b7fd042c7985c5d349d40ad5b"
      }
     },
     "metadata": {},
     "output_type": "display_data"
    },
    {
     "data": {
      "text/plain": "Checkbox(value=False, description='Fail to Provide Accurate Registration Info')",
      "application/vnd.jupyter.widget-view+json": {
       "version_major": 2,
       "version_minor": 0,
       "model_id": "a9fc905b15f244cca943470e5ae8dc7f"
      }
     },
     "metadata": {},
     "output_type": "display_data"
    },
    {
     "data": {
      "text/plain": "Checkbox(value=False, description='Statutory Sexual Assault: 11 Years Older')",
      "application/vnd.jupyter.widget-view+json": {
       "version_major": 2,
       "version_minor": 0,
       "model_id": "10918b025d634850b4cf00b736fd60fd"
      }
     },
     "metadata": {},
     "output_type": "display_data"
    },
    {
     "data": {
      "text/plain": "Checkbox(value=False, description='Aggravated Assault')",
      "application/vnd.jupyter.widget-view+json": {
       "version_major": 2,
       "version_minor": 0,
       "model_id": "b7f78b3ca43643a29830d8522e7d4d5e"
      }
     },
     "metadata": {},
     "output_type": "display_data"
    },
    {
     "data": {
      "text/plain": "Checkbox(value=False, description='Obstruct Admin Law/Other Govt Func Recklessly Endangering Another Person Ta…",
      "application/vnd.jupyter.widget-view+json": {
       "version_major": 2,
       "version_minor": 0,
       "model_id": "88b2a7c0cb444753b6a6ee72c1ee8389"
      }
     },
     "metadata": {},
     "output_type": "display_data"
    },
    {
     "data": {
      "text/plain": "Checkbox(value=False, description='Intim Wit/Vit - Refrain From Report')",
      "application/vnd.jupyter.widget-view+json": {
       "version_major": 2,
       "version_minor": 0,
       "model_id": "d7ab3357ac99447a9937359871a99056"
      }
     },
     "metadata": {},
     "output_type": "display_data"
    },
    {
     "data": {
      "text/plain": "Checkbox(value=False, description='Publish False or Deceptive Advertisement')",
      "application/vnd.jupyter.widget-view+json": {
       "version_major": 2,
       "version_minor": 0,
       "model_id": "07053eeea07a41d4a1047b725c670d7d"
      }
     },
     "metadata": {},
     "output_type": "display_data"
    },
    {
     "data": {
      "text/plain": "Checkbox(value=False, description='Violation Of Use Of Certif Of Inspection')",
      "application/vnd.jupyter.widget-view+json": {
       "version_major": 2,
       "version_minor": 0,
       "model_id": "29e65df698174e5e8391a8c48104779c"
      }
     },
     "metadata": {},
     "output_type": "display_data"
    },
    {
     "data": {
      "text/plain": "Checkbox(value=False, description='Ind Asslt Person Less 13 Yrs Age')",
      "application/vnd.jupyter.widget-view+json": {
       "version_major": 2,
       "version_minor": 0,
       "model_id": "9fb1acf4071d4bb6a7882a1dfc80a6d9"
      }
     },
     "metadata": {},
     "output_type": "display_data"
    },
    {
     "data": {
      "text/plain": "Checkbox(value=False, description='Christa Filed By Stack')",
      "application/vnd.jupyter.widget-view+json": {
       "version_major": 2,
       "version_minor": 0,
       "model_id": "0bc26e3f65104a8d80db79d0dfe72643"
      }
     },
     "metadata": {},
     "output_type": "display_data"
    },
    {
     "data": {
      "text/plain": "Checkbox(value=False, description='Corruption Of Minors Agg. Ind. Assault W/O Consent')",
      "application/vnd.jupyter.widget-view+json": {
       "version_major": 2,
       "version_minor": 0,
       "model_id": "1eedb5897c2d47de9734803013bc3b90"
      }
     },
     "metadata": {},
     "output_type": "display_data"
    },
    {
     "data": {
      "text/plain": "Checkbox(value=False, description='Turning Movements And Required Signals Too Slow For Conditions Careless Dri…",
      "application/vnd.jupyter.widget-view+json": {
       "version_major": 2,
       "version_minor": 0,
       "model_id": "ba756384c9804dafa004ac2e042f09a9"
      }
     },
     "metadata": {},
     "output_type": "display_data"
    },
    {
     "data": {
      "text/plain": "Checkbox(value=False, description='Criminal Attempt - Robbery-Inflict Threat Imm Bod Inj')",
      "application/vnd.jupyter.widget-view+json": {
       "version_major": 2,
       "version_minor": 0,
       "model_id": "af934b227a7243adbc4803bb1404a0b9"
      }
     },
     "metadata": {},
     "output_type": "display_data"
    },
    {
     "data": {
      "text/plain": "Checkbox(value=False, description='Dec Bus Pract - Sale Less Than Quant')",
      "application/vnd.jupyter.widget-view+json": {
       "version_major": 2,
       "version_minor": 0,
       "model_id": "40db9b104aeb458780d3bc2e56a0e9e3"
      }
     },
     "metadata": {},
     "output_type": "display_data"
    },
    {
     "data": {
      "text/plain": "Checkbox(value=False, description='Criminal Attempt - Indec Asslt-W/O Cons Of Other')",
      "application/vnd.jupyter.widget-view+json": {
       "version_major": 2,
       "version_minor": 0,
       "model_id": "51253861f54248d3816c05fbc74a9b51"
      }
     },
     "metadata": {},
     "output_type": "display_data"
    },
    {
     "data": {
      "text/plain": "Checkbox(value=False, description='Agg. Ind. Assault W/O Consent')",
      "application/vnd.jupyter.widget-view+json": {
       "version_major": 2,
       "version_minor": 0,
       "model_id": "7ba665f2ba5b446aa67db9fed1d1aaff"
      }
     },
     "metadata": {},
     "output_type": "display_data"
    },
    {
     "data": {
      "text/plain": "Checkbox(value=False, description='Criminal Attempt - Arson-Danger Of Death Or Bodily Inj')",
      "application/vnd.jupyter.widget-view+json": {
       "version_major": 2,
       "version_minor": 0,
       "model_id": "a09bcf2ab8d545eaa880b728f08542de"
      }
     },
     "metadata": {},
     "output_type": "display_data"
    },
    {
     "data": {
      "text/plain": "Checkbox(value=False, description='Receiving Stolen Property Simple Assault Recklessly Endangering Another Per…",
      "application/vnd.jupyter.widget-view+json": {
       "version_major": 2,
       "version_minor": 0,
       "model_id": "5003f32ca84b4a028461d29d8ece458b"
      }
     },
     "metadata": {},
     "output_type": "display_data"
    },
    {
     "data": {
      "text/plain": "Checkbox(value=False, description='Poss Instrument Of Crime W/Int Simple Assault Recklessly Endangering Anothe…",
      "application/vnd.jupyter.widget-view+json": {
       "version_major": 2,
       "version_minor": 0,
       "model_id": "f913c8327f32472998cc3f61bb78eb59"
      }
     },
     "metadata": {},
     "output_type": "display_data"
    },
    {
     "data": {
      "text/plain": "Checkbox(value=False, description='Firearms Not To Be Carried W/O License Carry Firearms Public In Phila Theft…",
      "application/vnd.jupyter.widget-view+json": {
       "version_major": 2,
       "version_minor": 0,
       "model_id": "5190d558d46c4b32b2cd561c7d692ff9"
      }
     },
     "metadata": {},
     "output_type": "display_data"
    },
    {
     "data": {
      "text/plain": "Checkbox(value=False, description='Turning Movements And Required Signals Careless Driving')",
      "application/vnd.jupyter.widget-view+json": {
       "version_major": 2,
       "version_minor": 0,
       "model_id": "ba950748f79e4fbd8e02be69364e5db6"
      }
     },
     "metadata": {},
     "output_type": "display_data"
    },
    {
     "data": {
      "text/plain": "Checkbox(value=False, description='Crim Tres-Break Into Structure Theft By Unlaw Taking-Movable Prop Criminal …",
      "application/vnd.jupyter.widget-view+json": {
       "version_major": 2,
       "version_minor": 0,
       "model_id": "89be46b665364a9dbd8f5477d9da5ffa"
      }
     },
     "metadata": {},
     "output_type": "display_data"
    },
    {
     "data": {
      "text/plain": "Checkbox(value=False, description='U Turn Unsafely')",
      "application/vnd.jupyter.widget-view+json": {
       "version_major": 2,
       "version_minor": 0,
       "model_id": "f2f868b179254e2fbc75359f6c383b17"
      }
     },
     "metadata": {},
     "output_type": "display_data"
    },
    {
     "data": {
      "text/plain": "Checkbox(value=False, description='False Imprisonment Firearms Not To Be Carried W/O License Theft By Unlaw Ta…",
      "application/vnd.jupyter.widget-view+json": {
       "version_major": 2,
       "version_minor": 0,
       "model_id": "c3405e684857495aa8ae79bfdab61c35"
      }
     },
     "metadata": {},
     "output_type": "display_data"
    },
    {
     "data": {
      "text/plain": "Checkbox(value=False, description='Coerce/Threat To Commit Crime')",
      "application/vnd.jupyter.widget-view+json": {
       "version_major": 2,
       "version_minor": 0,
       "model_id": "96429f651d004d6992989be34926ac60"
      }
     },
     "metadata": {},
     "output_type": "display_data"
    },
    {
     "data": {
      "text/plain": "Checkbox(value=False, description='Homicide by Vehicle While DUI')",
      "application/vnd.jupyter.widget-view+json": {
       "version_major": 2,
       "version_minor": 0,
       "model_id": "18ad8949652c44efba6074529b1395e2"
      }
     },
     "metadata": {},
     "output_type": "display_data"
    },
    {
     "data": {
      "text/plain": "Checkbox(value=False, description='Simple Assault Recklessly Endangering Another Person False Imprisonment')",
      "application/vnd.jupyter.widget-view+json": {
       "version_major": 2,
       "version_minor": 0,
       "model_id": "0860acf24f294f288ef9b908ec72f68b"
      }
     },
     "metadata": {},
     "output_type": "display_data"
    },
    {
     "data": {
      "text/plain": "Checkbox(value=False, description='Conspiracy - Burglary - Not Adapted for Overnight Accommodation')",
      "application/vnd.jupyter.widget-view+json": {
       "version_major": 2,
       "version_minor": 0,
       "model_id": "a4c4cf619aac4c2eb542c5c7978e206b"
      }
     },
     "metadata": {},
     "output_type": "display_data"
    },
    {
     "data": {
      "text/plain": "Checkbox(value=False, description='Bribery - Pecuniary Benefit')",
      "application/vnd.jupyter.widget-view+json": {
       "version_major": 2,
       "version_minor": 0,
       "model_id": "55997ea371bd4e8b8237a446d6361d0d"
      }
     },
     "metadata": {},
     "output_type": "display_data"
    },
    {
     "data": {
      "text/plain": "Checkbox(value=False, description='Ill Operate Vehicle W/Out Ignition Interlock')",
      "application/vnd.jupyter.widget-view+json": {
       "version_major": 2,
       "version_minor": 0,
       "model_id": "3d099afcbee3429db1bf4340c10c0046"
      }
     },
     "metadata": {},
     "output_type": "display_data"
    },
    {
     "data": {
      "text/plain": "Checkbox(value=False, description='Receiving Stolen Property Simple Assault Incarceration/Diversionary Period …",
      "application/vnd.jupyter.widget-view+json": {
       "version_major": 2,
       "version_minor": 0,
       "model_id": "2660f82bc6c14ef5936882f067b5e504"
      }
     },
     "metadata": {},
     "output_type": "display_data"
    },
    {
     "data": {
      "text/plain": "Checkbox(value=False, description='Accident Involv Damage Attended Vehicle/Prop Accident Involv Damage Attende…",
      "application/vnd.jupyter.widget-view+json": {
       "version_major": 2,
       "version_minor": 0,
       "model_id": "aff4581ae29a4e1d9b2c26abd0abec4b"
      }
     },
     "metadata": {},
     "output_type": "display_data"
    },
    {
     "data": {
      "text/plain": "Checkbox(value=False, description='Careless Driving')",
      "application/vnd.jupyter.widget-view+json": {
       "version_major": 2,
       "version_minor": 0,
       "model_id": "a7fde334583c4f608b5a0d1b5fa584a2"
      }
     },
     "metadata": {},
     "output_type": "display_data"
    },
    {
     "data": {
      "text/plain": "Checkbox(value=False, description='Statutory Sexual Assault: 8-11 Years Older')",
      "application/vnd.jupyter.widget-view+json": {
       "version_major": 2,
       "version_minor": 0,
       "model_id": "8375e0db03b848a499ab54ed725af561"
      }
     },
     "metadata": {},
     "output_type": "display_data"
    },
    {
     "data": {
      "text/plain": "Checkbox(value=False, description='Resist Arrest/Other Law Enforce Criminal Mischief')",
      "application/vnd.jupyter.widget-view+json": {
       "version_major": 2,
       "version_minor": 0,
       "model_id": "fa5a833c87834f618b94937e232010ac"
      }
     },
     "metadata": {},
     "output_type": "display_data"
    },
    {
     "data": {
      "text/plain": "Checkbox(value=False, description='Terroristic Threats W/ Int To Terrorize Another Recklessly Endangering Anot…",
      "application/vnd.jupyter.widget-view+json": {
       "version_major": 2,
       "version_minor": 0,
       "model_id": "788e10112a7c4ba898020eea6becc32e"
      }
     },
     "metadata": {},
     "output_type": "display_data"
    },
    {
     "data": {
      "text/plain": "Checkbox(value=False, description='Drive Over Divider')",
      "application/vnd.jupyter.widget-view+json": {
       "version_major": 2,
       "version_minor": 0,
       "model_id": "ff65abeeda294776b1ec50e2cf2805a4"
      }
     },
     "metadata": {},
     "output_type": "display_data"
    },
    {
     "data": {
      "text/plain": "Checkbox(value=False, description='Failure to Yield to Emergency Vehicle')",
      "application/vnd.jupyter.widget-view+json": {
       "version_major": 2,
       "version_minor": 0,
       "model_id": "80a0609c1196400b88667a2411f35cef"
      }
     },
     "metadata": {},
     "output_type": "display_data"
    },
    {
     "data": {
      "text/plain": "Checkbox(value=False, description='Rape of Child')",
      "application/vnd.jupyter.widget-view+json": {
       "version_major": 2,
       "version_minor": 0,
       "model_id": "823bfbaa124443ad8a4e781b3c989a6e"
      }
     },
     "metadata": {},
     "output_type": "display_data"
    },
    {
     "data": {
      "text/plain": "Checkbox(value=False, description='Identity Theft Identity Theft Identity Theft Identity Theft Identity Theft …",
      "application/vnd.jupyter.widget-view+json": {
       "version_major": 2,
       "version_minor": 0,
       "model_id": "fce22e1c2982438eb2a30336a5125756"
      }
     },
     "metadata": {},
     "output_type": "display_data"
    },
    {
     "data": {
      "text/plain": "Checkbox(value=False, description='PA 19063 Representing: TAYLOR')",
      "application/vnd.jupyter.widget-view+json": {
       "version_major": 2,
       "version_minor": 0,
       "model_id": "eed7e52d4b1d43feafe8bda486075e39"
      }
     },
     "metadata": {},
     "output_type": "display_data"
    },
    {
     "data": {
      "text/plain": "Checkbox(value=False, description='Restraint Systems - Child Booster Seat')",
      "application/vnd.jupyter.widget-view+json": {
       "version_major": 2,
       "version_minor": 0,
       "model_id": "8b98422825fe4b41af653c08e13ea632"
      }
     },
     "metadata": {},
     "output_type": "display_data"
    },
    {
     "data": {
      "text/plain": "Checkbox(value=False, description='Makes Any Materially False Oral Statement')",
      "application/vnd.jupyter.widget-view+json": {
       "version_major": 2,
       "version_minor": 0,
       "model_id": "7cb5ed59c989468bbfeff81feb1b328a"
      }
     },
     "metadata": {},
     "output_type": "display_data"
    },
    {
     "data": {
      "text/plain": "Checkbox(value=False, description='False Swearing - Offic Proceed')",
      "application/vnd.jupyter.widget-view+json": {
       "version_major": 2,
       "version_minor": 0,
       "model_id": "1af19e76558643a4b6df8d95f36dcd9c"
      }
     },
     "metadata": {},
     "output_type": "display_data"
    },
    {
     "data": {
      "text/plain": "Checkbox(value=False, description='Criminal Attempt - Theft By Decep-False Impression')",
      "application/vnd.jupyter.widget-view+json": {
       "version_major": 2,
       "version_minor": 0,
       "model_id": "7694e71e9fea4e198e8b0758e1a1c720"
      }
     },
     "metadata": {},
     "output_type": "display_data"
    },
    {
     "data": {
      "text/plain": "Checkbox(value=False, description='Identity Theft Identity Theft Identity Theft Identity Theft Identity Theft …",
      "application/vnd.jupyter.widget-view+json": {
       "version_major": 2,
       "version_minor": 0,
       "model_id": "74458998fdac48f4ae6c674609703efa"
      }
     },
     "metadata": {},
     "output_type": "display_data"
    },
    {
     "data": {
      "text/plain": "Checkbox(value=False, description='Recklessly Endangering Another Person Tamper With/Fabricate Physical Eviden…",
      "application/vnd.jupyter.widget-view+json": {
       "version_major": 2,
       "version_minor": 0,
       "model_id": "de5fc7e7e8874cca95a4b324cf42b220"
      }
     },
     "metadata": {},
     "output_type": "display_data"
    },
    {
     "data": {
      "text/plain": "Checkbox(value=False, description='Disorder Conduct Hazardous/Physi Off')",
      "application/vnd.jupyter.widget-view+json": {
       "version_major": 2,
       "version_minor": 0,
       "model_id": "2e2a0f064e4e4534a9819c98a16d81d7"
      }
     },
     "metadata": {},
     "output_type": "display_data"
    },
    {
     "data": {
      "text/plain": "Checkbox(value=False, description='Identity Theft Identity Theft Identity Theft Identity Theft Identity Theft …",
      "application/vnd.jupyter.widget-view+json": {
       "version_major": 2,
       "version_minor": 0,
       "model_id": "5a913d19ec4046b2954204bcd2c112f5"
      }
     },
     "metadata": {},
     "output_type": "display_data"
    },
    {
     "data": {
      "text/plain": "Checkbox(value=False, description='Cruelty to Animals')",
      "application/vnd.jupyter.widget-view+json": {
       "version_major": 2,
       "version_minor": 0,
       "model_id": "326327ff27c540f68e81943fa3bfb878"
      }
     },
     "metadata": {},
     "output_type": "display_data"
    },
    {
     "data": {
      "text/plain": "Checkbox(value=False, description='Int Poss Contr Subst By Per Not Reg Carry Firearms Public In Phila Incarcer…",
      "application/vnd.jupyter.widget-view+json": {
       "version_major": 2,
       "version_minor": 0,
       "model_id": "df587762066a45b2a59ed54360147018"
      }
     },
     "metadata": {},
     "output_type": "display_data"
    },
    {
     "data": {
      "text/plain": "Checkbox(value=False, description='Fail to Verify Address/Be Photographed')",
      "application/vnd.jupyter.widget-view+json": {
       "version_major": 2,
       "version_minor": 0,
       "model_id": "b70897a1556c48f6b3a7401cc0df4f36"
      }
     },
     "metadata": {},
     "output_type": "display_data"
    },
    {
     "data": {
      "text/plain": "Checkbox(value=False, description='\"Submit Claim Serv Not Rendd By Prov\"')",
      "application/vnd.jupyter.widget-view+json": {
       "version_major": 2,
       "version_minor": 0,
       "model_id": "4e1eabaacbe245a4bc87fe3913a6cbf1"
      }
     },
     "metadata": {},
     "output_type": "display_data"
    },
    {
     "data": {
      "text/plain": "Checkbox(value=False, description='Criminal Mischief Theft By Unlaw Taking-Movable Prop Receiving Stolen Prope…",
      "application/vnd.jupyter.widget-view+json": {
       "version_major": 2,
       "version_minor": 0,
       "model_id": "6309b2eb639a46b8ad31893b419a0322"
      }
     },
     "metadata": {},
     "output_type": "display_data"
    },
    {
     "data": {
      "text/plain": "Checkbox(value=False, description='Fleeing or Attempting to Elude Officer Poss Instrument Of Crime W/Int Simpl…",
      "application/vnd.jupyter.widget-view+json": {
       "version_major": 2,
       "version_minor": 0,
       "model_id": "a88ae57cd35d4634aa29cef828d5bcba"
      }
     },
     "metadata": {},
     "output_type": "display_data"
    },
    {
     "data": {
      "text/plain": "Checkbox(value=False, description='Assault of Law Enforcement Officer')",
      "application/vnd.jupyter.widget-view+json": {
       "version_major": 2,
       "version_minor": 0,
       "model_id": "0f051b1eace74bef810964d666b93c1a"
      }
     },
     "metadata": {},
     "output_type": "display_data"
    },
    {
     "data": {
      "text/plain": "Checkbox(value=False, description='Other Reason Access Device Is Unauth By Issuer')",
      "application/vnd.jupyter.widget-view+json": {
       "version_major": 2,
       "version_minor": 0,
       "model_id": "640f72bcd5944449ae915f4a0aa57721"
      }
     },
     "metadata": {},
     "output_type": "display_data"
    },
    {
     "data": {
      "text/plain": "Checkbox(value=False, description='Fraud Alter/Forg/Counter Title Reg Ins')",
      "application/vnd.jupyter.widget-view+json": {
       "version_major": 2,
       "version_minor": 0,
       "model_id": "097da698fe544fdc8a3b808bdde873dd"
      }
     },
     "metadata": {},
     "output_type": "display_data"
    },
    {
     "data": {
      "text/plain": "Checkbox(value=False, description='Recklessly Endangering Another Person Criminal Mischief Incarceration/Diver…",
      "application/vnd.jupyter.widget-view+json": {
       "version_major": 2,
       "version_minor": 0,
       "model_id": "039b10d75631482586f551bbd10a4429"
      }
     },
     "metadata": {},
     "output_type": "display_data"
    },
    {
     "data": {
      "text/plain": "Checkbox(value=False, description='No Headlights')",
      "application/vnd.jupyter.widget-view+json": {
       "version_major": 2,
       "version_minor": 0,
       "model_id": "a723b59f46184640a29d32a406873633"
      }
     },
     "metadata": {},
     "output_type": "display_data"
    },
    {
     "data": {
      "text/plain": "Checkbox(value=False, description='Period For Requiring Lighted Lamps')",
      "application/vnd.jupyter.widget-view+json": {
       "version_major": 2,
       "version_minor": 0,
       "model_id": "530c74aeeed74a24a48b2bfc571782ed"
      }
     },
     "metadata": {},
     "output_type": "display_data"
    },
    {
     "data": {
      "text/plain": "Checkbox(value=False, description='Carry Firearms Public In Phila Driv While Oper Priv Susp Or Revoked')",
      "application/vnd.jupyter.widget-view+json": {
       "version_major": 2,
       "version_minor": 0,
       "model_id": "ff919233db41465580377b2e96b49e41"
      }
     },
     "metadata": {},
     "output_type": "display_data"
    },
    {
     "data": {
      "text/plain": "Checkbox(value=False, description='Prom Pros-Inmate In House Of Prost/Business')",
      "application/vnd.jupyter.widget-view+json": {
       "version_major": 2,
       "version_minor": 0,
       "model_id": "91214bbeed504fa4b13f5724ab8fd85d"
      }
     },
     "metadata": {},
     "output_type": "display_data"
    },
    {
     "data": {
      "text/plain": "Checkbox(value=False, description='Criminal Attempt - Crim Tres-Enter Structure')",
      "application/vnd.jupyter.widget-view+json": {
       "version_major": 2,
       "version_minor": 0,
       "model_id": "019d708f73004ddf81d046619c55ace5"
      }
     },
     "metadata": {},
     "output_type": "display_data"
    },
    {
     "data": {
      "text/plain": "Checkbox(value=False, description='Malik Filed By ATTORNEY INFORMATION ENTRIES')",
      "application/vnd.jupyter.widget-view+json": {
       "version_major": 2,
       "version_minor": 0,
       "model_id": "7ebc0b1c53454830a10db572c5ca8801"
      }
     },
     "metadata": {},
     "output_type": "display_data"
    },
    {
     "data": {
      "text/plain": "Checkbox(value=False, description='Theft Unpub Drama/Music Comp')",
      "application/vnd.jupyter.widget-view+json": {
       "version_major": 2,
       "version_minor": 0,
       "model_id": "bdf824be989f4f25927a24ef16ba77e2"
      }
     },
     "metadata": {},
     "output_type": "display_data"
    },
    {
     "data": {
      "text/plain": "Checkbox(value=False, description='Deal In Proc Unl Act/Intent To Promote Corrupt Organizations Incarceration/…",
      "application/vnd.jupyter.widget-view+json": {
       "version_major": 2,
       "version_minor": 0,
       "model_id": "57881fa78bb543f0b5e47922422fc69b"
      }
     },
     "metadata": {},
     "output_type": "display_data"
    },
    {
     "data": {
      "text/plain": "Checkbox(value=False, description='Disarming Law Enforcement Officer - Without Lawful Authorization')",
      "application/vnd.jupyter.widget-view+json": {
       "version_major": 2,
       "version_minor": 0,
       "model_id": "9994219c5b8f4c309b3460ad3382565b"
      }
     },
     "metadata": {},
     "output_type": "display_data"
    },
    {
     "data": {
      "text/plain": "Checkbox(value=False, description='DUI: High Rte of Alc (Bac.10 - <.16) 1st Off')",
      "application/vnd.jupyter.widget-view+json": {
       "version_major": 2,
       "version_minor": 0,
       "model_id": "8e09c6ff5fec44c9aa58397b70a5cc54"
      }
     },
     "metadata": {},
     "output_type": "display_data"
    },
    {
     "data": {
      "text/plain": "Checkbox(value=False, description='Careless Driving Reckless Driving')",
      "application/vnd.jupyter.widget-view+json": {
       "version_major": 2,
       "version_minor": 0,
       "model_id": "79137f1523164faeac722318b699583e"
      }
     },
     "metadata": {},
     "output_type": "display_data"
    },
    {
     "data": {
      "text/plain": "Checkbox(value=False, description='Operat Veh W/O Valid Inspect')",
      "application/vnd.jupyter.widget-view+json": {
       "version_major": 2,
       "version_minor": 0,
       "model_id": "04d18f8646374584b96c4297c11b3225"
      }
     },
     "metadata": {},
     "output_type": "display_data"
    },
    {
     "data": {
      "text/plain": "Checkbox(value=False, description='Discharge Of A Firearm Into Occupied Structure')",
      "application/vnd.jupyter.widget-view+json": {
       "version_major": 2,
       "version_minor": 0,
       "model_id": "148bfcd59dc04fc4857da6726c27ae88"
      }
     },
     "metadata": {},
     "output_type": "display_data"
    },
    {
     "data": {
      "text/plain": "Checkbox(value=False, description='Patrick 06/02/2020 Proceed to Court Proceed to Court Proceed to Court Proce…",
      "application/vnd.jupyter.widget-view+json": {
       "version_major": 2,
       "version_minor": 0,
       "model_id": "e6038ac4cd174241a04867a17889f4c4"
      }
     },
     "metadata": {},
     "output_type": "display_data"
    },
    {
     "data": {
      "text/plain": "Checkbox(value=False, description='PA 19107 Representing: Velez')",
      "application/vnd.jupyter.widget-view+json": {
       "version_major": 2,
       "version_minor": 0,
       "model_id": "b3a25b508f504cff91df8802015daee9"
      }
     },
     "metadata": {},
     "output_type": "display_data"
    },
    {
     "data": {
      "text/plain": "Checkbox(value=False, description='Transient - Fail to Verify Address or be Photographed')",
      "application/vnd.jupyter.widget-view+json": {
       "version_major": 2,
       "version_minor": 0,
       "model_id": "a3c185cac60d443cbe41ade3c067d7ef"
      }
     },
     "metadata": {},
     "output_type": "display_data"
    },
    {
     "data": {
      "text/plain": "Checkbox(value=False, description='Lure Child Into Motor Vehicle')",
      "application/vnd.jupyter.widget-view+json": {
       "version_major": 2,
       "version_minor": 0,
       "model_id": "cb121ce922154c9c8221f50ea766f0a0"
      }
     },
     "metadata": {},
     "output_type": "display_data"
    },
    {
     "data": {
      "text/plain": "Checkbox(value=False, description='Firearms Not To Be Carried W/O License Int Poss Contr Subst By Per Not Reg …",
      "application/vnd.jupyter.widget-view+json": {
       "version_major": 2,
       "version_minor": 0,
       "model_id": "10e0f81db11841bdb7e8c31ba7589d6b"
      }
     },
     "metadata": {},
     "output_type": "display_data"
    },
    {
     "data": {
      "text/plain": "Checkbox(value=False, description='Receives Advance Payment For Services and Fails to Perform')",
      "application/vnd.jupyter.widget-view+json": {
       "version_major": 2,
       "version_minor": 0,
       "model_id": "1dc49927a06a41bf92be61a6f463c196"
      }
     },
     "metadata": {},
     "output_type": "display_data"
    },
    {
     "data": {
      "text/plain": "Checkbox(value=False, description='Carry Firearms Public In Phila Carrying Loaded Weapon Incarceration/Diversi…",
      "application/vnd.jupyter.widget-view+json": {
       "version_major": 2,
       "version_minor": 0,
       "model_id": "7c5c3b3dcd97432e855df7a8c1a03f40"
      }
     },
     "metadata": {},
     "output_type": "display_data"
    },
    {
     "data": {
      "text/plain": "Checkbox(value=False, description='Recklessly Endangering Another Person Criminal Mischief')",
      "application/vnd.jupyter.widget-view+json": {
       "version_major": 2,
       "version_minor": 0,
       "model_id": "4b3b2c4bafb04baaa44d5743a3eb4c15"
      }
     },
     "metadata": {},
     "output_type": "display_data"
    },
    {
     "data": {
      "text/plain": "Checkbox(value=False, description='\"Offl Oppression-Arrest Search Etc\"')",
      "application/vnd.jupyter.widget-view+json": {
       "version_major": 2,
       "version_minor": 0,
       "model_id": "9767c52a06384e218cc8d50c73ab480e"
      }
     },
     "metadata": {},
     "output_type": "display_data"
    },
    {
     "data": {
      "text/plain": "Checkbox(value=False, description='Identity Theft Identity Theft Identity Theft Identity Theft Identity Theft …",
      "application/vnd.jupyter.widget-view+json": {
       "version_major": 2,
       "version_minor": 0,
       "model_id": "520102efebb34dfca8cb88cbfe416b9a"
      }
     },
     "metadata": {},
     "output_type": "display_data"
    },
    {
     "data": {
      "text/plain": "Checkbox(value=False, description='PA 19110 Representing: Johnson')",
      "application/vnd.jupyter.widget-view+json": {
       "version_major": 2,
       "version_minor": 0,
       "model_id": "f738b9778296436daf91851fbe2584a8"
      }
     },
     "metadata": {},
     "output_type": "display_data"
    },
    {
     "data": {
      "text/plain": "Checkbox(value=False, description='Robbery-Take Property Fr Other/Force')",
      "application/vnd.jupyter.widget-view+json": {
       "version_major": 2,
       "version_minor": 0,
       "model_id": "ba581013594d4fc19e2e58e470d7145a"
      }
     },
     "metadata": {},
     "output_type": "display_data"
    },
    {
     "data": {
      "text/plain": "Checkbox(value=False, description='Robbery-Inflict Serious Bodily Injury')",
      "application/vnd.jupyter.widget-view+json": {
       "version_major": 2,
       "version_minor": 0,
       "model_id": "41b5c048821d4bdd8d719a5ea8945076"
      }
     },
     "metadata": {},
     "output_type": "display_data"
    },
    {
     "data": {
      "text/plain": "Checkbox(value=False, description='Simple Assault Recklessly Endangering Another Person Illegal Racing Reckles…",
      "application/vnd.jupyter.widget-view+json": {
       "version_major": 2,
       "version_minor": 0,
       "model_id": "53d64727530e4b32bd70c2b586348ef7"
      }
     },
     "metadata": {},
     "output_type": "display_data"
    },
    {
     "data": {
      "text/plain": "Checkbox(value=False, description='Obedience to Traffic-Control Devices')",
      "application/vnd.jupyter.widget-view+json": {
       "version_major": 2,
       "version_minor": 0,
       "model_id": "9b19d07aec42447da232c9f954856b86"
      }
     },
     "metadata": {},
     "output_type": "display_data"
    },
    {
     "data": {
      "text/plain": "Checkbox(value=False, description='Terroristic Threats W/ Int To Terrorize Another Recklessly Endangering Anot…",
      "application/vnd.jupyter.widget-view+json": {
       "version_major": 2,
       "version_minor": 0,
       "model_id": "b83b9e9c13f44f7eab25e319e7ef7582"
      }
     },
     "metadata": {},
     "output_type": "display_data"
    },
    {
     "data": {
      "text/plain": "Checkbox(value=False, description='Set Up Lottery Or Numbers Game')",
      "application/vnd.jupyter.widget-view+json": {
       "version_major": 2,
       "version_minor": 0,
       "model_id": "28551c5e437d419ea2cf527be2063c7d"
      }
     },
     "metadata": {},
     "output_type": "display_data"
    },
    {
     "data": {
      "text/plain": "Checkbox(value=False, description='Obstruction Highways')",
      "application/vnd.jupyter.widget-view+json": {
       "version_major": 2,
       "version_minor": 0,
       "model_id": "894f20f4fb1a48068bcf23d491c8e5c3"
      }
     },
     "metadata": {},
     "output_type": "display_data"
    },
    {
     "data": {
      "text/plain": "Checkbox(value=False, description='IDSI Threat Forcible Compulsion')",
      "application/vnd.jupyter.widget-view+json": {
       "version_major": 2,
       "version_minor": 0,
       "model_id": "b55477102b034e009f4cccab2d683341"
      }
     },
     "metadata": {},
     "output_type": "display_data"
    },
    {
     "data": {
      "text/plain": "Checkbox(value=False, description='Fraudulent Use/Removal Of Reg Plate')",
      "application/vnd.jupyter.widget-view+json": {
       "version_major": 2,
       "version_minor": 0,
       "model_id": "3ae81c3880f24a3dba0d5488b9a06b06"
      }
     },
     "metadata": {},
     "output_type": "display_data"
    },
    {
     "data": {
      "text/plain": "Checkbox(value=False, description='Unlaw. Use of Computer - Access to Disrupt Funct.')",
      "application/vnd.jupyter.widget-view+json": {
       "version_major": 2,
       "version_minor": 0,
       "model_id": "b77a3218f204490c9ea112f69eba53bd"
      }
     },
     "metadata": {},
     "output_type": "display_data"
    },
    {
     "data": {
      "text/plain": "Checkbox(value=False, description='Trademark Counterfeiting - Offers for Sale')",
      "application/vnd.jupyter.widget-view+json": {
       "version_major": 2,
       "version_minor": 0,
       "model_id": "f9ec21f373ed4e4d968a6d591a1f2d47"
      }
     },
     "metadata": {},
     "output_type": "display_data"
    },
    {
     "data": {
      "text/plain": "Checkbox(value=False, description='Rec Deposits Failing Finan Instit')",
      "application/vnd.jupyter.widget-view+json": {
       "version_major": 2,
       "version_minor": 0,
       "model_id": "2bbded0f2ceb4ae8aaad89be3d72e5b8"
      }
     },
     "metadata": {},
     "output_type": "display_data"
    },
    {
     "data": {
      "text/plain": "Checkbox(value=False, description='Criminal Attempt - Sexual Intercourse With Animal')",
      "application/vnd.jupyter.widget-view+json": {
       "version_major": 2,
       "version_minor": 0,
       "model_id": "4f08c3f888314bc5b034725616983afd"
      }
     },
     "metadata": {},
     "output_type": "display_data"
    },
    {
     "data": {
      "text/plain": "Checkbox(value=False, description='Corrupt Organizations Int Poss Contr Subst By Per Not Reg Conspiracy Dispos…",
      "application/vnd.jupyter.widget-view+json": {
       "version_major": 2,
       "version_minor": 0,
       "model_id": "db26fd9483df440eb31598cd5061bcc7"
      }
     },
     "metadata": {},
     "output_type": "display_data"
    },
    {
     "data": {
      "text/plain": "Checkbox(value=False, description='False Report - Falsely Incriminate Another False Report - Falsely Incrimina…",
      "application/vnd.jupyter.widget-view+json": {
       "version_major": 2,
       "version_minor": 0,
       "model_id": "c293640b808746cea8f629c627dd090c"
      }
     },
     "metadata": {},
     "output_type": "display_data"
    },
    {
     "data": {
      "text/plain": "Checkbox(value=False, description='Burglary - Overnight Accommodation')",
      "application/vnd.jupyter.widget-view+json": {
       "version_major": 2,
       "version_minor": 0,
       "model_id": "7785d75d55e849fba24be9881f70e81e"
      }
     },
     "metadata": {},
     "output_type": "display_data"
    },
    {
     "data": {
      "text/plain": "Checkbox(value=False, description='Tamper Records Or Id-Writing Tamper Records Or Id-Writing Tamper Records Or…",
      "application/vnd.jupyter.widget-view+json": {
       "version_major": 2,
       "version_minor": 0,
       "model_id": "f82ea3fb4c9e408d9ab42d12cf2b362f"
      }
     },
     "metadata": {},
     "output_type": "display_data"
    },
    {
     "data": {
      "text/plain": "Checkbox(value=False, description='Reckless')",
      "application/vnd.jupyter.widget-view+json": {
       "version_major": 2,
       "version_minor": 0,
       "model_id": "188dd33dd956418a9503a0b9a596407a"
      }
     },
     "metadata": {},
     "output_type": "display_data"
    },
    {
     "data": {
      "text/plain": "Checkbox(value=False, description='Assault By Prisoner')",
      "application/vnd.jupyter.widget-view+json": {
       "version_major": 2,
       "version_minor": 0,
       "model_id": "df8dc9508e0447d18c0faca22361ecae"
      }
     },
     "metadata": {},
     "output_type": "display_data"
    },
    {
     "data": {
      "text/plain": "Checkbox(value=False, description='Poss Instrument Of Crime W/Int Criminal Mischief')",
      "application/vnd.jupyter.widget-view+json": {
       "version_major": 2,
       "version_minor": 0,
       "model_id": "33bacc3ba1304b66958606f8d8feb76d"
      }
     },
     "metadata": {},
     "output_type": "display_data"
    },
    {
     "data": {
      "text/plain": "Checkbox(value=False, description='Duties At Stop Sign')",
      "application/vnd.jupyter.widget-view+json": {
       "version_major": 2,
       "version_minor": 0,
       "model_id": "d475bb3e9a9b465bb34a5117e42de6b7"
      }
     },
     "metadata": {},
     "output_type": "display_data"
    },
    {
     "data": {
      "text/plain": "Checkbox(value=False, description='Duty of Driver in Emergency Response Areas - Pass in Lane Not Adjacent to A…",
      "application/vnd.jupyter.widget-view+json": {
       "version_major": 2,
       "version_minor": 0,
       "model_id": "ae1cbb7f601041dda5b5584c321fa96c"
      }
     },
     "metadata": {},
     "output_type": "display_data"
    },
    {
     "data": {
      "text/plain": "Checkbox(value=False, description='Homicide By Vehicle')",
      "application/vnd.jupyter.widget-view+json": {
       "version_major": 2,
       "version_minor": 0,
       "model_id": "2657e7b58e2a44a9b0e039500809effb"
      }
     },
     "metadata": {},
     "output_type": "display_data"
    },
    {
     "data": {
      "text/plain": "Checkbox(value=False, description='\"Submit Claim Serv Not Rendd To Pt\"')",
      "application/vnd.jupyter.widget-view+json": {
       "version_major": 2,
       "version_minor": 0,
       "model_id": "4a42855b91e840f883464e86fc9676d8"
      }
     },
     "metadata": {},
     "output_type": "display_data"
    },
    {
     "data": {
      "text/plain": "Checkbox(value=False, description='Indecent Assault Forcible Compulsion')",
      "application/vnd.jupyter.widget-view+json": {
       "version_major": 2,
       "version_minor": 0,
       "model_id": "6f3e9112fb01448f98b8801ceca9b9d7"
      }
     },
     "metadata": {},
     "output_type": "display_data"
    },
    {
     "data": {
      "text/plain": "Checkbox(value=False, description='Exceed Max Speed Lim Estb By 1 MPH')",
      "application/vnd.jupyter.widget-view+json": {
       "version_major": 2,
       "version_minor": 0,
       "model_id": "a4af206cad34473bbea591e673ac9d66"
      }
     },
     "metadata": {},
     "output_type": "display_data"
    },
    {
     "data": {
      "text/plain": "Checkbox(value=False, description='Megan L. Filed By ATTORNEY INFORMATION ENTRIES')",
      "application/vnd.jupyter.widget-view+json": {
       "version_major": 2,
       "version_minor": 0,
       "model_id": "a818278f21ac4bd9977e4e082c0c56d2"
      }
     },
     "metadata": {},
     "output_type": "display_data"
    },
    {
     "data": {
      "text/plain": "Checkbox(value=False, description='Hinder App/Prosec-Harbor Or Conceal')",
      "application/vnd.jupyter.widget-view+json": {
       "version_major": 2,
       "version_minor": 0,
       "model_id": "8595ac46fe56446f8b48524714163116"
      }
     },
     "metadata": {},
     "output_type": "display_data"
    },
    {
     "data": {
      "text/plain": "Checkbox(value=False, description='Criminal Attempt - Rape Forcible Compulsion')",
      "application/vnd.jupyter.widget-view+json": {
       "version_major": 2,
       "version_minor": 0,
       "model_id": "06683d729296446a9a6d67d598704bf6"
      }
     },
     "metadata": {},
     "output_type": "display_data"
    },
    {
     "data": {
      "text/plain": "Checkbox(value=False, description='Use/Poss Of Drug Paraph No Headlights Incarceration/Diversionary Period Dis…",
      "application/vnd.jupyter.widget-view+json": {
       "version_major": 2,
       "version_minor": 0,
       "model_id": "2cd12a7f37ca48a0a1bd76a6f900f021"
      }
     },
     "metadata": {},
     "output_type": "display_data"
    },
    {
     "data": {
      "text/plain": "Checkbox(value=False, description='Criminal Attempt - Criminal Homicide')",
      "application/vnd.jupyter.widget-view+json": {
       "version_major": 2,
       "version_minor": 0,
       "model_id": "1ec84d8c2a684cf2a246f0d43252f305"
      }
     },
     "metadata": {},
     "output_type": "display_data"
    },
    {
     "data": {
      "text/plain": "Checkbox(value=False, description='Criminal Solicitation - Institutional Sexual Assault')",
      "application/vnd.jupyter.widget-view+json": {
       "version_major": 2,
       "version_minor": 0,
       "model_id": "0bebde607dea4d0eb5000319d5dcfb96"
      }
     },
     "metadata": {},
     "output_type": "display_data"
    },
    {
     "data": {
      "text/plain": "Checkbox(value=False, description='DUI: Controlled Substance - Combination Alcohol/Drugs - 1st Offense')",
      "application/vnd.jupyter.widget-view+json": {
       "version_major": 2,
       "version_minor": 0,
       "model_id": "7c6222c6a9254e5d829ee00ba0d66c2f"
      }
     },
     "metadata": {},
     "output_type": "display_data"
    },
    {
     "data": {
      "text/plain": "Checkbox(value=False, description='Tamper With Public Record/Information')",
      "application/vnd.jupyter.widget-view+json": {
       "version_major": 2,
       "version_minor": 0,
       "model_id": "68e72bd54d254aa49dc9a95db2365b77"
      }
     },
     "metadata": {},
     "output_type": "display_data"
    },
    {
     "data": {
      "text/plain": "Checkbox(value=False, description='Use/Poss Of Drug Paraph Poss Instrument Of Crime W/Int Make Repairs/Sell/Et…",
      "application/vnd.jupyter.widget-view+json": {
       "version_major": 2,
       "version_minor": 0,
       "model_id": "3c3b309e6fe949dd837d903cb40ce395"
      }
     },
     "metadata": {},
     "output_type": "display_data"
    },
    {
     "data": {
      "text/plain": "Checkbox(value=False, description='PA 19110 Representing: Tabor')",
      "application/vnd.jupyter.widget-view+json": {
       "version_major": 2,
       "version_minor": 0,
       "model_id": "e0e479bb044a4e989b87edcccccb044f"
      }
     },
     "metadata": {},
     "output_type": "display_data"
    },
    {
     "data": {
      "text/plain": "Checkbox(value=False, description='Criminal Use Of Communication Facility')",
      "application/vnd.jupyter.widget-view+json": {
       "version_major": 2,
       "version_minor": 0,
       "model_id": "4c1db2ee57a446078748722095d82abb"
      }
     },
     "metadata": {},
     "output_type": "display_data"
    },
    {
     "data": {
      "text/plain": "Checkbox(value=False, description='Criminal Attempt - Robbery Of Motor Vehicle')",
      "application/vnd.jupyter.widget-view+json": {
       "version_major": 2,
       "version_minor": 0,
       "model_id": "c026b73826864d688271563f6c6c79cd"
      }
     },
     "metadata": {},
     "output_type": "display_data"
    },
    {
     "data": {
      "text/plain": "Checkbox(value=False, description='Renewal Of Registration')",
      "application/vnd.jupyter.widget-view+json": {
       "version_major": 2,
       "version_minor": 0,
       "model_id": "3e28ebf17ed34b38af87d77cb7cb123a"
      }
     },
     "metadata": {},
     "output_type": "display_data"
    },
    {
     "data": {
      "text/plain": "Checkbox(value=False, description='Unlawful Sales Of Liquor')",
      "application/vnd.jupyter.widget-view+json": {
       "version_major": 2,
       "version_minor": 0,
       "model_id": "31929dc5731945d4881cbb3b6069f678"
      }
     },
     "metadata": {},
     "output_type": "display_data"
    },
    {
     "data": {
      "text/plain": "Checkbox(value=False, description='PA 19103 Representing: Gomez')",
      "application/vnd.jupyter.widget-view+json": {
       "version_major": 2,
       "version_minor": 0,
       "model_id": "221ab12132194958a8903c2a205571e8"
      }
     },
     "metadata": {},
     "output_type": "display_data"
    },
    {
     "data": {
      "text/plain": "Checkbox(value=False, description='Criminal Attempt - Agg. Ind. Assault W/O Consent')",
      "application/vnd.jupyter.widget-view+json": {
       "version_major": 2,
       "version_minor": 0,
       "model_id": "4e56ea9291ec46838ccdb4196e4b3c82"
      }
     },
     "metadata": {},
     "output_type": "display_data"
    },
    {
     "data": {
      "text/plain": "Checkbox(value=False, description='Unsworn Falsification to Authorities')",
      "application/vnd.jupyter.widget-view+json": {
       "version_major": 2,
       "version_minor": 0,
       "model_id": "3fadeec5cae04fe993c606cf057a03ac"
      }
     },
     "metadata": {},
     "output_type": "display_data"
    },
    {
     "data": {
      "text/plain": "Checkbox(value=False, description='PA 19102 Representing: Streeter')",
      "application/vnd.jupyter.widget-view+json": {
       "version_major": 2,
       "version_minor": 0,
       "model_id": "81bdfb50130d4fe1b3538e42649f22fe"
      }
     },
     "metadata": {},
     "output_type": "display_data"
    },
    {
     "data": {
      "text/plain": "Checkbox(value=False, description='Carry Firearms Public In Phila Driv While Oper Priv Susp Or Revoked Incarce…",
      "application/vnd.jupyter.widget-view+json": {
       "version_major": 2,
       "version_minor": 0,
       "model_id": "bff7e9df64424d84b3e1202d2a6b7708"
      }
     },
     "metadata": {},
     "output_type": "display_data"
    },
    {
     "data": {
      "text/plain": "Checkbox(value=False, description='Criminal Attempt - Disarming Law Enforcement Officer - Without Lawful Autho…",
      "application/vnd.jupyter.widget-view+json": {
       "version_major": 2,
       "version_minor": 0,
       "model_id": "59cdac5b27f94aee8da2e3ed0fde35fe"
      }
     },
     "metadata": {},
     "output_type": "display_data"
    },
    {
     "data": {
      "text/plain": "Checkbox(value=False, description='Recklessly Endangering Another Person Criminal Mischief Incarceration/Diver…",
      "application/vnd.jupyter.widget-view+json": {
       "version_major": 2,
       "version_minor": 0,
       "model_id": "5d9af392618b4198bb92d82872460ba5"
      }
     },
     "metadata": {},
     "output_type": "display_data"
    },
    {
     "data": {
      "text/plain": "Checkbox(value=False, description='Indecent Exposure')",
      "application/vnd.jupyter.widget-view+json": {
       "version_major": 2,
       "version_minor": 0,
       "model_id": "782bf82524024650a74567c7c966c747"
      }
     },
     "metadata": {},
     "output_type": "display_data"
    },
    {
     "data": {
      "text/plain": "Checkbox(value=False, description='Receiving Stolen Property Criminal Attempt - Theft From A Motor Vehicle Inc…",
      "application/vnd.jupyter.widget-view+json": {
       "version_major": 2,
       "version_minor": 0,
       "model_id": "06aba0c111b8481a8941f8ee2ebfae23"
      }
     },
     "metadata": {},
     "output_type": "display_data"
    },
    {
     "data": {
      "text/plain": "Checkbox(value=False, description='Theft Extort-Threat To Commit Anothr Crm')",
      "application/vnd.jupyter.widget-view+json": {
       "version_major": 2,
       "version_minor": 0,
       "model_id": "30b637bc8aca44df884df56498c557df"
      }
     },
     "metadata": {},
     "output_type": "display_data"
    },
    {
     "data": {
      "text/plain": "Checkbox(value=False, description='Firearms Not To Be Carried W/O License Int Poss Contr Subst By Per Not Reg …",
      "application/vnd.jupyter.widget-view+json": {
       "version_major": 2,
       "version_minor": 0,
       "model_id": "7467d7e5f34e4a0b8af71a8740b016fb"
      }
     },
     "metadata": {},
     "output_type": "display_data"
    },
    {
     "data": {
      "text/plain": "Checkbox(value=False, description='Poss Instrument Of Crime W/Int Poss Instrument Of Crime W/Int Poss Instrume…",
      "application/vnd.jupyter.widget-view+json": {
       "version_major": 2,
       "version_minor": 0,
       "model_id": "508dadb4c4924f0587332602d9a9ba65"
      }
     },
     "metadata": {},
     "output_type": "display_data"
    },
    {
     "data": {
      "text/plain": "Checkbox(value=False, description='Unauthorized Sale/Transfer Of Tickets')",
      "application/vnd.jupyter.widget-view+json": {
       "version_major": 2,
       "version_minor": 0,
       "model_id": "c7eb0312a856485a91cfb5397dc7b496"
      }
     },
     "metadata": {},
     "output_type": "display_data"
    },
    {
     "data": {
      "text/plain": "Checkbox(value=False, description='Carrying Loaded Weapon')",
      "application/vnd.jupyter.widget-view+json": {
       "version_major": 2,
       "version_minor": 0,
       "model_id": "3262bd52f1df4d4084492f50913f3df9"
      }
     },
     "metadata": {},
     "output_type": "display_data"
    },
    {
     "data": {
      "text/plain": "Checkbox(value=False, description='Steven Filed By ATTORNEY INFORMATION ENTRIES')",
      "application/vnd.jupyter.widget-view+json": {
       "version_major": 2,
       "version_minor": 0,
       "model_id": "edcdcfb992c844869f3dd7539bd6929c"
      }
     },
     "metadata": {},
     "output_type": "display_data"
    },
    {
     "data": {
      "text/plain": "Checkbox(value=False, description='Simple Assault Recklessly Endangering Another Person Disposition Date Offen…",
      "application/vnd.jupyter.widget-view+json": {
       "version_major": 2,
       "version_minor": 0,
       "model_id": "609d2df7572842a6876df0bebb815b00"
      }
     },
     "metadata": {},
     "output_type": "display_data"
    },
    {
     "data": {
      "text/plain": "Checkbox(value=False, description='MICHAEL Filed By ATTORNEY INFORMATION ENTRIES')",
      "application/vnd.jupyter.widget-view+json": {
       "version_major": 2,
       "version_minor": 0,
       "model_id": "f35526b4e6df4b39a3e3e33ca9328e85"
      }
     },
     "metadata": {},
     "output_type": "display_data"
    },
    {
     "data": {
      "text/plain": "Checkbox(value=False, description='Poss Instrument Of Crime W/Int Simple Assault Recklessly Endangering Anothe…",
      "application/vnd.jupyter.widget-view+json": {
       "version_major": 2,
       "version_minor": 0,
       "model_id": "a441e6c4521c411286989aeee2afef6b"
      }
     },
     "metadata": {},
     "output_type": "display_data"
    },
    {
     "data": {
      "text/plain": "Checkbox(value=False, description='Dennis C. Proceed to Court Proceed to Court Proceed to Court Proceed to Cou…",
      "application/vnd.jupyter.widget-view+json": {
       "version_major": 2,
       "version_minor": 0,
       "model_id": "1daf55b091d748cf98700e6259ac158d"
      }
     },
     "metadata": {},
     "output_type": "display_data"
    },
    {
     "data": {
      "text/plain": "Checkbox(value=False, description='Rodney Filed By ATTORNEY INFORMATION ENTRIES')",
      "application/vnd.jupyter.widget-view+json": {
       "version_major": 2,
       "version_minor": 0,
       "model_id": "ab7beff73fa94bc89fc59e8c04296209"
      }
     },
     "metadata": {},
     "output_type": "display_data"
    },
    {
     "data": {
      "text/plain": "Checkbox(value=False, description='Receiving Stolen Property Poss Instrument Of Crime W/Int Terroristic Threat…",
      "application/vnd.jupyter.widget-view+json": {
       "version_major": 2,
       "version_minor": 0,
       "model_id": "de95f63731174ef7be13fe1188f70136"
      }
     },
     "metadata": {},
     "output_type": "display_data"
    },
    {
     "data": {
      "text/plain": "Checkbox(value=False, description='Criminal Solicitation - Prom Pros-Inmate In House Of Prost/Business')",
      "application/vnd.jupyter.widget-view+json": {
       "version_major": 2,
       "version_minor": 0,
       "model_id": "eaf50239cb6442fe9abbcaae262a77c0"
      }
     },
     "metadata": {},
     "output_type": "display_data"
    },
    {
     "data": {
      "text/plain": "Checkbox(value=False, description='Recklessly Endangering Another Person Harassment - Subject Other to Physica…",
      "application/vnd.jupyter.widget-view+json": {
       "version_major": 2,
       "version_minor": 0,
       "model_id": "bb39d5857d584d4db4a2ef5d00fd72e6"
      }
     },
     "metadata": {},
     "output_type": "display_data"
    },
    {
     "data": {
      "text/plain": "Checkbox(value=False, description='Rape of Child IDSI Threat Forcible Compulsion IDSI Person Less Than 16 Yrs …",
      "application/vnd.jupyter.widget-view+json": {
       "version_major": 2,
       "version_minor": 0,
       "model_id": "2756060a75864636a79b220349556393"
      }
     },
     "metadata": {},
     "output_type": "display_data"
    },
    {
     "data": {
      "text/plain": "Checkbox(value=False, description='Criminal Attempt - Interference W/Custody Of Children')",
      "application/vnd.jupyter.widget-view+json": {
       "version_major": 2,
       "version_minor": 0,
       "model_id": "42ffa0197f6a4a7792b8b733a8e5576c"
      }
     },
     "metadata": {},
     "output_type": "display_data"
    },
    {
     "data": {
      "text/plain": "Checkbox(value=False, description='False Identification To Law Enforcement Officer')",
      "application/vnd.jupyter.widget-view+json": {
       "version_major": 2,
       "version_minor": 0,
       "model_id": "d29687260a36475fab58f3913f0d7ccd"
      }
     },
     "metadata": {},
     "output_type": "display_data"
    },
    {
     "data": {
      "text/plain": "Checkbox(value=False, description='Crim Tres-Enter Structure')",
      "application/vnd.jupyter.widget-view+json": {
       "version_major": 2,
       "version_minor": 0,
       "model_id": "6f85a110ebe24e67aff2513c93c0d720"
      }
     },
     "metadata": {},
     "output_type": "display_data"
    },
    {
     "data": {
      "text/plain": "Checkbox(value=False, description='Introduce Weapon May Be Use Escape')",
      "application/vnd.jupyter.widget-view+json": {
       "version_major": 2,
       "version_minor": 0,
       "model_id": "aeeecf552267434fad23fd5162cde87b"
      }
     },
     "metadata": {},
     "output_type": "display_data"
    },
    {
     "data": {
      "text/plain": "Checkbox(value=False, description='Poss Instrument Of Crime W/Int Simple Assault Recklessly Endangering Anothe…",
      "application/vnd.jupyter.widget-view+json": {
       "version_major": 2,
       "version_minor": 0,
       "model_id": "e62c82e06958446e9f6b6591dfaf98d8"
      }
     },
     "metadata": {},
     "output_type": "display_data"
    },
    {
     "data": {
      "text/plain": "Checkbox(value=False, description='Theft By Unlaw Taking-Movable Prop Receiving Stolen Property Incarceration/…",
      "application/vnd.jupyter.widget-view+json": {
       "version_major": 2,
       "version_minor": 0,
       "model_id": "635bcec02a6c4b9ea1ecb2df1befda24"
      }
     },
     "metadata": {},
     "output_type": "display_data"
    },
    {
     "data": {
      "text/plain": "Checkbox(value=False, description='Tyliek A. Proceed to Court Proceed to Court Proceed to Court Proceed to Cou…",
      "application/vnd.jupyter.widget-view+json": {
       "version_major": 2,
       "version_minor": 0,
       "model_id": "508662ebc2cc407bb61f128b2ce14761"
      }
     },
     "metadata": {},
     "output_type": "display_data"
    },
    {
     "data": {
      "text/plain": "Checkbox(value=False, description='Contempt For Violation of Order or Agreement')",
      "application/vnd.jupyter.widget-view+json": {
       "version_major": 2,
       "version_minor": 0,
       "model_id": "e7f49a6f36eb4e3aaf82a04fdd864fec"
      }
     },
     "metadata": {},
     "output_type": "display_data"
    },
    {
     "data": {
      "text/plain": "Checkbox(value=False, description='Simple Assault Recklessly Endangering Another Person')",
      "application/vnd.jupyter.widget-view+json": {
       "version_major": 2,
       "version_minor": 0,
       "model_id": "390830ed592142fba31cebc7180a304a"
      }
     },
     "metadata": {},
     "output_type": "display_data"
    },
    {
     "data": {
      "text/plain": "Checkbox(value=False, description='Terroristic Threats W/ Int To Terrorize Another')",
      "application/vnd.jupyter.widget-view+json": {
       "version_major": 2,
       "version_minor": 0,
       "model_id": "d70e33d552f84aaa84ad1042c2a03ffc"
      }
     },
     "metadata": {},
     "output_type": "display_data"
    },
    {
     "data": {
      "text/plain": "Checkbox(value=False, description='Criminal Attempt - Aggravated Assault - Attempts to cause SBI or causes inj…",
      "application/vnd.jupyter.widget-view+json": {
       "version_major": 2,
       "version_minor": 0,
       "model_id": "2edca09931614085b2bb63805245da1a"
      }
     },
     "metadata": {},
     "output_type": "display_data"
    },
    {
     "data": {
      "text/plain": "Checkbox(value=False, description='Simple Assault Recklessly Endangering Another Person Disposition Date Offen…",
      "application/vnd.jupyter.widget-view+json": {
       "version_major": 2,
       "version_minor": 0,
       "model_id": "d0f6ff78750940988eb54fbd63c41012"
      }
     },
     "metadata": {},
     "output_type": "display_data"
    },
    {
     "data": {
      "text/plain": "Checkbox(value=False, description='Ayinde Proceed to Court Proceed to Court Proceed to Court Proceed to Court …",
      "application/vnd.jupyter.widget-view+json": {
       "version_major": 2,
       "version_minor": 0,
       "model_id": "b228c435eb794736acbf831424a47aec"
      }
     },
     "metadata": {},
     "output_type": "display_data"
    },
    {
     "data": {
      "text/plain": "Checkbox(value=False, description='Carry Firearms Public In Phila Carrying Loaded Weapon')",
      "application/vnd.jupyter.widget-view+json": {
       "version_major": 2,
       "version_minor": 0,
       "model_id": "ccebba470589402fa6096211f1242f38"
      }
     },
     "metadata": {},
     "output_type": "display_data"
    },
    {
     "data": {
      "text/plain": "Checkbox(value=False, description='PA 19102 Filed By ATTORNEY INFORMATION ENTRIES')",
      "application/vnd.jupyter.widget-view+json": {
       "version_major": 2,
       "version_minor": 0,
       "model_id": "7a5310d647a545398efcc51ae33b2951"
      }
     },
     "metadata": {},
     "output_type": "display_data"
    },
    {
     "data": {
      "text/plain": "Checkbox(value=False, description='Disorder Conduct Obscene Lang/Gest')",
      "application/vnd.jupyter.widget-view+json": {
       "version_major": 2,
       "version_minor": 0,
       "model_id": "324e2d6ebd0f4f67beadec25fbf61e14"
      }
     },
     "metadata": {},
     "output_type": "display_data"
    },
    {
     "data": {
      "text/plain": "Checkbox(value=False, description='Anthony Filed By ATTORNEY INFORMATION ENTRIES')",
      "application/vnd.jupyter.widget-view+json": {
       "version_major": 2,
       "version_minor": 0,
       "model_id": "957e55f95b64427aa9e73efbfcce42ef"
      }
     },
     "metadata": {},
     "output_type": "display_data"
    },
    {
     "data": {
      "text/plain": "Checkbox(value=False, description='Dec Bus Pract - False Weight or Measure')",
      "application/vnd.jupyter.widget-view+json": {
       "version_major": 2,
       "version_minor": 0,
       "model_id": "592eee795992448c8bbce4f8ba85fcfa"
      }
     },
     "metadata": {},
     "output_type": "display_data"
    },
    {
     "data": {
      "text/plain": "Checkbox(value=False, description='Breach Prv Dev Meas Truth')",
      "application/vnd.jupyter.widget-view+json": {
       "version_major": 2,
       "version_minor": 0,
       "model_id": "8518bca1100d48c6a9393c5a1baf69e4"
      }
     },
     "metadata": {},
     "output_type": "display_data"
    },
    {
     "data": {
      "text/plain": "Checkbox(value=False, description='Corrupt Organizations Int Poss Contr Subst By Per Not Reg')",
      "application/vnd.jupyter.widget-view+json": {
       "version_major": 2,
       "version_minor": 0,
       "model_id": "78d7f9b8e6ad444dbb1b506b8e48781f"
      }
     },
     "metadata": {},
     "output_type": "display_data"
    },
    {
     "data": {
      "text/plain": "Checkbox(value=False, description='Poss Instrument Of Crime W/Int Theft From A Motor Vehicle Resist Arrest/Oth…",
      "application/vnd.jupyter.widget-view+json": {
       "version_major": 2,
       "version_minor": 0,
       "model_id": "b4cc82749736497f986a00de37849257"
      }
     },
     "metadata": {},
     "output_type": "display_data"
    },
    {
     "data": {
      "text/plain": "Checkbox(value=False, description='Conspiracy Theft By Unlaw Taking-Movable Prop Corruption Of Minors Disposit…",
      "application/vnd.jupyter.widget-view+json": {
       "version_major": 2,
       "version_minor": 0,
       "model_id": "d3d6b475a5944dcea78bdd6c7e82374a"
      }
     },
     "metadata": {},
     "output_type": "display_data"
    },
    {
     "data": {
      "text/plain": "Checkbox(value=False, description='Carrying Loaded Weapon Duties At Stop Sign Incarceration/Diversionary Perio…",
      "application/vnd.jupyter.widget-view+json": {
       "version_major": 2,
       "version_minor": 0,
       "model_id": "fc10c4c87aa74b179a30753a2637b9a1"
      }
     },
     "metadata": {},
     "output_type": "display_data"
    },
    {
     "data": {
      "text/plain": "Checkbox(value=False, description='Loitering And Prowling At Night Time')",
      "application/vnd.jupyter.widget-view+json": {
       "version_major": 2,
       "version_minor": 0,
       "model_id": "c896a6d67664459390726fb80930ed84"
      }
     },
     "metadata": {},
     "output_type": "display_data"
    },
    {
     "data": {
      "text/plain": "Checkbox(value=False, description='Stalking - Repeatedly Commit Acts To Cause Fear')",
      "application/vnd.jupyter.widget-view+json": {
       "version_major": 2,
       "version_minor": 0,
       "model_id": "3e8ba5fc27384ae3b0bc742b40763d98"
      }
     },
     "metadata": {},
     "output_type": "display_data"
    },
    {
     "data": {
      "text/plain": "Checkbox(value=False, description='Dr W/O Light To Avoid Ident Arrest')",
      "application/vnd.jupyter.widget-view+json": {
       "version_major": 2,
       "version_minor": 0,
       "model_id": "2793d16d57784115b9e764a365c3a491"
      }
     },
     "metadata": {},
     "output_type": "display_data"
    },
    {
     "data": {
      "text/plain": "Checkbox(value=False, description='Disorderly Conduct-Unreasonable Noise')",
      "application/vnd.jupyter.widget-view+json": {
       "version_major": 2,
       "version_minor": 0,
       "model_id": "d3f8eb6026c64e638f1abe7df5f21a41"
      }
     },
     "metadata": {},
     "output_type": "display_data"
    },
    {
     "data": {
      "text/plain": "Checkbox(value=False, description='Too Slow For Conditions Careless Driving')",
      "application/vnd.jupyter.widget-view+json": {
       "version_major": 2,
       "version_minor": 0,
       "model_id": "76479fa8b4df4e11933fb0f27f31e24a"
      }
     },
     "metadata": {},
     "output_type": "display_data"
    },
    {
     "data": {
      "text/plain": "Checkbox(value=False, description='Criminal Attempt - Strangulation - Applying Pressure to Throat or Neck')",
      "application/vnd.jupyter.widget-view+json": {
       "version_major": 2,
       "version_minor": 0,
       "model_id": "785ec2977c8b4e60a4eadc7747df0dc9"
      }
     },
     "metadata": {},
     "output_type": "display_data"
    },
    {
     "data": {
      "text/plain": "Checkbox(value=False, description='Criminal Solicitation - IDSI Forcible Compulsion')",
      "application/vnd.jupyter.widget-view+json": {
       "version_major": 2,
       "version_minor": 0,
       "model_id": "2755ada9974d4ec9b539b8082f257f1d"
      }
     },
     "metadata": {},
     "output_type": "display_data"
    },
    {
     "data": {
      "text/plain": "Checkbox(value=False, description='Fail To Yield Right Of Way To Ped')",
      "application/vnd.jupyter.widget-view+json": {
       "version_major": 2,
       "version_minor": 0,
       "model_id": "96a05318008c478cb504ee4f878b6624"
      }
     },
     "metadata": {},
     "output_type": "display_data"
    },
    {
     "data": {
      "text/plain": "Checkbox(value=False, description='Alteration/Destruction Of Vin')",
      "application/vnd.jupyter.widget-view+json": {
       "version_major": 2,
       "version_minor": 0,
       "model_id": "080b3c7421b74898985c4966d47fe403"
      }
     },
     "metadata": {},
     "output_type": "display_data"
    },
    {
     "data": {
      "text/plain": "Checkbox(value=False, description='Propel Missile Into Occ Vehicles')",
      "application/vnd.jupyter.widget-view+json": {
       "version_major": 2,
       "version_minor": 0,
       "model_id": "5d14f52fc28f4872a007637707a69365"
      }
     },
     "metadata": {},
     "output_type": "display_data"
    },
    {
     "data": {
      "text/plain": "Checkbox(value=False, description='Firearm Not To Be Carried W/O License-No Crim Viol')",
      "application/vnd.jupyter.widget-view+json": {
       "version_major": 2,
       "version_minor": 0,
       "model_id": "909d5196f65548d3929020ddd5c2df4a"
      }
     },
     "metadata": {},
     "output_type": "display_data"
    },
    {
     "data": {
      "text/plain": "Checkbox(value=False, description='Weapons of Mass Dest. - Unlawful Poss or Manu Weapons of Mass Dest. - Unlaw…",
      "application/vnd.jupyter.widget-view+json": {
       "version_major": 2,
       "version_minor": 0,
       "model_id": "8be80a68bcf54d0f92764f4dd5f713d7"
      }
     },
     "metadata": {},
     "output_type": "display_data"
    },
    {
     "data": {
      "text/plain": "Checkbox(value=False, description='Forgery - Alter Writing Forgery - Alter Writing Incarceration/Diversionary …",
      "application/vnd.jupyter.widget-view+json": {
       "version_major": 2,
       "version_minor": 0,
       "model_id": "52e88e72d60a433a8a038b7a2a8ebe56"
      }
     },
     "metadata": {},
     "output_type": "display_data"
    },
    {
     "data": {
      "text/plain": "Checkbox(value=False, description='Aggravated Cruelty to Animals - Causing SBI or Death')",
      "application/vnd.jupyter.widget-view+json": {
       "version_major": 2,
       "version_minor": 0,
       "model_id": "441605f54dc34fbbba48e5e64c248997"
      }
     },
     "metadata": {},
     "output_type": "display_data"
    },
    {
     "data": {
      "text/plain": "Checkbox(value=False, description='Turning Movements And Required Signals Unknown Statute Careless Driving Inc…",
      "application/vnd.jupyter.widget-view+json": {
       "version_major": 2,
       "version_minor": 0,
       "model_id": "1d74fe8b0bed4e2f8aebc882181a573b"
      }
     },
     "metadata": {},
     "output_type": "display_data"
    },
    {
     "data": {
      "text/plain": "Checkbox(value=False, description='Delivery')",
      "application/vnd.jupyter.widget-view+json": {
       "version_major": 2,
       "version_minor": 0,
       "model_id": "2a7798e1a1b3443da8c748dba0a1ad63"
      }
     },
     "metadata": {},
     "output_type": "display_data"
    },
    {
     "data": {
      "text/plain": "Checkbox(value=False, description='Reckless Driving')",
      "application/vnd.jupyter.widget-view+json": {
       "version_major": 2,
       "version_minor": 0,
       "model_id": "70e2e45a4c3c4a9f9465a97b689dd103"
      }
     },
     "metadata": {},
     "output_type": "display_data"
    },
    {
     "data": {
      "text/plain": "Checkbox(value=False, description='PA 19102 Representing: Mason')",
      "application/vnd.jupyter.widget-view+json": {
       "version_major": 2,
       "version_minor": 0,
       "model_id": "c8ed0199a7454e069e1b0ba718229f70"
      }
     },
     "metadata": {},
     "output_type": "display_data"
    },
    {
     "data": {
      "text/plain": "Checkbox(value=False, description='Criminal Attempt - Murder')",
      "application/vnd.jupyter.widget-view+json": {
       "version_major": 2,
       "version_minor": 0,
       "model_id": "ba9c4b109ea0460da7facf617a0ba8e0"
      }
     },
     "metadata": {},
     "output_type": "display_data"
    },
    {
     "data": {
      "text/plain": "Checkbox(value=False, description='Fail To Prev Catast-Duty')",
      "application/vnd.jupyter.widget-view+json": {
       "version_major": 2,
       "version_minor": 0,
       "model_id": "499c7726d237413cac0b38149887854c"
      }
     },
     "metadata": {},
     "output_type": "display_data"
    },
    {
     "data": {
      "text/plain": "Checkbox(value=False, description='Conspiracy - Aggravated Assault - Attempts to cause SBI or causes injury wi…",
      "application/vnd.jupyter.widget-view+json": {
       "version_major": 2,
       "version_minor": 0,
       "model_id": "0a77393a0e18475c85bfc20bad9ab1a4"
      }
     },
     "metadata": {},
     "output_type": "display_data"
    },
    {
     "data": {
      "text/plain": "Checkbox(value=False, description='Theft By Unlaw Taking-Movable Prop Receiving Stolen Property Terroristic Th…",
      "application/vnd.jupyter.widget-view+json": {
       "version_major": 2,
       "version_minor": 0,
       "model_id": "dd2767a733c7492e809caf016c2ba9b1"
      }
     },
     "metadata": {},
     "output_type": "display_data"
    },
    {
     "data": {
      "text/plain": "Checkbox(value=False, description='Regist Card Not Signed')",
      "application/vnd.jupyter.widget-view+json": {
       "version_major": 2,
       "version_minor": 0,
       "model_id": "b959b3de4ef84f23943fd2acb607fc0a"
      }
     },
     "metadata": {},
     "output_type": "display_data"
    },
    {
     "data": {
      "text/plain": "Checkbox(value=False, description='Conspiracy - Int Poss Contr Subst By Per Not Reg')",
      "application/vnd.jupyter.widget-view+json": {
       "version_major": 2,
       "version_minor": 0,
       "model_id": "0086d1d9e5f0441b97c2b3d15a6a362e"
      }
     },
     "metadata": {},
     "output_type": "display_data"
    },
    {
     "data": {
      "text/plain": "Checkbox(value=False, description='Terroristic Threats W/ Int To Terrorize Another Simple Assault Aggravated A…",
      "application/vnd.jupyter.widget-view+json": {
       "version_major": 2,
       "version_minor": 0,
       "model_id": "dfbe0e48473d4f4fa6d05a4297d73cfa"
      }
     },
     "metadata": {},
     "output_type": "display_data"
    },
    {
     "data": {
      "text/plain": "Checkbox(value=False, description='False Report - Falsely Incriminate Another False Report - Falsely Incrimina…",
      "application/vnd.jupyter.widget-view+json": {
       "version_major": 2,
       "version_minor": 0,
       "model_id": "f253796f347044cb9da0ad0bb2d909a4"
      }
     },
     "metadata": {},
     "output_type": "display_data"
    },
    {
     "data": {
      "text/plain": "Checkbox(value=False, description='Terroristic Threats W/ Int To Terrorize Another Simple Assault Recklessly E…",
      "application/vnd.jupyter.widget-view+json": {
       "version_major": 2,
       "version_minor": 0,
       "model_id": "9ad72bfbb996458189517edefbcc582d"
      }
     },
     "metadata": {},
     "output_type": "display_data"
    },
    {
     "data": {
      "text/plain": "Checkbox(value=False, description='Poss Instrument Of Crime W/Int Terroristic Threats W/ Int To Terrorize Anot…",
      "application/vnd.jupyter.widget-view+json": {
       "version_major": 2,
       "version_minor": 0,
       "model_id": "7a588f0354404b409976d9031cb55d93"
      }
     },
     "metadata": {},
     "output_type": "display_data"
    },
    {
     "data": {
      "text/plain": "Checkbox(value=False, description='Sell Obscene/Sexual Materials')",
      "application/vnd.jupyter.widget-view+json": {
       "version_major": 2,
       "version_minor": 0,
       "model_id": "b638378e450b418c8f19a743c8ad3fea"
      }
     },
     "metadata": {},
     "output_type": "display_data"
    },
    {
     "data": {
      "text/plain": "Checkbox(value=False, description='Arrest Prior To Requisition')",
      "application/vnd.jupyter.widget-view+json": {
       "version_major": 2,
       "version_minor": 0,
       "model_id": "8dcea1847d384ff781378b89a964702b"
      }
     },
     "metadata": {},
     "output_type": "display_data"
    },
    {
     "data": {
      "text/plain": "Checkbox(value=False, description='Aggravated assault by vehicle')",
      "application/vnd.jupyter.widget-view+json": {
       "version_major": 2,
       "version_minor": 0,
       "model_id": "cca99f1933fa427499698b66f53981a3"
      }
     },
     "metadata": {},
     "output_type": "display_data"
    },
    {
     "data": {
      "text/plain": "Checkbox(value=False, description='Theft By Unlaw Taking-Movable Prop Receiving Stolen Property Unauth Use Mot…",
      "application/vnd.jupyter.widget-view+json": {
       "version_major": 2,
       "version_minor": 0,
       "model_id": "13f6746ac6fb424191103a47cf66037a"
      }
     },
     "metadata": {},
     "output_type": "display_data"
    },
    {
     "data": {
      "text/plain": "Checkbox(value=False, description='Poss Instrument Of Crime W/Int Simple Assault')",
      "application/vnd.jupyter.widget-view+json": {
       "version_major": 2,
       "version_minor": 0,
       "model_id": "3d77c7bf0c064f4a9711c6739c4bb80a"
      }
     },
     "metadata": {},
     "output_type": "display_data"
    },
    {
     "data": {
      "text/plain": "Checkbox(value=False, description='Sales Of Malt/Brewed Bev Not For Consump')",
      "application/vnd.jupyter.widget-view+json": {
       "version_major": 2,
       "version_minor": 0,
       "model_id": "f56ff1f9a742470b8ac2d5a005ef865c"
      }
     },
     "metadata": {},
     "output_type": "display_data"
    },
    {
     "data": {
      "text/plain": "Checkbox(value=False, description='Photograph/Film/Depict on Computer Sex Act - Knowingly or Permitting Child …",
      "application/vnd.jupyter.widget-view+json": {
       "version_major": 2,
       "version_minor": 0,
       "model_id": "af17ff5560534a32b8ddba09351cd074"
      }
     },
     "metadata": {},
     "output_type": "display_data"
    },
    {
     "data": {
      "text/plain": "Checkbox(value=False, description='Theft By Unlaw Taking-Movable Prop Receiving Stolen Property Simple Assault…",
      "application/vnd.jupyter.widget-view+json": {
       "version_major": 2,
       "version_minor": 0,
       "model_id": "76e5e7ad73704b929d6d274e47d8d41b"
      }
     },
     "metadata": {},
     "output_type": "display_data"
    },
    {
     "data": {
      "text/plain": "Checkbox(value=False, description='Deal In Proc Unl Act/Intent To Promote')",
      "application/vnd.jupyter.widget-view+json": {
       "version_major": 2,
       "version_minor": 0,
       "model_id": "c5af7581d0c541899989c51e91a55e8b"
      }
     },
     "metadata": {},
     "output_type": "display_data"
    },
    {
     "data": {
      "text/plain": "Checkbox(value=False, description='Improper Turn / Green Light')",
      "application/vnd.jupyter.widget-view+json": {
       "version_major": 2,
       "version_minor": 0,
       "model_id": "c1f25969f14b41edb05e5cf33a076e01"
      }
     },
     "metadata": {},
     "output_type": "display_data"
    },
    {
     "data": {
      "text/plain": "Checkbox(value=False, description='Aggravated Assault - Attempts to cause or causes BI with deadly weapon')",
      "application/vnd.jupyter.widget-view+json": {
       "version_major": 2,
       "version_minor": 0,
       "model_id": "67d155a2a1de4859ad4c76627185cfe0"
      }
     },
     "metadata": {},
     "output_type": "display_data"
    },
    {
     "data": {
      "text/plain": "Checkbox(value=False, description='Open Lewdness')",
      "application/vnd.jupyter.widget-view+json": {
       "version_major": 2,
       "version_minor": 0,
       "model_id": "b44bd3e4b50d48199e353934746b5b9c"
      }
     },
     "metadata": {},
     "output_type": "display_data"
    },
    {
     "data": {
      "text/plain": "Checkbox(value=False, description='Public Drunkenness And Similar Misconduct')",
      "application/vnd.jupyter.widget-view+json": {
       "version_major": 2,
       "version_minor": 0,
       "model_id": "9d12347b7ee147479dafd11edaa33ad1"
      }
     },
     "metadata": {},
     "output_type": "display_data"
    },
    {
     "data": {
      "text/plain": "Checkbox(value=False, description='Criminal Attempt - Possession Of Firearm Prohibited')",
      "application/vnd.jupyter.widget-view+json": {
       "version_major": 2,
       "version_minor": 0,
       "model_id": "bb66cd0a101b4a3d876928c249a3e80d"
      }
     },
     "metadata": {},
     "output_type": "display_data"
    },
    {
     "data": {
      "text/plain": "Checkbox(value=False, description='Murder')",
      "application/vnd.jupyter.widget-view+json": {
       "version_major": 2,
       "version_minor": 0,
       "model_id": "cd75bfdee4394510aa70c6423a199712"
      }
     },
     "metadata": {},
     "output_type": "display_data"
    },
    {
     "data": {
      "text/plain": "Checkbox(value=False, description='Injure/Tamper Fire Apparatus')",
      "application/vnd.jupyter.widget-view+json": {
       "version_major": 2,
       "version_minor": 0,
       "model_id": "dcd7e1eaae734819b920f9894bb342dc"
      }
     },
     "metadata": {},
     "output_type": "display_data"
    },
    {
     "data": {
      "text/plain": "Checkbox(value=False, description='Poss Instrument Of Crime W/Int Poss Instrument Of Crime W/Int Poss Instrume…",
      "application/vnd.jupyter.widget-view+json": {
       "version_major": 2,
       "version_minor": 0,
       "model_id": "a6a7dc6421fd4f32a2ff96a0c5ce4c04"
      }
     },
     "metadata": {},
     "output_type": "display_data"
    },
    {
     "data": {
      "text/plain": "Checkbox(value=False, description='Simple Assault Recklessly Endangering Another Person Harassment - Subject O…",
      "application/vnd.jupyter.widget-view+json": {
       "version_major": 2,
       "version_minor": 0,
       "model_id": "9601962337ff4b5988cd583030fde95c"
      }
     },
     "metadata": {},
     "output_type": "display_data"
    },
    {
     "data": {
      "text/plain": "Checkbox(value=False, description='Contempt For Violation of Order or Agreement Terroristic Threats W/ Int To …",
      "application/vnd.jupyter.widget-view+json": {
       "version_major": 2,
       "version_minor": 0,
       "model_id": "89cfefb7b22b4588b09f8166040de66e"
      }
     },
     "metadata": {},
     "output_type": "display_data"
    },
    {
     "data": {
      "text/plain": "Checkbox(value=False, description='Illegal Park Stand Double Careless Driving')",
      "application/vnd.jupyter.widget-view+json": {
       "version_major": 2,
       "version_minor": 0,
       "model_id": "928f6ad01dcb47339efe4e97e48854c2"
      }
     },
     "metadata": {},
     "output_type": "display_data"
    },
    {
     "data": {
      "text/plain": "Checkbox(value=False, description='Photograph/Film/Depict on Computer Sex Act - Knowingly or Permitting Child …",
      "application/vnd.jupyter.widget-view+json": {
       "version_major": 2,
       "version_minor": 0,
       "model_id": "7c72047316c34d72b41972731c2a645a"
      }
     },
     "metadata": {},
     "output_type": "display_data"
    },
    {
     "data": {
      "text/plain": "Checkbox(value=False, description='Criminal Solicitation - Indecent Assault Person Less than 13 Years of Age')",
      "application/vnd.jupyter.widget-view+json": {
       "version_major": 2,
       "version_minor": 0,
       "model_id": "c251eb459d304f46b794035e742ef64e"
      }
     },
     "metadata": {},
     "output_type": "display_data"
    },
    {
     "data": {
      "text/plain": "Checkbox(value=False, description='Carry Firearms Public In Phila Poss Instrument Of Crime W/Int Terroristic T…",
      "application/vnd.jupyter.widget-view+json": {
       "version_major": 2,
       "version_minor": 0,
       "model_id": "71b9324022fa4e7b8a56860dab54d2f1"
      }
     },
     "metadata": {},
     "output_type": "display_data"
    },
    {
     "data": {
      "text/plain": "Checkbox(value=False, description='Carrying Firearm During Emergency')",
      "application/vnd.jupyter.widget-view+json": {
       "version_major": 2,
       "version_minor": 0,
       "model_id": "f3a9419fc6604254888a8cead50a062e"
      }
     },
     "metadata": {},
     "output_type": "display_data"
    },
    {
     "data": {
      "text/plain": "Checkbox(value=False, description='Simple Assault Recklessly Endangering Another Person Disposition Date Offen…",
      "application/vnd.jupyter.widget-view+json": {
       "version_major": 2,
       "version_minor": 0,
       "model_id": "b2c49f368c3e4f22aa9ad72d6243f994"
      }
     },
     "metadata": {},
     "output_type": "display_data"
    },
    {
     "data": {
      "text/plain": "Checkbox(value=False, description='Murder of A Law Enforcement Officer of the First Degree')",
      "application/vnd.jupyter.widget-view+json": {
       "version_major": 2,
       "version_minor": 0,
       "model_id": "4db667d6e2fc45a8a57768a2cad26a48"
      }
     },
     "metadata": {},
     "output_type": "display_data"
    },
    {
     "data": {
      "text/plain": "Checkbox(value=False, description='Improper Entering To Intersection')",
      "application/vnd.jupyter.widget-view+json": {
       "version_major": 2,
       "version_minor": 0,
       "model_id": "561a2b64b1b545b78dd9c275fbf28772"
      }
     },
     "metadata": {},
     "output_type": "display_data"
    },
    {
     "data": {
      "text/plain": "Checkbox(value=False, description='False Stmt to Induce Agreement for Home Improvement Services')",
      "application/vnd.jupyter.widget-view+json": {
       "version_major": 2,
       "version_minor": 0,
       "model_id": "00f16e743ae1474c8563123e7c3d97c4"
      }
     },
     "metadata": {},
     "output_type": "display_data"
    },
    {
     "data": {
      "text/plain": "Button(description='Run Prediction', style=ButtonStyle())",
      "application/vnd.jupyter.widget-view+json": {
       "version_major": 2,
       "version_minor": 0,
       "model_id": "8e99657f3dd84329b87d139021d02e87"
      }
     },
     "metadata": {},
     "output_type": "display_data"
    },
    {
     "data": {
      "text/plain": "Output()",
      "application/vnd.jupyter.widget-view+json": {
       "version_major": 2,
       "version_minor": 0,
       "model_id": "0a2a54d4b0324338ba392fd9de4cdc90"
      }
     },
     "metadata": {},
     "output_type": "display_data"
    }
   ],
   "source": [
    "import ipywidgets as widgets\n",
    "from IPython.core.display import display\n",
    "\n",
    "# Bail Prediction Interface\n",
    "\n",
    "age = widgets.BoundedIntText(description='Age:')\n",
    "zip_code = widgets.BoundedIntText(description='Zip Code:')\n",
    "person = widgets.Dropdown(\n",
    "    options=list(set(data['bail_set_by']))\n",
    ")\n",
    "day_of_week = widgets.Dropdown(\n",
    "    options=calendar.day_name\n",
    ")\n",
    "time = widgets.BoundedIntText(description='Time:')\n",
    "\n",
    "display(age)\n",
    "display(zip_code)\n",
    "display(person)\n",
    "display(day_of_week)\n",
    "display(time)\n",
    "\n",
    "offense_boxes = []\n",
    "possible_offenses = list(set(flat_offenses))\n",
    "\n",
    "for offense in possible_offenses:\n",
    "    w = widgets.Checkbox(value=False, description=offense)\n",
    "    display(w)\n",
    "    offense_boxes.append(w)\n",
    "\n",
    "start_button = widgets.Button(description='Run Prediction')\n",
    "output = widgets.Output()\n",
    "display(start_button, output)\n",
    "\n",
    "def on_button_clicked(b):\n",
    "    with output:\n",
    "        person_age = age.value\n",
    "        person_zip = zip_code.value\n",
    "        person_day = day_of_week.value\n",
    "        person_time = time.value\n",
    "        person_bail_setter = person.value\n",
    "\n",
    "        offense_bools = []\n",
    "        for box in offense_boxes:\n",
    "            offense_bools.append(box.value)\n",
    "        i = 0\n",
    "        chosen_offenses = []\n",
    "        for offense in possible_offenses:\n",
    "            if offense_bools[i]:\n",
    "                chosen_offenses.append(offense)\n",
    "            i += 1\n",
    "        # Display message telling the feature is incomplete\n",
    "        # Normally it would be the amount\n",
    "        display(widgets.Label(value=str('$12,548 (Placeholder, Ran out of time!)')))\n",
    "\n",
    "start_button.on_click(on_button_clicked)"
   ]
  },
  {
   "cell_type": "code",
   "execution_count": 16,
   "metadata": {
    "pycharm": {
     "name": "#%%\n"
    }
   },
   "outputs": [
    {
     "ename": "ValueError",
     "evalue": "Plan shapes are not aligned",
     "output_type": "error",
     "traceback": [
      "\u001B[0;31m---------------------------------------------------------------------------\u001B[0m",
      "\u001B[0;31mValueError\u001B[0m                                Traceback (most recent call last)",
      "\u001B[0;32m<ipython-input-16-1bebf626e539>\u001B[0m in \u001B[0;36m<module>\u001B[0;34m\u001B[0m\n\u001B[1;32m      1\u001B[0m \u001B[0mnew_row_dict\u001B[0m \u001B[0;34m=\u001B[0m \u001B[0;34m{\u001B[0m\u001B[0;34m'age'\u001B[0m\u001B[0;34m:\u001B[0m \u001B[0;34m[\u001B[0m\u001B[0;36m43\u001B[0m\u001B[0;34m]\u001B[0m\u001B[0;34m,\u001B[0m \u001B[0;34m'prelim_hearing_time'\u001B[0m\u001B[0;34m:\u001B[0m \u001B[0;34m[\u001B[0m\u001B[0;36m424\u001B[0m\u001B[0;34m]\u001B[0m\u001B[0;34m,\u001B[0m \u001B[0;34m'prelim_hearing_date'\u001B[0m\u001B[0;34m:\u001B[0m \u001B[0;34m[\u001B[0m\u001B[0;34m'Monday'\u001B[0m\u001B[0;34m]\u001B[0m\u001B[0;34m,\u001B[0m \u001B[0;34m'zip'\u001B[0m\u001B[0;34m:\u001B[0m \u001B[0;34m'19121'\u001B[0m\u001B[0;34m,\u001B[0m \u001B[0;34m'offenses'\u001B[0m\u001B[0;34m:\u001B[0m \u001B[0;34m'[\\'Terroristic Threats W/ Int To Terrorize Another\\']'\u001B[0m\u001B[0;34m,\u001B[0m \u001B[0;34m'bail_set_by'\u001B[0m\u001B[0;34m:\u001B[0m \u001B[0;34m[\u001B[0m\u001B[0;34m'Sawyer, Stephanie'\u001B[0m\u001B[0;34m]\u001B[0m\u001B[0;34m}\u001B[0m\u001B[0;34m\u001B[0m\u001B[0;34m\u001B[0m\u001B[0m\n\u001B[1;32m      2\u001B[0m \u001B[0mnew_data\u001B[0m \u001B[0;34m=\u001B[0m \u001B[0mpd\u001B[0m\u001B[0;34m.\u001B[0m\u001B[0mDataFrame\u001B[0m\u001B[0;34m.\u001B[0m\u001B[0mfrom_dict\u001B[0m\u001B[0;34m(\u001B[0m\u001B[0mnew_row_dict\u001B[0m\u001B[0;34m)\u001B[0m\u001B[0;34m\u001B[0m\u001B[0;34m\u001B[0m\u001B[0m\n\u001B[0;32m----> 3\u001B[0;31m \u001B[0mpredictive_data_copy\u001B[0m \u001B[0;34m=\u001B[0m \u001B[0mpredictive_data_copy\u001B[0m\u001B[0;34m.\u001B[0m\u001B[0mappend\u001B[0m\u001B[0;34m(\u001B[0m\u001B[0mnew_data\u001B[0m\u001B[0;34m)\u001B[0m\u001B[0;34m\u001B[0m\u001B[0;34m\u001B[0m\u001B[0m\n\u001B[0m\u001B[1;32m      4\u001B[0m \u001B[0mpredictive_data_copy\u001B[0m \u001B[0;34m=\u001B[0m \u001B[0mpd\u001B[0m\u001B[0;34m.\u001B[0m\u001B[0mget_dummies\u001B[0m\u001B[0;34m(\u001B[0m\u001B[0mpredictive_data_copy\u001B[0m\u001B[0;34m)\u001B[0m\u001B[0;34m\u001B[0m\u001B[0;34m\u001B[0m\u001B[0m\n\u001B[1;32m      5\u001B[0m \u001B[0mpredictive_data_copy\u001B[0m \u001B[0;34m=\u001B[0m \u001B[0mpredictive_data_copy\u001B[0m\u001B[0;34m.\u001B[0m\u001B[0mjoin\u001B[0m\u001B[0;34m(\u001B[0m\u001B[0mdata\u001B[0m\u001B[0;34m.\u001B[0m\u001B[0moffenses\u001B[0m\u001B[0;34m.\u001B[0m\u001B[0mstr\u001B[0m\u001B[0;34m.\u001B[0m\u001B[0mjoin\u001B[0m\u001B[0;34m(\u001B[0m\u001B[0;34m'|'\u001B[0m\u001B[0;34m)\u001B[0m\u001B[0;34m.\u001B[0m\u001B[0mstr\u001B[0m\u001B[0;34m.\u001B[0m\u001B[0mget_dummies\u001B[0m\u001B[0;34m(\u001B[0m\u001B[0;34m)\u001B[0m\u001B[0;34m.\u001B[0m\u001B[0madd_prefix\u001B[0m\u001B[0;34m(\u001B[0m\u001B[0;34m'offenses_'\u001B[0m\u001B[0;34m)\u001B[0m\u001B[0;34m)\u001B[0m\u001B[0;34m\u001B[0m\u001B[0;34m\u001B[0m\u001B[0m\n",
      "\u001B[0;32m/usr/local/lib/python3.7/site-packages/pandas/core/frame.py\u001B[0m in \u001B[0;36mappend\u001B[0;34m(self, other, ignore_index, verify_integrity, sort)\u001B[0m\n\u001B[1;32m   7083\u001B[0m             \u001B[0mignore_index\u001B[0m\u001B[0;34m=\u001B[0m\u001B[0mignore_index\u001B[0m\u001B[0;34m,\u001B[0m\u001B[0;34m\u001B[0m\u001B[0;34m\u001B[0m\u001B[0m\n\u001B[1;32m   7084\u001B[0m             \u001B[0mverify_integrity\u001B[0m\u001B[0;34m=\u001B[0m\u001B[0mverify_integrity\u001B[0m\u001B[0;34m,\u001B[0m\u001B[0;34m\u001B[0m\u001B[0;34m\u001B[0m\u001B[0m\n\u001B[0;32m-> 7085\u001B[0;31m             \u001B[0msort\u001B[0m\u001B[0;34m=\u001B[0m\u001B[0msort\u001B[0m\u001B[0;34m,\u001B[0m\u001B[0;34m\u001B[0m\u001B[0;34m\u001B[0m\u001B[0m\n\u001B[0m\u001B[1;32m   7086\u001B[0m         )\n\u001B[1;32m   7087\u001B[0m \u001B[0;34m\u001B[0m\u001B[0m\n",
      "\u001B[0;32m/usr/local/lib/python3.7/site-packages/pandas/core/reshape/concat.py\u001B[0m in \u001B[0;36mconcat\u001B[0;34m(objs, axis, join, ignore_index, keys, levels, names, verify_integrity, sort, copy)\u001B[0m\n\u001B[1;32m    282\u001B[0m     )\n\u001B[1;32m    283\u001B[0m \u001B[0;34m\u001B[0m\u001B[0m\n\u001B[0;32m--> 284\u001B[0;31m     \u001B[0;32mreturn\u001B[0m \u001B[0mop\u001B[0m\u001B[0;34m.\u001B[0m\u001B[0mget_result\u001B[0m\u001B[0;34m(\u001B[0m\u001B[0;34m)\u001B[0m\u001B[0;34m\u001B[0m\u001B[0;34m\u001B[0m\u001B[0m\n\u001B[0m\u001B[1;32m    285\u001B[0m \u001B[0;34m\u001B[0m\u001B[0m\n\u001B[1;32m    286\u001B[0m \u001B[0;34m\u001B[0m\u001B[0m\n",
      "\u001B[0;32m/usr/local/lib/python3.7/site-packages/pandas/core/reshape/concat.py\u001B[0m in \u001B[0;36mget_result\u001B[0;34m(self)\u001B[0m\n\u001B[1;32m    495\u001B[0m \u001B[0;34m\u001B[0m\u001B[0m\n\u001B[1;32m    496\u001B[0m             new_data = concatenate_block_managers(\n\u001B[0;32m--> 497\u001B[0;31m                 \u001B[0mmgrs_indexers\u001B[0m\u001B[0;34m,\u001B[0m \u001B[0mself\u001B[0m\u001B[0;34m.\u001B[0m\u001B[0mnew_axes\u001B[0m\u001B[0;34m,\u001B[0m \u001B[0mconcat_axis\u001B[0m\u001B[0;34m=\u001B[0m\u001B[0mself\u001B[0m\u001B[0;34m.\u001B[0m\u001B[0maxis\u001B[0m\u001B[0;34m,\u001B[0m \u001B[0mcopy\u001B[0m\u001B[0;34m=\u001B[0m\u001B[0mself\u001B[0m\u001B[0;34m.\u001B[0m\u001B[0mcopy\u001B[0m\u001B[0;34m\u001B[0m\u001B[0;34m\u001B[0m\u001B[0m\n\u001B[0m\u001B[1;32m    498\u001B[0m             )\n\u001B[1;32m    499\u001B[0m             \u001B[0;32mif\u001B[0m \u001B[0;32mnot\u001B[0m \u001B[0mself\u001B[0m\u001B[0;34m.\u001B[0m\u001B[0mcopy\u001B[0m\u001B[0;34m:\u001B[0m\u001B[0;34m\u001B[0m\u001B[0;34m\u001B[0m\u001B[0m\n",
      "\u001B[0;32m/usr/local/lib/python3.7/site-packages/pandas/core/internals/managers.py\u001B[0m in \u001B[0;36mconcatenate_block_managers\u001B[0;34m(mgrs_indexers, axes, concat_axis, copy)\u001B[0m\n\u001B[1;32m   2004\u001B[0m     \u001B[0mblocks\u001B[0m \u001B[0;34m=\u001B[0m \u001B[0;34m[\u001B[0m\u001B[0;34m]\u001B[0m\u001B[0;34m\u001B[0m\u001B[0;34m\u001B[0m\u001B[0m\n\u001B[1;32m   2005\u001B[0m \u001B[0;34m\u001B[0m\u001B[0m\n\u001B[0;32m-> 2006\u001B[0;31m     \u001B[0;32mfor\u001B[0m \u001B[0mplacement\u001B[0m\u001B[0;34m,\u001B[0m \u001B[0mjoin_units\u001B[0m \u001B[0;32min\u001B[0m \u001B[0mconcat_plan\u001B[0m\u001B[0;34m:\u001B[0m\u001B[0;34m\u001B[0m\u001B[0;34m\u001B[0m\u001B[0m\n\u001B[0m\u001B[1;32m   2007\u001B[0m \u001B[0;34m\u001B[0m\u001B[0m\n\u001B[1;32m   2008\u001B[0m         \u001B[0;32mif\u001B[0m \u001B[0mlen\u001B[0m\u001B[0;34m(\u001B[0m\u001B[0mjoin_units\u001B[0m\u001B[0;34m)\u001B[0m \u001B[0;34m==\u001B[0m \u001B[0;36m1\u001B[0m \u001B[0;32mand\u001B[0m \u001B[0;32mnot\u001B[0m \u001B[0mjoin_units\u001B[0m\u001B[0;34m[\u001B[0m\u001B[0;36m0\u001B[0m\u001B[0;34m]\u001B[0m\u001B[0;34m.\u001B[0m\u001B[0mindexers\u001B[0m\u001B[0;34m:\u001B[0m\u001B[0;34m\u001B[0m\u001B[0;34m\u001B[0m\u001B[0m\n",
      "\u001B[0;32m/usr/local/lib/python3.7/site-packages/pandas/core/internals/concat.py\u001B[0m in \u001B[0;36mcombine_concat_plans\u001B[0;34m(plans, concat_axis)\u001B[0m\n\u001B[1;32m    468\u001B[0m         \u001B[0;32mwhile\u001B[0m \u001B[0mnum_ended\u001B[0m\u001B[0;34m[\u001B[0m\u001B[0;36m0\u001B[0m\u001B[0;34m]\u001B[0m \u001B[0;34m!=\u001B[0m \u001B[0mlen\u001B[0m\u001B[0;34m(\u001B[0m\u001B[0mnext_items\u001B[0m\u001B[0;34m)\u001B[0m\u001B[0;34m:\u001B[0m\u001B[0;34m\u001B[0m\u001B[0;34m\u001B[0m\u001B[0m\n\u001B[1;32m    469\u001B[0m             \u001B[0;32mif\u001B[0m \u001B[0mnum_ended\u001B[0m\u001B[0;34m[\u001B[0m\u001B[0;36m0\u001B[0m\u001B[0;34m]\u001B[0m \u001B[0;34m>\u001B[0m \u001B[0;36m0\u001B[0m\u001B[0;34m:\u001B[0m\u001B[0;34m\u001B[0m\u001B[0;34m\u001B[0m\u001B[0m\n\u001B[0;32m--> 470\u001B[0;31m                 \u001B[0;32mraise\u001B[0m \u001B[0mValueError\u001B[0m\u001B[0;34m(\u001B[0m\u001B[0;34m\"Plan shapes are not aligned\"\u001B[0m\u001B[0;34m)\u001B[0m\u001B[0;34m\u001B[0m\u001B[0;34m\u001B[0m\u001B[0m\n\u001B[0m\u001B[1;32m    471\u001B[0m \u001B[0;34m\u001B[0m\u001B[0m\n\u001B[1;32m    472\u001B[0m             \u001B[0mplacements\u001B[0m\u001B[0;34m,\u001B[0m \u001B[0munits\u001B[0m \u001B[0;34m=\u001B[0m \u001B[0mzip\u001B[0m\u001B[0;34m(\u001B[0m\u001B[0;34m*\u001B[0m\u001B[0mnext_items\u001B[0m\u001B[0;34m)\u001B[0m\u001B[0;34m\u001B[0m\u001B[0;34m\u001B[0m\u001B[0m\n",
      "\u001B[0;31mValueError\u001B[0m: Plan shapes are not aligned"
     ]
    }
   ],
   "source": [
    "# new_row_dict = {'age': [43], 'prelim_hearing_time': [424], 'prelim_hearing_date': ['Monday'], 'zip': '19121', 'offenses': '[\\'Terroristic Threats W/ Int To Terrorize Another\\']', 'bail_set_by': ['Sawyer, Stephanie']}\n",
    "# new_data = pd.DataFrame.from_dict(new_row_dict)\n",
    "# predictive_data_copy = predictive_data_copy.append(new_data)\n",
    "# predictive_data_copy = pd.get_dummies(predictive_data_copy)\n",
    "# predictive_data_copy = predictive_data_copy.join(data.offenses.str.join('|').str.get_dummies().add_prefix('offenses_'))\n",
    "# forest.predict(predictive_data_copy.tail())"
   ]
  },
  {
   "cell_type": "code",
   "execution_count": null,
   "outputs": [],
   "source": [
    "# loads population for philly for use in tableau\n",
    "pop_2010 = pd.read_csv('~/Downloads/OwlHacks 2020 Submission/OwlHacks Proj/population_by_zip_2010.csv')\n",
    "\n",
    "pops = {}\n",
    "offenses = []\n",
    "\n",
    "for zip in range(19100, 19200):\n",
    "    zip_pop = pop_2010[pop_2010['zipcode'] == zip]\n",
    "    pops[zip] = sum(zip_pop['population'])\n",
    "    offenses.append(len(data[data['zip'] == str(zip)]))"
   ],
   "metadata": {
    "collapsed": false,
    "pycharm": {
     "name": "#%%\n"
    }
   }
  },
  {
   "cell_type": "code",
   "execution_count": null,
   "metadata": {
    "pycharm": {
     "is_executing": true,
     "name": "#%%\n"
    }
   },
   "outputs": [],
   "source": [
    "save_pops = pd.DataFrame({'Zipcode': list(pops.keys()), 'Population': list(pops.values()), 'Offenses': offenses}, columns=['Zipcode', 'Population', 'Offenses'])\n",
    "save_pops.to_csv('~/Downloads/OwlHacks 2020 Submission/OwlHacks Proj/Phila_Pop_2010.csv')\n",
    "\n"
   ]
  }
 ],
 "metadata": {
  "kernelspec": {
   "display_name": "Python 3",
   "language": "python",
   "name": "python3"
  },
  "language_info": {
   "codemirror_mode": {
    "name": "ipython",
    "version": 3
   },
   "file_extension": ".py",
   "mimetype": "text/x-python",
   "name": "python",
   "nbconvert_exporter": "python",
   "pygments_lexer": "ipython3",
   "version": "3.7.7"
  }
 },
 "nbformat": 4,
 "nbformat_minor": 1
}